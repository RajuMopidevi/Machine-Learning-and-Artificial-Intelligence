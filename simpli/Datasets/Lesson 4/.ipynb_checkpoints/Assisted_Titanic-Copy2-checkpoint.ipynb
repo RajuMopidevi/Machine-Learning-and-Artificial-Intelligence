{
 "cells": [
  {
   "cell_type": "markdown",
   "metadata": {},
   "source": [
    "                                                     **Sinking of Titanic**\n",
    "![Image of Titanic](http://www.titanicuniverse.com/wp-content/uploads/2009/12/titanic-disaster-300x244.jpg)\n",
    "\n",
    "\n",
    "The sinking of the RMS Titanic is one of the most infamous shipwrecks in history. On April 15, 1912, during her maiden voyage, the Titanic sank after colliding with an iceberg, killing 1502 out of 2224 passengers and crew. This sensational tragedy shocked the international community and led to better safety regulations for ships.\n",
    "\n",
    "One of the reasons that the shipwreck led to such loss of life was that there were not enough lifeboats for the passengers and crew. Although there was some element of luck involved in surviving the sinking, some groups of people were more likely to survive than others, such as women, children, and the upper-class.\n",
    "\n",
    "Do a complete analysis on what sorts of people were likely to survive. "
   ]
  },
  {
   "cell_type": "code",
   "execution_count": 1,
   "metadata": {},
   "outputs": [],
   "source": [
    "\n",
    "import pandas as pd\n",
    "import numpy as np\n",
    "\n",
    "# import plotting libraries\n",
    "import matplotlib\n",
    "import matplotlib.pyplot as plt\n",
    "import pandas as pd\n",
    "from pandas.plotting import scatter_matrix\n",
    "%matplotlib inline \n",
    "\n",
    "import seaborn as sns\n",
    "sns.set(style=\"white\", color_codes=True)\n",
    "sns.set(font_scale=1.5)\n",
    "\n",
    "# import libraries for model use and validation\n",
    "\n",
    "from sklearn.linear_model import LogisticRegression\n",
    "from sklearn.model_selection import train_test_split\n",
    "\n",
    "# import libraries for metrics and reporting\n",
    "from sklearn.metrics import confusion_matrix\n",
    "from sklearn.metrics import classification_report\n",
    "from sklearn.metrics import accuracy_score\n",
    "from sklearn.metrics import precision_score\n",
    "from sklearn.metrics import recall_score\n",
    "from sklearn.metrics import f1_score\n",
    "from sklearn import metrics\n",
    "from sklearn.metrics import classification_report\n",
    "\n",
    "import warnings \n",
    "warnings.filterwarnings('ignore')"
   ]
  },
  {
   "cell_type": "code",
   "execution_count": 2,
   "metadata": {},
   "outputs": [
    {
     "data": {
      "text/plain": [
       "(891, 12)"
      ]
     },
     "execution_count": 2,
     "metadata": {},
     "output_type": "execute_result"
    }
   ],
   "source": [
    "df_train = pd.read_csv(\"train.csv\")\n",
    "df_train.shape"
   ]
  },
  {
   "cell_type": "code",
   "execution_count": 3,
   "metadata": {},
   "outputs": [
    {
     "data": {
      "text/html": [
       "<div>\n",
       "<style scoped>\n",
       "    .dataframe tbody tr th:only-of-type {\n",
       "        vertical-align: middle;\n",
       "    }\n",
       "\n",
       "    .dataframe tbody tr th {\n",
       "        vertical-align: top;\n",
       "    }\n",
       "\n",
       "    .dataframe thead th {\n",
       "        text-align: right;\n",
       "    }\n",
       "</style>\n",
       "<table border=\"1\" class=\"dataframe\">\n",
       "  <thead>\n",
       "    <tr style=\"text-align: right;\">\n",
       "      <th></th>\n",
       "      <th>PassengerId</th>\n",
       "      <th>Survived</th>\n",
       "      <th>Pclass</th>\n",
       "      <th>Name</th>\n",
       "      <th>Sex</th>\n",
       "      <th>Age</th>\n",
       "      <th>SibSp</th>\n",
       "      <th>Parch</th>\n",
       "      <th>Ticket</th>\n",
       "      <th>Fare</th>\n",
       "      <th>Cabin</th>\n",
       "      <th>Embarked</th>\n",
       "    </tr>\n",
       "  </thead>\n",
       "  <tbody>\n",
       "    <tr>\n",
       "      <th>0</th>\n",
       "      <td>1</td>\n",
       "      <td>0</td>\n",
       "      <td>3</td>\n",
       "      <td>Braund, Mr. Owen Harris</td>\n",
       "      <td>male</td>\n",
       "      <td>22.0</td>\n",
       "      <td>1</td>\n",
       "      <td>0</td>\n",
       "      <td>A/5 21171</td>\n",
       "      <td>7.2500</td>\n",
       "      <td>NaN</td>\n",
       "      <td>S</td>\n",
       "    </tr>\n",
       "    <tr>\n",
       "      <th>1</th>\n",
       "      <td>2</td>\n",
       "      <td>1</td>\n",
       "      <td>1</td>\n",
       "      <td>Cumings, Mrs. John Bradley (Florence Briggs Th...</td>\n",
       "      <td>female</td>\n",
       "      <td>38.0</td>\n",
       "      <td>1</td>\n",
       "      <td>0</td>\n",
       "      <td>PC 17599</td>\n",
       "      <td>71.2833</td>\n",
       "      <td>C85</td>\n",
       "      <td>C</td>\n",
       "    </tr>\n",
       "    <tr>\n",
       "      <th>2</th>\n",
       "      <td>3</td>\n",
       "      <td>1</td>\n",
       "      <td>3</td>\n",
       "      <td>Heikkinen, Miss. Laina</td>\n",
       "      <td>female</td>\n",
       "      <td>26.0</td>\n",
       "      <td>0</td>\n",
       "      <td>0</td>\n",
       "      <td>STON/O2. 3101282</td>\n",
       "      <td>7.9250</td>\n",
       "      <td>NaN</td>\n",
       "      <td>S</td>\n",
       "    </tr>\n",
       "    <tr>\n",
       "      <th>3</th>\n",
       "      <td>4</td>\n",
       "      <td>1</td>\n",
       "      <td>1</td>\n",
       "      <td>Futrelle, Mrs. Jacques Heath (Lily May Peel)</td>\n",
       "      <td>female</td>\n",
       "      <td>35.0</td>\n",
       "      <td>1</td>\n",
       "      <td>0</td>\n",
       "      <td>113803</td>\n",
       "      <td>53.1000</td>\n",
       "      <td>C123</td>\n",
       "      <td>S</td>\n",
       "    </tr>\n",
       "    <tr>\n",
       "      <th>4</th>\n",
       "      <td>5</td>\n",
       "      <td>0</td>\n",
       "      <td>3</td>\n",
       "      <td>Allen, Mr. William Henry</td>\n",
       "      <td>male</td>\n",
       "      <td>35.0</td>\n",
       "      <td>0</td>\n",
       "      <td>0</td>\n",
       "      <td>373450</td>\n",
       "      <td>8.0500</td>\n",
       "      <td>NaN</td>\n",
       "      <td>S</td>\n",
       "    </tr>\n",
       "  </tbody>\n",
       "</table>\n",
       "</div>"
      ],
      "text/plain": [
       "   PassengerId  Survived  Pclass  \\\n",
       "0            1         0       3   \n",
       "1            2         1       1   \n",
       "2            3         1       3   \n",
       "3            4         1       1   \n",
       "4            5         0       3   \n",
       "\n",
       "                                                Name     Sex   Age  SibSp  \\\n",
       "0                            Braund, Mr. Owen Harris    male  22.0      1   \n",
       "1  Cumings, Mrs. John Bradley (Florence Briggs Th...  female  38.0      1   \n",
       "2                             Heikkinen, Miss. Laina  female  26.0      0   \n",
       "3       Futrelle, Mrs. Jacques Heath (Lily May Peel)  female  35.0      1   \n",
       "4                           Allen, Mr. William Henry    male  35.0      0   \n",
       "\n",
       "   Parch            Ticket     Fare Cabin Embarked  \n",
       "0      0         A/5 21171   7.2500   NaN        S  \n",
       "1      0          PC 17599  71.2833   C85        C  \n",
       "2      0  STON/O2. 3101282   7.9250   NaN        S  \n",
       "3      0            113803  53.1000  C123        S  \n",
       "4      0            373450   8.0500   NaN        S  "
      ]
     },
     "execution_count": 3,
     "metadata": {},
     "output_type": "execute_result"
    }
   ],
   "source": [
    "df_train.head()"
   ]
  },
  {
   "cell_type": "code",
   "execution_count": 4,
   "metadata": {},
   "outputs": [
    {
     "data": {
      "text/plain": [
       "0    549\n",
       "1    342\n",
       "Name: Survived, dtype: int64"
      ]
     },
     "execution_count": 4,
     "metadata": {},
     "output_type": "execute_result"
    }
   ],
   "source": [
    "# see distinct values in the Sex column\n",
    "df_train.Survived.value_counts()"
   ]
  },
  {
   "cell_type": "code",
   "execution_count": 5,
   "metadata": {},
   "outputs": [
    {
     "data": {
      "text/plain": [
       "male      577\n",
       "female    314\n",
       "Name: Sex, dtype: int64"
      ]
     },
     "execution_count": 5,
     "metadata": {},
     "output_type": "execute_result"
    }
   ],
   "source": [
    "# see distinct values in the Sex column\n",
    "df_train.Sex.value_counts()"
   ]
  },
  {
   "cell_type": "code",
   "execution_count": 6,
   "metadata": {},
   "outputs": [
    {
     "data": {
      "text/plain": [
       "S    644\n",
       "C    168\n",
       "Q     77\n",
       "Name: Embarked, dtype: int64"
      ]
     },
     "execution_count": 6,
     "metadata": {},
     "output_type": "execute_result"
    }
   ],
   "source": [
    "# see distinct values in the Embarked column\n",
    "df_train.Embarked.value_counts()"
   ]
  },
  {
   "cell_type": "code",
   "execution_count": 7,
   "metadata": {},
   "outputs": [
    {
     "data": {
      "text/plain": [
       "PassengerId      0\n",
       "Survived         0\n",
       "Pclass           0\n",
       "Name             0\n",
       "Sex              0\n",
       "Age            177\n",
       "SibSp            0\n",
       "Parch            0\n",
       "Ticket           0\n",
       "Fare             0\n",
       "Cabin          687\n",
       "Embarked         2\n",
       "dtype: int64"
      ]
     },
     "execution_count": 7,
     "metadata": {},
     "output_type": "execute_result"
    }
   ],
   "source": [
    "# Checking for missing values\n",
    "df_train.isnull().sum()"
   ]
  },
  {
   "cell_type": "code",
   "execution_count": 8,
   "metadata": {},
   "outputs": [],
   "source": [
    "# There are only 891 rows in the titanic data frame. Cabin is almost 80% missing values, \n",
    "# we will drop that variable completely, \n",
    "\n",
    "# What about age? \n",
    "# Age seems like a relevant predictor for survival right? We'd want to keep the variables, \n",
    "# but it has 177 missing values.  \n",
    "\n",
    "# Need to find a way to approximate for those missing values!"
   ]
  },
  {
   "cell_type": "code",
   "execution_count": 9,
   "metadata": {},
   "outputs": [],
   "source": [
    "# drop all the variables that aren't relevant for predicting survival. \n",
    "# We should at least keep the following:\n",
    "\n",
    "# Survived - This variable is obviously relevant.\n",
    "# Pclass   - Does a passenger's class on the boat affect their survivability?\n",
    "# Sex      - Could a passenger's gender impact their survival rate?\n",
    "# Age      - Does a person's age impact their survival rate?\n",
    "# SibSp    - Does the number of relatives on the boat (that are siblings or a spouse) \n",
    "#            affect a person survivability? Probability\n",
    "# Parch    - Does the number of relatives on the boat (that are children or parents) \n",
    "#            affect a person survivability? Probability\n",
    "# Fare     - Does the fare a person paid effect his survivability? Maybe - let's keep it.\n",
    "# Embarked - Does a person's point of embarkation matter? \n",
    "#            It depends on how the boat was filled... Let's keep it."
   ]
  },
  {
   "cell_type": "code",
   "execution_count": 10,
   "metadata": {},
   "outputs": [
    {
     "data": {
      "text/html": [
       "<div>\n",
       "<style scoped>\n",
       "    .dataframe tbody tr th:only-of-type {\n",
       "        vertical-align: middle;\n",
       "    }\n",
       "\n",
       "    .dataframe tbody tr th {\n",
       "        vertical-align: top;\n",
       "    }\n",
       "\n",
       "    .dataframe thead th {\n",
       "        text-align: right;\n",
       "    }\n",
       "</style>\n",
       "<table border=\"1\" class=\"dataframe\">\n",
       "  <thead>\n",
       "    <tr style=\"text-align: right;\">\n",
       "      <th></th>\n",
       "      <th>Survived</th>\n",
       "      <th>Pclass</th>\n",
       "      <th>Sex</th>\n",
       "      <th>Age</th>\n",
       "      <th>SibSp</th>\n",
       "      <th>Parch</th>\n",
       "      <th>Fare</th>\n",
       "      <th>Embarked</th>\n",
       "    </tr>\n",
       "  </thead>\n",
       "  <tbody>\n",
       "    <tr>\n",
       "      <th>0</th>\n",
       "      <td>0</td>\n",
       "      <td>3</td>\n",
       "      <td>male</td>\n",
       "      <td>22.0</td>\n",
       "      <td>1</td>\n",
       "      <td>0</td>\n",
       "      <td>7.2500</td>\n",
       "      <td>S</td>\n",
       "    </tr>\n",
       "    <tr>\n",
       "      <th>1</th>\n",
       "      <td>1</td>\n",
       "      <td>1</td>\n",
       "      <td>female</td>\n",
       "      <td>38.0</td>\n",
       "      <td>1</td>\n",
       "      <td>0</td>\n",
       "      <td>71.2833</td>\n",
       "      <td>C</td>\n",
       "    </tr>\n",
       "    <tr>\n",
       "      <th>2</th>\n",
       "      <td>1</td>\n",
       "      <td>3</td>\n",
       "      <td>female</td>\n",
       "      <td>26.0</td>\n",
       "      <td>0</td>\n",
       "      <td>0</td>\n",
       "      <td>7.9250</td>\n",
       "      <td>S</td>\n",
       "    </tr>\n",
       "    <tr>\n",
       "      <th>3</th>\n",
       "      <td>1</td>\n",
       "      <td>1</td>\n",
       "      <td>female</td>\n",
       "      <td>35.0</td>\n",
       "      <td>1</td>\n",
       "      <td>0</td>\n",
       "      <td>53.1000</td>\n",
       "      <td>S</td>\n",
       "    </tr>\n",
       "    <tr>\n",
       "      <th>4</th>\n",
       "      <td>0</td>\n",
       "      <td>3</td>\n",
       "      <td>male</td>\n",
       "      <td>35.0</td>\n",
       "      <td>0</td>\n",
       "      <td>0</td>\n",
       "      <td>8.0500</td>\n",
       "      <td>S</td>\n",
       "    </tr>\n",
       "  </tbody>\n",
       "</table>\n",
       "</div>"
      ],
      "text/plain": [
       "   Survived  Pclass     Sex   Age  SibSp  Parch     Fare Embarked\n",
       "0         0       3    male  22.0      1      0   7.2500        S\n",
       "1         1       1  female  38.0      1      0  71.2833        C\n",
       "2         1       3  female  26.0      0      0   7.9250        S\n",
       "3         1       1  female  35.0      1      0  53.1000        S\n",
       "4         0       3    male  35.0      0      0   8.0500        S"
      ]
     },
     "execution_count": 10,
     "metadata": {},
     "output_type": "execute_result"
    }
   ],
   "source": [
    "# What about a person's name, ticket number, and passenger ID number? \n",
    "# They're irrelavant for predicting survivability. \n",
    "# And as you recall, the cabin variable is almost all missing values, \n",
    "# so we can just drop all of these.\n",
    "\n",
    "df_train = df_train.drop(['PassengerId','Name','Ticket','Cabin'], axis=1)\n",
    "df_train.head()"
   ]
  },
  {
   "cell_type": "code",
   "execution_count": 11,
   "metadata": {},
   "outputs": [
    {
     "data": {
      "image/png": "[encoded data removed]",
      "text/plain": [
       "<Figure size 432x288 with 1 Axes>"
      ]
     },
     "metadata": {
      "needs_background": "light"
     },
     "output_type": "display_data"
    }
   ],
   "source": [
    "ax = df_train[\"Age\"].hist(bins=15, density=True, stacked=True, color='teal', alpha=0.6)\n",
    "df_train[\"Age\"].plot(kind='density', color='teal')\n",
    "ax.set(xlabel='Age')\n",
    "plt.xlim(-10,85)\n",
    "plt.show()\n",
    "\n",
    "#Since \"Age\" is (right) skewed, using the mean might give us biased results by filling in ages that are older than desired. \n",
    "#To deal with this, we'll use the median to impute the missing values.\n",
    "\n"
   ]
  },
  {
   "cell_type": "code",
   "execution_count": 12,
   "metadata": {},
   "outputs": [
    {
     "name": "stdout",
     "output_type": "stream",
     "text": [
      "38.233440860215055\n",
      "29.87763005780347\n"
     ]
    },
    {
     "data": {
      "text/plain": [
       "25.14061971830986"
      ]
     },
     "execution_count": 12,
     "metadata": {},
     "output_type": "execute_result"
    }
   ],
   "source": [
    "# Speaking roughly, we could say that the younger a passenger is, the more likely it is for them \n",
    "# to be in 3rd class. The older a passenger is, the more likely it is for them to be in 1st class. \n",
    "\n",
    "# checking avg age per class\n",
    "\n",
    "#df_train.groupby(['Pclass']).mean() - alternate command for the below 3 lines\n",
    "\n",
    "\n",
    "print(df_train[df_train['Pclass']== 1]['Age'].mean())\n",
    "print(df_train[df_train['Pclass']== 2]['Age'].mean())\n",
    "df_train[df_train['Pclass']== 3]['Age'].mean()"
   ]
  },
  {
   "cell_type": "code",
   "execution_count": 13,
   "metadata": {},
   "outputs": [],
   "source": [
    "# We need to deal with the missing values in the age variable.\n",
    "# From above analysis,  \n",
    "\n",
    "#average age of 1st class passengers is about 38, \n",
    "#2nd class passengers is 29, \n",
    "#3rd class pasengers is 25.\n",
    "\n",
    "#we could say roughly that the younger a passenger is, the more likely it is for them to be in 3rd class. \n",
    "#The older a passenger is, the more likely it is for them to be in 1st class\n",
    "\n",
    "# find each null value in the Age variable and for each null, checks the value of the Pclass \n",
    "# and assign an age value according to the average age of passengers in that class.\n",
    "\n",
    "def age_approx(cols):\n",
    "    Age    = cols[0]\n",
    "    Pclass = cols[1]\n",
    "    \n",
    "    if pd.isnull(Age):\n",
    "        if Pclass == 1:\n",
    "            return 38\n",
    "        elif Pclass == 2:\n",
    "            return 29\n",
    "        else:\n",
    "            return 25\n",
    "    else:\n",
    "        return Age"
   ]
  },
  {
   "cell_type": "code",
   "execution_count": 14,
   "metadata": {},
   "outputs": [],
   "source": [
    "df_train['Age'] = df_train[['Age', 'Pclass']].apply(age_approx, axis=1)"
   ]
  },
  {
   "cell_type": "code",
   "execution_count": 15,
   "metadata": {},
   "outputs": [
    {
     "data": {
      "text/plain": [
       "Survived    0\n",
       "Pclass      0\n",
       "Sex         0\n",
       "Age         0\n",
       "SibSp       0\n",
       "Parch       0\n",
       "Fare        0\n",
       "Embarked    2\n",
       "dtype: int64"
      ]
     },
     "execution_count": 15,
     "metadata": {},
     "output_type": "execute_result"
    }
   ],
   "source": [
    "# check for null again\n",
    "df_train.isnull().sum()"
   ]
  },
  {
   "cell_type": "code",
   "execution_count": 16,
   "metadata": {},
   "outputs": [
    {
     "data": {
      "text/plain": [
       "Survived    0\n",
       "Pclass      0\n",
       "Sex         0\n",
       "Age         0\n",
       "SibSp       0\n",
       "Parch       0\n",
       "Fare        0\n",
       "Embarked    0\n",
       "dtype: int64"
      ]
     },
     "execution_count": 16,
     "metadata": {},
     "output_type": "execute_result"
    }
   ],
   "source": [
    "# There are 2 null values in the embarked variable which can be droppped.\n",
    "\n",
    "df_train.dropna(inplace=True)\n",
    "df_train.isnull().sum()"
   ]
  },
  {
   "cell_type": "code",
   "execution_count": 17,
   "metadata": {},
   "outputs": [],
   "source": [
    "# Converting categorical variables to a dummy indicators ************************"
   ]
  },
  {
   "cell_type": "code",
   "execution_count": 18,
   "metadata": {},
   "outputs": [
    {
     "data": {
      "text/plain": [
       "Survived      int64\n",
       "Pclass        int64\n",
       "Sex          object\n",
       "Age         float64\n",
       "SibSp         int64\n",
       "Parch         int64\n",
       "Fare        float64\n",
       "Embarked     object\n",
       "dtype: object"
      ]
     },
     "execution_count": 18,
     "metadata": {},
     "output_type": "execute_result"
    }
   ],
   "source": [
    "# object signifies they are of categorical/string type data\n",
    "df_train.dtypes"
   ]
  },
  {
   "cell_type": "code",
   "execution_count": 19,
   "metadata": {},
   "outputs": [],
   "source": [
    "#pd.get_dummies(df_train['Sex'], drop_first=True)\n",
    "df_train_dummied = pd.get_dummies(df_train, columns=[\"Sex\"])"
   ]
  },
  {
   "cell_type": "code",
   "execution_count": 20,
   "metadata": {},
   "outputs": [],
   "source": [
    "df_train_dummied = pd.get_dummies(df_train_dummied, columns=[\"Embarked\"])"
   ]
  },
  {
   "cell_type": "code",
   "execution_count": 21,
   "metadata": {},
   "outputs": [
    {
     "data": {
      "text/html": [
       "<div>\n",
       "<style scoped>\n",
       "    .dataframe tbody tr th:only-of-type {\n",
       "        vertical-align: middle;\n",
       "    }\n",
       "\n",
       "    .dataframe tbody tr th {\n",
       "        vertical-align: top;\n",
       "    }\n",
       "\n",
       "    .dataframe thead th {\n",
       "        text-align: right;\n",
       "    }\n",
       "</style>\n",
       "<table border=\"1\" class=\"dataframe\">\n",
       "  <thead>\n",
       "    <tr style=\"text-align: right;\">\n",
       "      <th></th>\n",
       "      <th>Survived</th>\n",
       "      <th>Pclass</th>\n",
       "      <th>Age</th>\n",
       "      <th>SibSp</th>\n",
       "      <th>Parch</th>\n",
       "      <th>Fare</th>\n",
       "      <th>Sex_female</th>\n",
       "      <th>Sex_male</th>\n",
       "      <th>Embarked_C</th>\n",
       "      <th>Embarked_Q</th>\n",
       "      <th>Embarked_S</th>\n",
       "    </tr>\n",
       "  </thead>\n",
       "  <tbody>\n",
       "    <tr>\n",
       "      <th>0</th>\n",
       "      <td>0</td>\n",
       "      <td>3</td>\n",
       "      <td>22.0</td>\n",
       "      <td>1</td>\n",
       "      <td>0</td>\n",
       "      <td>7.2500</td>\n",
       "      <td>0</td>\n",
       "      <td>1</td>\n",
       "      <td>0</td>\n",
       "      <td>0</td>\n",
       "      <td>1</td>\n",
       "    </tr>\n",
       "    <tr>\n",
       "      <th>1</th>\n",
       "      <td>1</td>\n",
       "      <td>1</td>\n",
       "      <td>38.0</td>\n",
       "      <td>1</td>\n",
       "      <td>0</td>\n",
       "      <td>71.2833</td>\n",
       "      <td>1</td>\n",
       "      <td>0</td>\n",
       "      <td>1</td>\n",
       "      <td>0</td>\n",
       "      <td>0</td>\n",
       "    </tr>\n",
       "    <tr>\n",
       "      <th>2</th>\n",
       "      <td>1</td>\n",
       "      <td>3</td>\n",
       "      <td>26.0</td>\n",
       "      <td>0</td>\n",
       "      <td>0</td>\n",
       "      <td>7.9250</td>\n",
       "      <td>1</td>\n",
       "      <td>0</td>\n",
       "      <td>0</td>\n",
       "      <td>0</td>\n",
       "      <td>1</td>\n",
       "    </tr>\n",
       "    <tr>\n",
       "      <th>3</th>\n",
       "      <td>1</td>\n",
       "      <td>1</td>\n",
       "      <td>35.0</td>\n",
       "      <td>1</td>\n",
       "      <td>0</td>\n",
       "      <td>53.1000</td>\n",
       "      <td>1</td>\n",
       "      <td>0</td>\n",
       "      <td>0</td>\n",
       "      <td>0</td>\n",
       "      <td>1</td>\n",
       "    </tr>\n",
       "    <tr>\n",
       "      <th>4</th>\n",
       "      <td>0</td>\n",
       "      <td>3</td>\n",
       "      <td>35.0</td>\n",
       "      <td>0</td>\n",
       "      <td>0</td>\n",
       "      <td>8.0500</td>\n",
       "      <td>0</td>\n",
       "      <td>1</td>\n",
       "      <td>0</td>\n",
       "      <td>0</td>\n",
       "      <td>1</td>\n",
       "    </tr>\n",
       "  </tbody>\n",
       "</table>\n",
       "</div>"
      ],
      "text/plain": [
       "   Survived  Pclass   Age  SibSp  Parch     Fare  Sex_female  Sex_male  \\\n",
       "0         0       3  22.0      1      0   7.2500           0         1   \n",
       "1         1       1  38.0      1      0  71.2833           1         0   \n",
       "2         1       3  26.0      0      0   7.9250           1         0   \n",
       "3         1       1  35.0      1      0  53.1000           1         0   \n",
       "4         0       3  35.0      0      0   8.0500           0         1   \n",
       "\n",
       "   Embarked_C  Embarked_Q  Embarked_S  \n",
       "0           0           0           1  \n",
       "1           1           0           0  \n",
       "2           0           0           1  \n",
       "3           0           0           1  \n",
       "4           0           0           1  "
      ]
     },
     "execution_count": 21,
     "metadata": {},
     "output_type": "execute_result"
    }
   ],
   "source": [
    "df_train_dummied.head()"
   ]
  },
  {
   "cell_type": "code",
   "execution_count": 22,
   "metadata": {
    "scrolled": true
   },
   "outputs": [
    {
     "data": {
      "text/plain": [
       "<matplotlib.axes._subplots.AxesSubplot at 0x1b34839beb8>"
      ]
     },
     "execution_count": 22,
     "metadata": {},
     "output_type": "execute_result"
    },
    {
     "data": {
      "image/png": "[encoded data removed]",
      "text/plain": [
       "<Figure size 432x288 with 2 Axes>"
      ]
     },
     "metadata": {
      "needs_background": "light"
     },
     "output_type": "display_data"
    }
   ],
   "source": [
    "# Checking for independence between features\n",
    "plt.figure(figsize=(6,4))\n",
    "sns.heatmap(df_train_dummied.corr())  "
   ]
  },
  {
   "cell_type": "code",
   "execution_count": 23,
   "metadata": {},
   "outputs": [],
   "source": [
    "used_features =[\n",
    "    \"Pclass\",\n",
    "    \"Age\",\n",
    "    \"SibSp\",\n",
    "    \"Parch\",\n",
    "    \"Sex_female\",\n",
    "    \"Sex_male\",\n",
    "    \"Embarked_C\",\n",
    "    \"Embarked_Q\",\n",
    "    \"Embarked_S\"\n",
    "]\n",
    "\n",
    "X = df_train_dummied[used_features].values\n",
    "y = df_train_dummied['Survived']"
   ]
  },
  {
   "cell_type": "code",
   "execution_count": 24,
   "metadata": {},
   "outputs": [],
   "source": [
    "# Split dataset in training and test datasets\n",
    "X_train, X_test, y_train, y_test = train_test_split(X, y, test_size=0.3, random_state=11)\n"
   ]
  },
  {
   "cell_type": "code",
   "execution_count": 25,
   "metadata": {},
   "outputs": [
    {
     "name": "stdout",
     "output_type": "stream",
     "text": [
      "(622, 9)\n",
      "(267, 9)\n",
      "(622,)\n",
      "(267,)\n"
     ]
    }
   ],
   "source": [
    "print(X_train.shape)\n",
    "print(X_test.shape)\n",
    "print(y_train.shape)\n",
    "print(y_test.shape)"
   ]
  },
  {
   "cell_type": "code",
   "execution_count": 26,
   "metadata": {},
   "outputs": [],
   "source": [
    "# Instantiate the classifier\n",
    "LogReg = LogisticRegression()\n"
   ]
  },
  {
   "cell_type": "code",
   "execution_count": 27,
   "metadata": {},
   "outputs": [
    {
     "data": {
      "text/plain": [
       "LogisticRegression(C=1.0, class_weight=None, dual=False, fit_intercept=True,\n",
       "          intercept_scaling=1, max_iter=100, multi_class='warn',\n",
       "          n_jobs=None, penalty='l2', random_state=None, solver='warn',\n",
       "          tol=0.0001, verbose=0, warm_start=False)"
      ]
     },
     "execution_count": 27,
     "metadata": {},
     "output_type": "execute_result"
    }
   ],
   "source": [
    "# Train classifier\n",
    "LogReg.fit(X_train, y_train)"
   ]
  },
  {
   "cell_type": "code",
   "execution_count": 28,
   "metadata": {},
   "outputs": [],
   "source": [
    "y_pred = LogReg.predict(X_test)"
   ]
  },
  {
   "cell_type": "code",
   "execution_count": 29,
   "metadata": {},
   "outputs": [
    {
     "data": {
      "text/plain": [
       "array([[143,  18],\n",
       "       [ 23,  83]], dtype=int64)"
      ]
     },
     "execution_count": 29,
     "metadata": {},
     "output_type": "execute_result"
    }
   ],
   "source": [
    "metrics.confusion_matrix(y_test, y_pred)"
   ]
  },
  {
   "cell_type": "code",
   "execution_count": 30,
   "metadata": {},
   "outputs": [
    {
     "data": {
      "text/plain": [
       "0.846441947565543"
      ]
     },
     "execution_count": 30,
     "metadata": {},
     "output_type": "execute_result"
    }
   ],
   "source": [
    "metrics.accuracy_score(y_test, y_pred)"
   ]
  },
  {
   "cell_type": "code",
   "execution_count": 31,
   "metadata": {},
   "outputs": [
    {
     "data": {
      "text/plain": [
       "267"
      ]
     },
     "execution_count": 31,
     "metadata": {},
     "output_type": "execute_result"
    }
   ],
   "source": [
    "len(X_test)"
   ]
  },
  {
   "cell_type": "code",
   "execution_count": 32,
   "metadata": {},
   "outputs": [
    {
     "name": "stdout",
     "output_type": "stream",
     "text": [
      "              precision    recall  f1-score   support\n",
      "\n",
      "           0       0.86      0.89      0.87       161\n",
      "           1       0.82      0.78      0.80       106\n",
      "\n",
      "   micro avg       0.85      0.85      0.85       267\n",
      "   macro avg       0.84      0.84      0.84       267\n",
      "weighted avg       0.85      0.85      0.85       267\n",
      "\n"
     ]
    }
   ],
   "source": [
    "print(classification_report(y_test, y_pred))"
   ]
  },
  {
   "cell_type": "code",
   "execution_count": 33,
   "metadata": {},
   "outputs": [
    {
     "data": {
      "text/plain": [
       "array([[-1.04272937, -0.03094873, -0.22730694, -0.13117506,  2.07802573,\n",
       "        -0.24826939,  0.82867686,  0.68832299,  0.31275649]])"
      ]
     },
     "execution_count": 33,
     "metadata": {},
     "output_type": "execute_result"
    }
   ],
   "source": [
    "LogReg.coef_"
   ]
  },
  {
   "cell_type": "code",
   "execution_count": 34,
   "metadata": {},
   "outputs": [
    {
     "data": {
      "text/plain": [
       "array([1.82975634])"
      ]
     },
     "execution_count": 34,
     "metadata": {},
     "output_type": "execute_result"
    }
   ],
   "source": [
    "LogReg.intercept_"
   ]
  },
  {
   "cell_type": "code",
   "execution_count": 35,
   "metadata": {},
   "outputs": [
    {
     "data": {
      "text/plain": [
       "Index(['Pclass', 'Age', 'SibSp', 'Parch', 'Sex_female', 'Sex_male',\n",
       "       'Embarked_C', 'Embarked_Q', 'Embarked_S'],\n",
       "      dtype='object')"
      ]
     },
     "execution_count": 35,
     "metadata": {},
     "output_type": "execute_result"
    }
   ],
   "source": [
    "df_train_dummied[used_features].columns"
   ]
  },
  {
   "cell_type": "code",
   "execution_count": 36,
   "metadata": {},
   "outputs": [
    {
     "data": {
      "text/plain": [
       "array([[0.35253237, 0.64746763],\n",
       "       [0.91353849, 0.08646151],\n",
       "       [0.58042969, 0.41957031],\n",
       "       [0.46865124, 0.53134876],\n",
       "       [0.83701563, 0.16298437],\n",
       "       [0.82916575, 0.17083425],\n",
       "       [0.5408201 , 0.4591799 ],\n",
       "       [0.15240792, 0.84759208],\n",
       "       [0.08640183, 0.91359817],\n",
       "       [0.83645662, 0.16354338],\n",
       "       [0.55822738, 0.44177262],\n",
       "       [0.8608024 , 0.1391976 ],\n",
       "       [0.83645662, 0.16354338],\n",
       "       [0.17920874, 0.82079126],\n",
       "       [0.2415794 , 0.7584206 ],\n",
       "       [0.83841557, 0.16158443],\n",
       "       [0.86522738, 0.13477262],\n",
       "       [0.59558816, 0.40441184],\n",
       "       [0.09493022, 0.90506978],\n",
       "       [0.90241088, 0.09758912],\n",
       "       [0.43701628, 0.56298372],\n",
       "       [0.62422849, 0.37577151],\n",
       "       [0.86805478, 0.13194522],\n",
       "       [0.80200869, 0.19799131],\n",
       "       [0.88159928, 0.11840072],\n",
       "       [0.89239311, 0.10760689],\n",
       "       [0.88159928, 0.11840072],\n",
       "       [0.51149773, 0.48850227],\n",
       "       [0.71157301, 0.28842699],\n",
       "       [0.92609995, 0.07390005],\n",
       "       [0.09192358, 0.90807642],\n",
       "       [0.72129459, 0.27870541],\n",
       "       [0.892447  , 0.107553  ],\n",
       "       [0.64000475, 0.35999525],\n",
       "       [0.88159928, 0.11840072],\n",
       "       [0.93058359, 0.06941641],\n",
       "       [0.3692878 , 0.6307122 ],\n",
       "       [0.91115469, 0.08884531],\n",
       "       [0.89095264, 0.10904736],\n",
       "       [0.90241088, 0.09758912],\n",
       "       [0.08887629, 0.91112371],\n",
       "       [0.95520886, 0.04479114],\n",
       "       [0.8608024 , 0.1391976 ],\n",
       "       [0.30863225, 0.69136775],\n",
       "       [0.51318506, 0.48681494],\n",
       "       [0.26879744, 0.73120256],\n",
       "       [0.33309969, 0.66690031],\n",
       "       [0.72449786, 0.27550214],\n",
       "       [0.4782061 , 0.5217939 ],\n",
       "       [0.12848354, 0.87151646],\n",
       "       [0.81317576, 0.18682424],\n",
       "       [0.71267991, 0.28732009],\n",
       "       [0.25886533, 0.74113467],\n",
       "       [0.68088019, 0.31911981],\n",
       "       [0.43118508, 0.56881492],\n",
       "       [0.8162376 , 0.1837624 ],\n",
       "       [0.14498972, 0.85501028],\n",
       "       [0.83645662, 0.16354338],\n",
       "       [0.8608024 , 0.1391976 ],\n",
       "       [0.89095264, 0.10904736],\n",
       "       [0.21951149, 0.78048851],\n",
       "       [0.21951149, 0.78048851],\n",
       "       [0.11762473, 0.88237527],\n",
       "       [0.85348165, 0.14651835],\n",
       "       [0.59041816, 0.40958184],\n",
       "       [0.91028748, 0.08971252],\n",
       "       [0.45229981, 0.54770019],\n",
       "       [0.15958467, 0.84041533],\n",
       "       [0.07232883, 0.92767117],\n",
       "       [0.81633967, 0.18366033],\n",
       "       [0.87946568, 0.12053432],\n",
       "       [0.8608024 , 0.1391976 ],\n",
       "       [0.09540577, 0.90459423],\n",
       "       [0.2744958 , 0.7255042 ],\n",
       "       [0.19903918, 0.80096082],\n",
       "       [0.9175864 , 0.0824136 ],\n",
       "       [0.33043785, 0.66956215],\n",
       "       [0.40032808, 0.59967192],\n",
       "       [0.18464982, 0.81535018],\n",
       "       [0.49214909, 0.50785091],\n",
       "       [0.83645662, 0.16354338],\n",
       "       [0.07462815, 0.92537185],\n",
       "       [0.05019724, 0.94980276],\n",
       "       [0.06277478, 0.93722522],\n",
       "       [0.07392625, 0.92607375],\n",
       "       [0.88159928, 0.11840072],\n",
       "       [0.8320272 , 0.1679728 ],\n",
       "       [0.88159928, 0.11840072],\n",
       "       [0.86805478, 0.13194522],\n",
       "       [0.83417876, 0.16582124],\n",
       "       [0.69633911, 0.30366089],\n",
       "       [0.74814219, 0.25185781],\n",
       "       [0.76655407, 0.23344593],\n",
       "       [0.88159928, 0.11840072],\n",
       "       [0.33309969, 0.66690031],\n",
       "       [0.87498417, 0.12501583],\n",
       "       [0.07607317, 0.92392683],\n",
       "       [0.90510266, 0.09489734],\n",
       "       [0.89965122, 0.10034878],\n",
       "       [0.40940894, 0.59059106],\n",
       "       [0.36721776, 0.63278224],\n",
       "       [0.85505772, 0.14494228],\n",
       "       [0.09276803, 0.90723197],\n",
       "       [0.8934229 , 0.1065771 ],\n",
       "       [0.8956224 , 0.1043776 ],\n",
       "       [0.32409695, 0.67590305],\n",
       "       [0.46681388, 0.53318612],\n",
       "       [0.81633967, 0.18366033],\n",
       "       [0.60340271, 0.39659729],\n",
       "       [0.86415346, 0.13584654],\n",
       "       [0.12389532, 0.87610468],\n",
       "       [0.88479182, 0.11520818],\n",
       "       [0.18380636, 0.81619364],\n",
       "       [0.36290735, 0.63709265],\n",
       "       [0.4591193 , 0.5408807 ],\n",
       "       [0.05982728, 0.94017272],\n",
       "       [0.85821577, 0.14178423],\n",
       "       [0.94100674, 0.05899326],\n",
       "       [0.81633967, 0.18366033],\n",
       "       [0.85060224, 0.14939776],\n",
       "       [0.83645662, 0.16354338],\n",
       "       [0.90241088, 0.09758912],\n",
       "       [0.912783  , 0.087217  ],\n",
       "       [0.8570525 , 0.1429475 ],\n",
       "       [0.90772778, 0.09227222],\n",
       "       [0.665954  , 0.334046  ],\n",
       "       [0.88159928, 0.11840072],\n",
       "       [0.75726136, 0.24273864],\n",
       "       [0.8639788 , 0.1360212 ],\n",
       "       [0.37181492, 0.62818508],\n",
       "       [0.04969115, 0.95030885],\n",
       "       [0.55766512, 0.44233488],\n",
       "       [0.27935129, 0.72064871],\n",
       "       [0.59747584, 0.40252416],\n",
       "       [0.48491043, 0.51508957],\n",
       "       [0.33309969, 0.66690031],\n",
       "       [0.81317576, 0.18682424],\n",
       "       [0.81590184, 0.18409816],\n",
       "       [0.14886868, 0.85113132],\n",
       "       [0.19362361, 0.80637639],\n",
       "       [0.75392882, 0.24607118],\n",
       "       [0.81633967, 0.18366033],\n",
       "       [0.49095566, 0.50904434],\n",
       "       [0.45229981, 0.54770019],\n",
       "       [0.912783  , 0.087217  ],\n",
       "       [0.86775024, 0.13224976],\n",
       "       [0.92647702, 0.07352298],\n",
       "       [0.83645662, 0.16354338],\n",
       "       [0.14498972, 0.85501028],\n",
       "       [0.94333848, 0.05666152],\n",
       "       [0.36850198, 0.63149802],\n",
       "       [0.87155931, 0.12844069],\n",
       "       [0.42361119, 0.57638881],\n",
       "       [0.09072944, 0.90927056],\n",
       "       [0.86558186, 0.13441814],\n",
       "       [0.74226601, 0.25773399],\n",
       "       [0.08129865, 0.91870135],\n",
       "       [0.90241088, 0.09758912],\n",
       "       [0.18535627, 0.81464373],\n",
       "       [0.08524379, 0.91475621],\n",
       "       [0.86446949, 0.13553051],\n",
       "       [0.65747697, 0.34252303],\n",
       "       [0.85348165, 0.14651835],\n",
       "       [0.43303754, 0.56696246],\n",
       "       [0.13385482, 0.86614518],\n",
       "       [0.87833045, 0.12166955],\n",
       "       [0.84930038, 0.15069962],\n",
       "       [0.92091243, 0.07908757],\n",
       "       [0.24145472, 0.75854528],\n",
       "       [0.80190059, 0.19809941],\n",
       "       [0.9175864 , 0.0824136 ],\n",
       "       [0.19380143, 0.80619857],\n",
       "       [0.47891176, 0.52108824],\n",
       "       [0.86522738, 0.13477262],\n",
       "       [0.88159928, 0.11840072],\n",
       "       [0.90510266, 0.09489734],\n",
       "       [0.81633967, 0.18366033],\n",
       "       [0.58042969, 0.41957031],\n",
       "       [0.62115738, 0.37884262],\n",
       "       [0.14498972, 0.85501028],\n",
       "       [0.81633967, 0.18366033],\n",
       "       [0.13385482, 0.86614518],\n",
       "       [0.6119966 , 0.3880034 ],\n",
       "       [0.85440797, 0.14559203],\n",
       "       [0.88896636, 0.11103364],\n",
       "       [0.88159928, 0.11840072],\n",
       "       [0.25499305, 0.74500695],\n",
       "       [0.41348403, 0.58651597],\n",
       "       [0.40829884, 0.59170116],\n",
       "       [0.89392332, 0.10607668],\n",
       "       [0.08582104, 0.91417896],\n",
       "       [0.81892895, 0.18107105],\n",
       "       [0.83645662, 0.16354338],\n",
       "       [0.20056241, 0.79943759],\n",
       "       [0.88159928, 0.11840072],\n",
       "       [0.67880651, 0.32119349],\n",
       "       [0.70014138, 0.29985862],\n",
       "       [0.33479821, 0.66520179],\n",
       "       [0.04969115, 0.95030885],\n",
       "       [0.88159928, 0.11840072],\n",
       "       [0.85572974, 0.14427026],\n",
       "       [0.95778376, 0.04221624],\n",
       "       [0.83645662, 0.16354338],\n",
       "       [0.35268775, 0.64731225],\n",
       "       [0.88159928, 0.11840072],\n",
       "       [0.26821732, 0.73178268],\n",
       "       [0.93741385, 0.06258615],\n",
       "       [0.93634671, 0.06365329],\n",
       "       [0.58042969, 0.41957031],\n",
       "       [0.07046454, 0.92953546],\n",
       "       [0.9175864 , 0.0824136 ],\n",
       "       [0.88159928, 0.11840072],\n",
       "       [0.47718452, 0.52281548],\n",
       "       [0.65532819, 0.34467181],\n",
       "       [0.38782395, 0.61217605],\n",
       "       [0.69417631, 0.30582369],\n",
       "       [0.88479182, 0.11520818],\n",
       "       [0.7021212 , 0.2978788 ],\n",
       "       [0.98351154, 0.01648846],\n",
       "       [0.71157301, 0.28842699],\n",
       "       [0.81633967, 0.18366033],\n",
       "       [0.22485982, 0.77514018],\n",
       "       [0.93368255, 0.06631745],\n",
       "       [0.7423962 , 0.2576038 ],\n",
       "       [0.92327524, 0.07672476],\n",
       "       [0.47722665, 0.52277335],\n",
       "       [0.81880935, 0.18119065],\n",
       "       [0.07536807, 0.92463193],\n",
       "       [0.3692878 , 0.6307122 ],\n",
       "       [0.7652308 , 0.2347692 ],\n",
       "       [0.6965798 , 0.3034202 ],\n",
       "       [0.42857107, 0.57142893],\n",
       "       [0.88159928, 0.11840072],\n",
       "       [0.87833045, 0.12166955],\n",
       "       [0.30253966, 0.69746034],\n",
       "       [0.62009396, 0.37990604],\n",
       "       [0.38414862, 0.61585138],\n",
       "       [0.93255637, 0.06744363],\n",
       "       [0.17405902, 0.82594098],\n",
       "       [0.88479182, 0.11520818],\n",
       "       [0.97136717, 0.02863283],\n",
       "       [0.12683979, 0.87316021],\n",
       "       [0.93747535, 0.06252465],\n",
       "       [0.36072876, 0.63927124],\n",
       "       [0.58645679, 0.41354321],\n",
       "       [0.33116521, 0.66883479],\n",
       "       [0.9032467 , 0.0967533 ],\n",
       "       [0.81633967, 0.18366033],\n",
       "       [0.94333848, 0.05666152],\n",
       "       [0.58042969, 0.41957031],\n",
       "       [0.09192358, 0.90807642],\n",
       "       [0.5037625 , 0.4962375 ],\n",
       "       [0.73814673, 0.26185327],\n",
       "       [0.88479182, 0.11520818],\n",
       "       [0.26908491, 0.73091509],\n",
       "       [0.88159928, 0.11840072],\n",
       "       [0.22614877, 0.77385123],\n",
       "       [0.29572514, 0.70427486],\n",
       "       [0.92855754, 0.07144246],\n",
       "       [0.88159928, 0.11840072],\n",
       "       [0.87155931, 0.12844069],\n",
       "       [0.690341  , 0.309659  ],\n",
       "       [0.87833045, 0.12166955],\n",
       "       [0.68939387, 0.31060613],\n",
       "       [0.38571292, 0.61428708],\n",
       "       [0.38535217, 0.61464783],\n",
       "       [0.35717574, 0.64282426]])"
      ]
     },
     "execution_count": 36,
     "metadata": {},
     "output_type": "execute_result"
    }
   ],
   "source": [
    "LogReg.predict_proba(X_test)"
   ]
  },
  {
   "cell_type": "code",
   "execution_count": null,
   "metadata": {},
   "outputs": [],
   "source": []
  }
 ],
 "metadata": {
  "kernelspec": {
   "display_name": "Python 3",
   "language": "python",
   "name": "python3"
  },
  "language_info": {
   "codemirror_mode": {
    "name": "ipython",
    "version": 3
   },
   "file_extension": ".py",
   "mimetype": "text/x-python",
   "name": "python",
   "nbconvert_exporter": "python",
   "pygments_lexer": "ipython3",
   "version": "3.7.1"
  }
 },
 "nbformat": 4,
 "nbformat_minor": 2
}
