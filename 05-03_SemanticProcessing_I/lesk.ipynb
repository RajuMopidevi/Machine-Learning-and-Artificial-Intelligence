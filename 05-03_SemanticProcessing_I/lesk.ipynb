{
  "cells": [
    {
      "cell_type": "markdown",
      "metadata": {
        "id": "view-in-github",
        "colab_type": "text"
      },
      "source": [
        "<a href=\"https://colab.research.google.com/github/RajuMopidevi/Machine-Learning-and-Artificial-Intelligence/blob/main/05-03_SemanticProcessing_I/lesk.ipynb\" target=\"_parent\"><img src=\"https://colab.research.google.com/assets/colab-badge.svg\" alt=\"Open In Colab\"/></a>"
      ]
    },
    {
      "cell_type": "markdown",
      "id": "shaped-norway",
      "metadata": {
        "id": "shaped-norway"
      },
      "source": [
        "## Word-Sense Disambiguation"
      ]
    },
    {
      "cell_type": "code",
      "execution_count": 7,
      "id": "genetic-terror",
      "metadata": {
        "colab": {
          "base_uri": "https://localhost:8080/"
        },
        "id": "genetic-terror",
        "outputId": "f1b97e3d-afd4-45ae-ac2e-08b0fc70f2e5"
      },
      "outputs": [
        {
          "output_type": "stream",
          "name": "stderr",
          "text": [
            "[nltk_data] Downloading package wordnet to /root/nltk_data...\n",
            "[nltk_data]   Package wordnet is already up-to-date!\n",
            "[nltk_data] Downloading package omw-1.4 to /root/nltk_data...\n"
          ]
        },
        {
          "output_type": "execute_result",
          "data": {
            "text/plain": [
              "True"
            ]
          },
          "metadata": {},
          "execution_count": 7
        }
      ],
      "source": [
        "from nltk.corpus import wordnet as wn\n",
        "from nltk import wsd\n",
        "import nltk\n",
        "nltk.download('wordnet')\n",
        "nltk.download('omw-1.4')"
      ]
    },
    {
      "cell_type": "code",
      "execution_count": 8,
      "id": "adult-bangladesh",
      "metadata": {
        "id": "adult-bangladesh"
      },
      "outputs": [],
      "source": [
        "X = 'The die is cast.'\n",
        "Y = 'Roll the die to get a 6.'\n",
        "Z = 'What is dead may never die.'"
      ]
    },
    {
      "cell_type": "code",
      "execution_count": 9,
      "id": "antique-burlington",
      "metadata": {
        "colab": {
          "base_uri": "https://localhost:8080/"
        },
        "id": "antique-burlington",
        "outputId": "3ed78cdf-c441-4bdf-deff-63c59e87d2a0"
      },
      "outputs": [
        {
          "output_type": "execute_result",
          "data": {
            "text/plain": [
              "[Synset('die.n.01'),\n",
              " Synset('die.n.02'),\n",
              " Synset('die.n.03'),\n",
              " Synset('die.v.01'),\n",
              " Synset('die.v.02'),\n",
              " Synset('die.v.03'),\n",
              " Synset('fail.v.04'),\n",
              " Synset('die.v.05'),\n",
              " Synset('die.v.06'),\n",
              " Synset('die.v.07'),\n",
              " Synset('die.v.08'),\n",
              " Synset('die.v.09'),\n",
              " Synset('die.v.10'),\n",
              " Synset('die.v.11')]"
            ]
          },
          "metadata": {},
          "execution_count": 9
        }
      ],
      "source": [
        "wn.synsets('die')"
      ]
    },
    {
      "cell_type": "code",
      "execution_count": 10,
      "id": "governing-montana",
      "metadata": {
        "colab": {
          "base_uri": "https://localhost:8080/"
        },
        "id": "governing-montana",
        "outputId": "7dd63dee-17c7-412d-8a98-f419bb406523"
      },
      "outputs": [
        {
          "output_type": "execute_result",
          "data": {
            "text/plain": [
              "[Synset('die.n.01'), Synset('die.n.02'), Synset('die.n.03')]"
            ]
          },
          "metadata": {},
          "execution_count": 10
        }
      ],
      "source": [
        "wn.synsets('die', pos=wn.NOUN)"
      ]
    },
    {
      "cell_type": "code",
      "execution_count": 11,
      "id": "located-bookmark",
      "metadata": {
        "colab": {
          "base_uri": "https://localhost:8080/"
        },
        "id": "located-bookmark",
        "outputId": "6b3cc659-b83e-497b-d490-d3cc6993025f"
      },
      "outputs": [
        {
          "output_type": "stream",
          "name": "stdout",
          "text": [
            "a small cube with 1 to 6 spots on the six faces; used in gambling to generate random numbers\n",
            "a device used for shaping metal\n",
            "a cutting tool that is fitted into a diestock and used for cutting male (external) screw threads on screws or bolts or pipes or rods\n"
          ]
        }
      ],
      "source": [
        "for syn in wn.synsets('die', pos=wn.NOUN):\n",
        "    print(syn.definition())"
      ]
    },
    {
      "cell_type": "code",
      "execution_count": 12,
      "id": "after-party",
      "metadata": {
        "colab": {
          "base_uri": "https://localhost:8080/"
        },
        "id": "after-party",
        "outputId": "893e0084-548b-4b33-b217-b55831a89bf9"
      },
      "outputs": [
        {
          "output_type": "stream",
          "name": "stdout",
          "text": [
            "pass from physical life and lose all bodily attributes and functions necessary to sustain life\n",
            "suffer or face the pain of death\n",
            "be brought to or as if to the point of death by an intense emotion such as embarrassment, amusement, or shame\n",
            "stop operating or functioning\n",
            "feel indifferent towards\n",
            "languish as with love or desire\n",
            "cut or shape with a die\n",
            "to be on base at the end of an inning, of a player\n",
            "lose sparkle or bouquet\n",
            "disappear or come to an end\n",
            "suffer spiritual death; be damned (in the religious sense)\n"
          ]
        }
      ],
      "source": [
        "for syn in wn.synsets('die', pos=wn.VERB):\n",
        "    print(syn.definition())"
      ]
    },
    {
      "cell_type": "markdown",
      "id": "bacterial-effect",
      "metadata": {
        "id": "bacterial-effect"
      },
      "source": [
        "## Word-Sense Disambiguation with Lesk Algorithm"
      ]
    },
    {
      "cell_type": "code",
      "execution_count": 13,
      "id": "threaded-tourism",
      "metadata": {
        "colab": {
          "base_uri": "https://localhost:8080/"
        },
        "id": "threaded-tourism",
        "outputId": "c30b9434-7cf2-4769-e92b-a3373357c18e"
      },
      "outputs": [
        {
          "output_type": "stream",
          "name": "stdout",
          "text": [
            "The die is cast.\n"
          ]
        },
        {
          "output_type": "execute_result",
          "data": {
            "text/plain": [
              "Synset('die.v.07')"
            ]
          },
          "metadata": {},
          "execution_count": 13
        }
      ],
      "source": [
        "print(X)\n",
        "wsd.lesk(X.split(), 'die')"
      ]
    },
    {
      "cell_type": "code",
      "execution_count": 14,
      "id": "fluid-cargo",
      "metadata": {
        "colab": {
          "base_uri": "https://localhost:8080/",
          "height": 35
        },
        "id": "fluid-cargo",
        "outputId": "71477ede-1966-4c02-e500-f4ae4afb08d5"
      },
      "outputs": [
        {
          "output_type": "execute_result",
          "data": {
            "text/plain": [
              "'cut or shape with a die'"
            ],
            "application/vnd.google.colaboratory.intrinsic+json": {
              "type": "string"
            }
          },
          "metadata": {},
          "execution_count": 14
        }
      ],
      "source": [
        "_.definition()"
      ]
    },
    {
      "cell_type": "code",
      "execution_count": 15,
      "id": "independent-melissa",
      "metadata": {
        "colab": {
          "base_uri": "https://localhost:8080/",
          "height": 35
        },
        "id": "independent-melissa",
        "outputId": "72480a66-9dc5-4a38-89c7-f885dd180b4e"
      },
      "outputs": [
        {
          "output_type": "execute_result",
          "data": {
            "text/plain": [
              "'a cutting tool that is fitted into a diestock and used for cutting male (external) screw threads on screws or bolts or pipes or rods'"
            ],
            "application/vnd.google.colaboratory.intrinsic+json": {
              "type": "string"
            }
          },
          "metadata": {},
          "execution_count": 15
        }
      ],
      "source": [
        "wsd.lesk(X.split(), 'die', pos=wn.NOUN).definition()"
      ]
    },
    {
      "cell_type": "code",
      "execution_count": 16,
      "id": "progressive-origin",
      "metadata": {
        "colab": {
          "base_uri": "https://localhost:8080/",
          "height": 53
        },
        "id": "progressive-origin",
        "outputId": "f0495888-fede-4ca5-8fc0-38c05a5c1ceb"
      },
      "outputs": [
        {
          "output_type": "stream",
          "name": "stdout",
          "text": [
            "Roll the die to get a 6.\n"
          ]
        },
        {
          "output_type": "execute_result",
          "data": {
            "text/plain": [
              "'to be on base at the end of an inning, of a player'"
            ],
            "application/vnd.google.colaboratory.intrinsic+json": {
              "type": "string"
            }
          },
          "metadata": {},
          "execution_count": 16
        }
      ],
      "source": [
        "print(Y)\n",
        "wsd.lesk(Y.split(), 'die').definition()"
      ]
    },
    {
      "cell_type": "code",
      "execution_count": 17,
      "id": "proof-while",
      "metadata": {
        "colab": {
          "base_uri": "https://localhost:8080/",
          "height": 35
        },
        "id": "proof-while",
        "outputId": "915c8b5e-39d4-41f4-94b2-11e3d3d98f7e"
      },
      "outputs": [
        {
          "output_type": "execute_result",
          "data": {
            "text/plain": [
              "'a small cube with 1 to 6 spots on the six faces; used in gambling to generate random numbers'"
            ],
            "application/vnd.google.colaboratory.intrinsic+json": {
              "type": "string"
            }
          },
          "metadata": {},
          "execution_count": 17
        }
      ],
      "source": [
        "wsd.lesk(Y.split(), 'die', pos=wn.NOUN).definition()"
      ]
    },
    {
      "cell_type": "code",
      "execution_count": 18,
      "id": "middle-object",
      "metadata": {
        "colab": {
          "base_uri": "https://localhost:8080/",
          "height": 53
        },
        "id": "middle-object",
        "outputId": "67359c23-dc22-43b9-93ea-55279b8256e8"
      },
      "outputs": [
        {
          "output_type": "stream",
          "name": "stdout",
          "text": [
            "What is dead may never die.\n"
          ]
        },
        {
          "output_type": "execute_result",
          "data": {
            "text/plain": [
              "'a cutting tool that is fitted into a diestock and used for cutting male (external) screw threads on screws or bolts or pipes or rods'"
            ],
            "application/vnd.google.colaboratory.intrinsic+json": {
              "type": "string"
            }
          },
          "metadata": {},
          "execution_count": 18
        }
      ],
      "source": [
        "print(Z)\n",
        "wsd.lesk(Z.split(), 'die').definition()"
      ]
    },
    {
      "cell_type": "code",
      "execution_count": 19,
      "id": "organizational-joint",
      "metadata": {
        "colab": {
          "base_uri": "https://localhost:8080/",
          "height": 35
        },
        "id": "organizational-joint",
        "outputId": "c44efc67-5efe-45f7-d37b-b69cffbc65b5"
      },
      "outputs": [
        {
          "output_type": "execute_result",
          "data": {
            "text/plain": [
              "'stop operating or functioning'"
            ],
            "application/vnd.google.colaboratory.intrinsic+json": {
              "type": "string"
            }
          },
          "metadata": {},
          "execution_count": 19
        }
      ],
      "source": [
        "wsd.lesk(Z.split(), 'die', pos=wn.VERB).definition()"
      ]
    },
    {
      "cell_type": "markdown",
      "id": "valuable-harbor",
      "metadata": {
        "id": "valuable-harbor"
      },
      "source": [
        "## Automatic POS Tagging + Lesk with spaCy"
      ]
    },
    {
      "cell_type": "code",
      "execution_count": 20,
      "id": "defensive-trailer",
      "metadata": {
        "colab": {
          "base_uri": "https://localhost:8080/"
        },
        "id": "defensive-trailer",
        "outputId": "f247293b-2ee4-4fb1-b35f-88a86370f39e"
      },
      "outputs": [
        {
          "output_type": "stream",
          "name": "stdout",
          "text": [
            "Looking in indexes: https://pypi.org/simple, https://us-python.pkg.dev/colab-wheels/public/simple/\n",
            "Requirement already satisfied: spacy in /usr/local/lib/python3.8/dist-packages (3.4.4)\n",
            "Requirement already satisfied: numpy>=1.15.0 in /usr/local/lib/python3.8/dist-packages (from spacy) (1.21.6)\n",
            "Requirement already satisfied: pydantic!=1.8,!=1.8.1,<1.11.0,>=1.7.4 in /usr/local/lib/python3.8/dist-packages (from spacy) (1.10.2)\n",
            "Requirement already satisfied: preshed<3.1.0,>=3.0.2 in /usr/local/lib/python3.8/dist-packages (from spacy) (3.0.8)\n",
            "Requirement already satisfied: wasabi<1.1.0,>=0.9.1 in /usr/local/lib/python3.8/dist-packages (from spacy) (0.10.1)\n",
            "Requirement already satisfied: pathy>=0.3.5 in /usr/local/lib/python3.8/dist-packages (from spacy) (0.10.1)\n",
            "Requirement already satisfied: tqdm<5.0.0,>=4.38.0 in /usr/local/lib/python3.8/dist-packages (from spacy) (4.64.1)\n",
            "Requirement already satisfied: typer<0.8.0,>=0.3.0 in /usr/local/lib/python3.8/dist-packages (from spacy) (0.7.0)\n",
            "Requirement already satisfied: spacy-legacy<3.1.0,>=3.0.10 in /usr/local/lib/python3.8/dist-packages (from spacy) (3.0.10)\n",
            "Requirement already satisfied: requests<3.0.0,>=2.13.0 in /usr/local/lib/python3.8/dist-packages (from spacy) (2.23.0)\n",
            "Requirement already satisfied: smart-open<7.0.0,>=5.2.1 in /usr/local/lib/python3.8/dist-packages (from spacy) (6.3.0)\n",
            "Requirement already satisfied: thinc<8.2.0,>=8.1.0 in /usr/local/lib/python3.8/dist-packages (from spacy) (8.1.5)\n",
            "Requirement already satisfied: setuptools in /usr/local/lib/python3.8/dist-packages (from spacy) (57.4.0)\n",
            "Requirement already satisfied: cymem<2.1.0,>=2.0.2 in /usr/local/lib/python3.8/dist-packages (from spacy) (2.0.7)\n",
            "Requirement already satisfied: srsly<3.0.0,>=2.4.3 in /usr/local/lib/python3.8/dist-packages (from spacy) (2.4.5)\n",
            "Requirement already satisfied: catalogue<2.1.0,>=2.0.6 in /usr/local/lib/python3.8/dist-packages (from spacy) (2.0.8)\n",
            "Requirement already satisfied: langcodes<4.0.0,>=3.2.0 in /usr/local/lib/python3.8/dist-packages (from spacy) (3.3.0)\n",
            "Requirement already satisfied: spacy-loggers<2.0.0,>=1.0.0 in /usr/local/lib/python3.8/dist-packages (from spacy) (1.0.4)\n",
            "Requirement already satisfied: jinja2 in /usr/local/lib/python3.8/dist-packages (from spacy) (2.11.3)\n",
            "Requirement already satisfied: packaging>=20.0 in /usr/local/lib/python3.8/dist-packages (from spacy) (21.3)\n",
            "Requirement already satisfied: murmurhash<1.1.0,>=0.28.0 in /usr/local/lib/python3.8/dist-packages (from spacy) (1.0.9)\n",
            "Requirement already satisfied: pyparsing!=3.0.5,>=2.0.2 in /usr/local/lib/python3.8/dist-packages (from packaging>=20.0->spacy) (3.0.9)\n",
            "Requirement already satisfied: typing-extensions>=4.1.0 in /usr/local/lib/python3.8/dist-packages (from pydantic!=1.8,!=1.8.1,<1.11.0,>=1.7.4->spacy) (4.4.0)\n",
            "Requirement already satisfied: idna<3,>=2.5 in /usr/local/lib/python3.8/dist-packages (from requests<3.0.0,>=2.13.0->spacy) (2.10)\n",
            "Requirement already satisfied: chardet<4,>=3.0.2 in /usr/local/lib/python3.8/dist-packages (from requests<3.0.0,>=2.13.0->spacy) (3.0.4)\n",
            "Requirement already satisfied: urllib3!=1.25.0,!=1.25.1,<1.26,>=1.21.1 in /usr/local/lib/python3.8/dist-packages (from requests<3.0.0,>=2.13.0->spacy) (1.24.3)\n",
            "Requirement already satisfied: certifi>=2017.4.17 in /usr/local/lib/python3.8/dist-packages (from requests<3.0.0,>=2.13.0->spacy) (2022.12.7)\n",
            "Requirement already satisfied: confection<1.0.0,>=0.0.1 in /usr/local/lib/python3.8/dist-packages (from thinc<8.2.0,>=8.1.0->spacy) (0.0.3)\n",
            "Requirement already satisfied: blis<0.8.0,>=0.7.8 in /usr/local/lib/python3.8/dist-packages (from thinc<8.2.0,>=8.1.0->spacy) (0.7.9)\n",
            "Requirement already satisfied: click<9.0.0,>=7.1.1 in /usr/local/lib/python3.8/dist-packages (from typer<0.8.0,>=0.3.0->spacy) (7.1.2)\n",
            "Requirement already satisfied: MarkupSafe>=0.23 in /usr/local/lib/python3.8/dist-packages (from jinja2->spacy) (2.0.1)\n"
          ]
        }
      ],
      "source": [
        "!pip install spacy"
      ]
    },
    {
      "cell_type": "code",
      "execution_count": 21,
      "id": "cellular-reflection",
      "metadata": {
        "colab": {
          "base_uri": "https://localhost:8080/"
        },
        "id": "cellular-reflection",
        "outputId": "ee2e5a66-ce0e-4ed6-a9c1-26e515fb93e0"
      },
      "outputs": [
        {
          "output_type": "stream",
          "name": "stderr",
          "text": [
            "/usr/local/lib/python3.8/dist-packages/torch/cuda/__init__.py:497: UserWarning: Can't initialize NVML\n",
            "  warnings.warn(\"Can't initialize NVML\")\n"
          ]
        }
      ],
      "source": [
        "from spacy.cli import download\n",
        "from spacy import load\n",
        "# download('en_core_web_sm')\n",
        "nlp = load('en_core_web_sm')"
      ]
    },
    {
      "cell_type": "code",
      "execution_count": 22,
      "id": "radical-melbourne",
      "metadata": {
        "id": "radical-melbourne"
      },
      "outputs": [],
      "source": [
        "import warnings\n",
        "\n",
        "POS_MAP = {\n",
        "    'VERB': wn.VERB,\n",
        "    'NOUN': wn.NOUN,\n",
        "    'PROPN': wn.NOUN\n",
        "}\n",
        "\n",
        "\n",
        "def lesk(doc, word):\n",
        "    found = False\n",
        "    for token in doc:\n",
        "        if token.text == word:\n",
        "            word = token\n",
        "            found = True\n",
        "            break\n",
        "    if not found:\n",
        "        raise ValueError(f'Word \\\"{word}\\\" does not appear in the document: {doc.text}.')\n",
        "    pos = POS_MAP.get(word.pos_, False)\n",
        "    if not pos:\n",
        "        warnings.warn(f'POS tag for {word.text} not found in wordnet. Falling back to default Lesk behaviour.')\n",
        "    args = [c.text for c in doc], word.text\n",
        "    kwargs = dict(pos=pos)\n",
        "    return wsd.lesk(*args, **kwargs)"
      ]
    },
    {
      "cell_type": "code",
      "execution_count": 23,
      "id": "monetary-disaster",
      "metadata": {
        "id": "monetary-disaster"
      },
      "outputs": [],
      "source": [
        "doc = nlp('Roll the die to get a 6.')"
      ]
    },
    {
      "cell_type": "code",
      "execution_count": 24,
      "id": "surgical-chrome",
      "metadata": {
        "colab": {
          "base_uri": "https://localhost:8080/"
        },
        "id": "surgical-chrome",
        "outputId": "f3e00e26-7a09-454b-e6ab-6b9ad9227b65"
      },
      "outputs": [
        {
          "output_type": "execute_result",
          "data": {
            "text/plain": [
              "Synset('die.n.01')"
            ]
          },
          "metadata": {},
          "execution_count": 24
        }
      ],
      "source": [
        "lesk(doc, 'die')"
      ]
    },
    {
      "cell_type": "code",
      "execution_count": 25,
      "id": "cordless-bankruptcy",
      "metadata": {
        "colab": {
          "base_uri": "https://localhost:8080/",
          "height": 35
        },
        "id": "cordless-bankruptcy",
        "outputId": "280a4d83-7a78-4a5d-ad2c-b6152600d60a"
      },
      "outputs": [
        {
          "output_type": "execute_result",
          "data": {
            "text/plain": [
              "'a small cube with 1 to 6 spots on the six faces; used in gambling to generate random numbers'"
            ],
            "application/vnd.google.colaboratory.intrinsic+json": {
              "type": "string"
            }
          },
          "metadata": {},
          "execution_count": 25
        }
      ],
      "source": [
        "lesk(doc, 'die').definition()"
      ]
    },
    {
      "cell_type": "code",
      "execution_count": 26,
      "id": "excess-consultancy",
      "metadata": {
        "colab": {
          "base_uri": "https://localhost:8080/",
          "height": 35
        },
        "id": "excess-consultancy",
        "outputId": "88f3a048-0a77-47ce-b813-836a1cd4b069"
      },
      "outputs": [
        {
          "output_type": "execute_result",
          "data": {
            "text/plain": [
              "\"a widely used search engine that uses text-matching techniques to find web pages that are important and relevant to a user's search\""
            ],
            "application/vnd.google.colaboratory.intrinsic+json": {
              "type": "string"
            }
          },
          "metadata": {},
          "execution_count": 26
        }
      ],
      "source": [
        "lesk(nlp('I work at google.'), 'google').definition()"
      ]
    },
    {
      "cell_type": "code",
      "execution_count": 27,
      "id": "infectious-binary",
      "metadata": {
        "colab": {
          "base_uri": "https://localhost:8080/",
          "height": 35
        },
        "id": "infectious-binary",
        "outputId": "01b37e43-2e31-46f6-bca2-b88cd7c3de9c"
      },
      "outputs": [
        {
          "output_type": "execute_result",
          "data": {
            "text/plain": [
              "'search the internet (for information) using the Google search engine'"
            ],
            "application/vnd.google.colaboratory.intrinsic+json": {
              "type": "string"
            }
          },
          "metadata": {},
          "execution_count": 27
        }
      ],
      "source": [
        "lesk(nlp('I will google it.'), 'google').definition()"
      ]
    },
    {
      "cell_type": "code",
      "execution_count": 27,
      "id": "laughing-carolina",
      "metadata": {
        "id": "laughing-carolina"
      },
      "outputs": [],
      "source": []
    }
  ],
  "metadata": {
    "kernelspec": {
      "display_name": "Python 3",
      "language": "python",
      "name": "python3"
    },
    "language_info": {
      "codemirror_mode": {
        "name": "ipython",
        "version": 3
      },
      "file_extension": ".py",
      "mimetype": "text/x-python",
      "name": "python",
      "nbconvert_exporter": "python",
      "pygments_lexer": "ipython3",
      "version": "3.8.5"
    },
    "colab": {
      "provenance": [],
      "include_colab_link": true
    }
  },
  "nbformat": 4,
  "nbformat_minor": 5
}