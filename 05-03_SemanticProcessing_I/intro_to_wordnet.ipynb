{
  "cells": [
    {
      "cell_type": "markdown",
      "metadata": {
        "id": "view-in-github",
        "colab_type": "text"
      },
      "source": [
        "<a href=\"https://colab.research.google.com/github/RajuMopidevi/Machine-Learning-and-Artificial-Intelligence/blob/main/05-03_SemanticProcessing_I/intro_to_wordnet.ipynb\" target=\"_parent\"><img src=\"https://colab.research.google.com/assets/colab-badge.svg\" alt=\"Open In Colab\"/></a>"
      ]
    },
    {
      "cell_type": "raw",
      "id": "freelance-naples",
      "metadata": {
        "id": "freelance-naples"
      },
      "source": [
        "----------------------------------------------------------------------\n",
        "Filename : intro-to-wordnet.ipynb\n",
        "Author   : Jaidev Deshpande\n",
        "Purpose  : Understanding Wordnet functionalities\n",
        "Libraries: nltk\n",
        "----------------------------------------------------------------------"
      ]
    },
    {
      "cell_type": "markdown",
      "id": "anonymous-canadian",
      "metadata": {
        "id": "anonymous-canadian"
      },
      "source": [
        "## [WordNet®](https://wordnet.princeton.edu/) Tutorial\n",
        "\n",
        "### Navigating Wornet Relationships"
      ]
    },
    {
      "cell_type": "code",
      "execution_count": 9,
      "id": "widespread-traveler",
      "metadata": {
        "colab": {
          "base_uri": "https://localhost:8080/"
        },
        "id": "widespread-traveler",
        "outputId": "500f9060-1bf2-4b42-9619-2418343bf11f"
      },
      "outputs": [
        {
          "output_type": "stream",
          "name": "stdout",
          "text": [
            "Looking in indexes: https://pypi.org/simple, https://us-python.pkg.dev/colab-wheels/public/simple/\n",
            "Requirement already satisfied: nltk in /usr/local/lib/python3.8/dist-packages (3.7)\n",
            "Requirement already satisfied: tqdm in /usr/local/lib/python3.8/dist-packages (from nltk) (4.64.1)\n",
            "Requirement already satisfied: joblib in /usr/local/lib/python3.8/dist-packages (from nltk) (1.2.0)\n",
            "Requirement already satisfied: click in /usr/local/lib/python3.8/dist-packages (from nltk) (7.1.2)\n",
            "Requirement already satisfied: regex>=2021.8.3 in /usr/local/lib/python3.8/dist-packages (from nltk) (2022.6.2)\n"
          ]
        }
      ],
      "source": [
        "!pip install nltk"
      ]
    },
    {
      "cell_type": "code",
      "execution_count": 10,
      "id": "vocational-clearance",
      "metadata": {
        "id": "vocational-clearance"
      },
      "outputs": [],
      "source": [
        "from nltk import download"
      ]
    },
    {
      "cell_type": "code",
      "execution_count": 11,
      "id": "sensitive-albany",
      "metadata": {
        "colab": {
          "base_uri": "https://localhost:8080/"
        },
        "id": "sensitive-albany",
        "outputId": "7d00ffc4-008d-43aa-a8de-68cb94699fee"
      },
      "outputs": [
        {
          "output_type": "stream",
          "name": "stderr",
          "text": [
            "[nltk_data] Downloading package wordnet to /root/nltk_data...\n",
            "[nltk_data]   Package wordnet is already up-to-date!\n"
          ]
        },
        {
          "output_type": "execute_result",
          "data": {
            "text/plain": [
              "True"
            ]
          },
          "metadata": {},
          "execution_count": 11
        }
      ],
      "source": [
        "download('wordnet')"
      ]
    },
    {
      "cell_type": "code",
      "execution_count": 12,
      "id": "weird-memory",
      "metadata": {
        "colab": {
          "base_uri": "https://localhost:8080/"
        },
        "id": "weird-memory",
        "outputId": "da42da83-1efc-49b9-968e-f080d11c6eb7"
      },
      "outputs": [
        {
          "output_type": "stream",
          "name": "stderr",
          "text": [
            "[nltk_data] Downloading package omw-1.4 to /root/nltk_data...\n",
            "[nltk_data]   Package omw-1.4 is already up-to-date!\n"
          ]
        },
        {
          "output_type": "execute_result",
          "data": {
            "text/plain": [
              "True"
            ]
          },
          "metadata": {},
          "execution_count": 12
        }
      ],
      "source": [
        "from nltk.corpus import wordnet\n",
        "import nltk\n",
        "nltk.download('omw-1.4')"
      ]
    },
    {
      "cell_type": "code",
      "execution_count": 13,
      "id": "developing-failure",
      "metadata": {
        "colab": {
          "base_uri": "https://localhost:8080/"
        },
        "id": "developing-failure",
        "outputId": "439be939-561e-4c72-eecc-9c27278b8d2d"
      },
      "outputs": [
        {
          "output_type": "execute_result",
          "data": {
            "text/plain": [
              "[Synset('tractor.n.01'), Synset('tractor.n.02')]"
            ]
          },
          "metadata": {},
          "execution_count": 13
        }
      ],
      "source": [
        "# Synsets\n",
        "\n",
        "tractor = wordnet.synsets('tractor')\n",
        "tractor"
      ]
    },
    {
      "cell_type": "code",
      "execution_count": 14,
      "id": "seasonal-hungary",
      "metadata": {
        "colab": {
          "base_uri": "https://localhost:8080/"
        },
        "id": "seasonal-hungary",
        "outputId": "5dc811c6-9c49-480e-9d85-095da6c3cc55"
      },
      "outputs": [
        {
          "output_type": "execute_result",
          "data": {
            "text/plain": [
              "['a wheeled vehicle with large wheels; used in farming and other applications',\n",
              " 'a truck that has a cab but no body; used for pulling large trailers or vans']"
            ]
          },
          "metadata": {},
          "execution_count": 14
        }
      ],
      "source": [
        "# Definitions of senses\n",
        "\n",
        "[syn.definition() for syn in tractor]"
      ]
    },
    {
      "cell_type": "code",
      "execution_count": 15,
      "id": "active-norwegian",
      "metadata": {
        "colab": {
          "base_uri": "https://localhost:8080/"
        },
        "id": "active-norwegian",
        "outputId": "dc8ad2cf-3bbe-46e3-e41f-47ff577ba090"
      },
      "outputs": [
        {
          "output_type": "execute_result",
          "data": {
            "text/plain": [
              "[Synset('self-propelled_vehicle.n.01')]"
            ]
          },
          "metadata": {},
          "execution_count": 15
        }
      ],
      "source": [
        "# Hypernyms: Relation between a concept and its superordinate\n",
        "\n",
        "tractor = wordnet.synset('tractor.n.01')\n",
        "tractor.hypernyms()"
      ]
    },
    {
      "cell_type": "code",
      "execution_count": 16,
      "id": "arctic-customer",
      "metadata": {
        "colab": {
          "base_uri": "https://localhost:8080/"
        },
        "id": "arctic-customer",
        "outputId": "573d0008-89f3-434e-bdc7-b4fe64b44bd8"
      },
      "outputs": [
        {
          "output_type": "execute_result",
          "data": {
            "text/plain": [
              "[Synset('wheeled_vehicle.n.01')]"
            ]
          },
          "metadata": {},
          "execution_count": 16
        }
      ],
      "source": [
        "self_propelled_vehicle = wordnet.synset('self-propelled_vehicle.n.01')\n",
        "self_propelled_vehicle.hypernyms()"
      ]
    },
    {
      "cell_type": "code",
      "execution_count": 17,
      "id": "invalid-lease",
      "metadata": {
        "colab": {
          "base_uri": "https://localhost:8080/"
        },
        "id": "invalid-lease",
        "outputId": "dbbef905-b35c-4f24-cb1d-6caa5a2a8211"
      },
      "outputs": [
        {
          "output_type": "execute_result",
          "data": {
            "text/plain": [
              "[Synset('axle.n.01'),\n",
              " Synset('brake.n.01'),\n",
              " Synset('splasher.n.01'),\n",
              " Synset('wheel.n.01')]"
            ]
          },
          "metadata": {},
          "execution_count": 17
        }
      ],
      "source": [
        "# Meronyms: Relation between a part and its whole\n",
        "\n",
        "wheeled_vehicle = wordnet.synset('wheeled_vehicle.n.01')\n",
        "wheeled_vehicle.part_meronyms()"
      ]
    },
    {
      "cell_type": "code",
      "execution_count": 18,
      "id": "brown-weekend",
      "metadata": {
        "colab": {
          "base_uri": "https://localhost:8080/"
        },
        "id": "brown-weekend",
        "outputId": "44391253-939c-43b2-b338-e921935749ab"
      },
      "outputs": [
        {
          "output_type": "execute_result",
          "data": {
            "text/plain": [
              "[Synset('baby_buggy.n.01'),\n",
              " Synset('bicycle.n.01'),\n",
              " Synset('boneshaker.n.01'),\n",
              " Synset('car.n.02'),\n",
              " Synset('handcart.n.01'),\n",
              " Synset('horse-drawn_vehicle.n.01'),\n",
              " Synset('motor_scooter.n.01'),\n",
              " Synset('rolling_stock.n.01'),\n",
              " Synset('scooter.n.02'),\n",
              " Synset('self-propelled_vehicle.n.01'),\n",
              " Synset('skateboard.n.01'),\n",
              " Synset('trailer.n.04'),\n",
              " Synset('tricycle.n.01'),\n",
              " Synset('unicycle.n.01'),\n",
              " Synset('wagon.n.01'),\n",
              " Synset('wagon.n.04'),\n",
              " Synset('welcome_wagon.n.01')]"
            ]
          },
          "metadata": {},
          "execution_count": 18
        }
      ],
      "source": [
        "# Hyponyms: Relation between a concept and its subordinate\n",
        "\n",
        "wheeled_vehicle.hyponyms()"
      ]
    },
    {
      "cell_type": "code",
      "execution_count": 19,
      "id": "theoretical-bargain",
      "metadata": {
        "colab": {
          "base_uri": "https://localhost:8080/"
        },
        "id": "theoretical-bargain",
        "outputId": "fceebce8-9cab-41c5-b144-ea538747b2e0"
      },
      "outputs": [
        {
          "output_type": "execute_result",
          "data": {
            "text/plain": [
              "[Synset('wheeled_vehicle.n.01')]"
            ]
          },
          "metadata": {},
          "execution_count": 19
        }
      ],
      "source": [
        "# Holonyms: Relation between whole and its parts\n",
        "\n",
        "axle = wordnet.synset('axle.n.01')\n",
        "axle.part_holonyms()"
      ]
    },
    {
      "cell_type": "code",
      "execution_count": 20,
      "id": "identical-shoulder",
      "metadata": {
        "colab": {
          "base_uri": "https://localhost:8080/"
        },
        "id": "identical-shoulder",
        "outputId": "89568888-a96b-4be8-ae7a-9cd36d896b81"
      },
      "outputs": [
        {
          "output_type": "execute_result",
          "data": {
            "text/plain": [
              "[Synset('armored_vehicle.n.01'),\n",
              " Synset('carrier.n.02'),\n",
              " Synset('forklift.n.01'),\n",
              " Synset('locomotive.n.01'),\n",
              " Synset('motor_vehicle.n.01'),\n",
              " Synset('personnel_carrier.n.01'),\n",
              " Synset('reconnaissance_vehicle.n.01'),\n",
              " Synset('recreational_vehicle.n.01'),\n",
              " Synset('streetcar.n.01'),\n",
              " Synset('tracked_vehicle.n.01'),\n",
              " Synset('tractor.n.01'),\n",
              " Synset('weapons_carrier.n.01')]"
            ]
          },
          "metadata": {},
          "execution_count": 20
        }
      ],
      "source": [
        "self_propelled_vehicle.hyponyms()"
      ]
    },
    {
      "cell_type": "code",
      "execution_count": 21,
      "id": "quick-strengthening",
      "metadata": {
        "colab": {
          "base_uri": "https://localhost:8080/"
        },
        "id": "quick-strengthening",
        "outputId": "f0155721-64d5-42b2-92c0-b815f6bc521f"
      },
      "outputs": [
        {
          "output_type": "execute_result",
          "data": {
            "text/plain": [
              "[Synset('amphibian.n.01'),\n",
              " Synset('bloodmobile.n.01'),\n",
              " Synset('car.n.01'),\n",
              " Synset('doodlebug.n.01'),\n",
              " Synset('four-wheel_drive.n.01'),\n",
              " Synset('go-kart.n.01'),\n",
              " Synset('golfcart.n.01'),\n",
              " Synset('hearse.n.01'),\n",
              " Synset('motorcycle.n.01'),\n",
              " Synset('snowplow.n.01'),\n",
              " Synset('truck.n.01')]"
            ]
          },
          "metadata": {},
          "execution_count": 21
        }
      ],
      "source": [
        "motor_vehicle = wordnet.synset('motor_vehicle.n.01')\n",
        "motor_vehicle.hyponyms()"
      ]
    },
    {
      "cell_type": "code",
      "execution_count": 22,
      "id": "egyptian-appliance",
      "metadata": {
        "colab": {
          "base_uri": "https://localhost:8080/"
        },
        "id": "egyptian-appliance",
        "outputId": "05da8669-044a-4fa2-fce6-4e1b545d156c"
      },
      "outputs": [
        {
          "output_type": "execute_result",
          "data": {
            "text/plain": [
              "[Synset('accelerator.n.01'),\n",
              " Synset('air_bag.n.01'),\n",
              " Synset('auto_accessory.n.01'),\n",
              " Synset('automobile_engine.n.01'),\n",
              " Synset('automobile_horn.n.01'),\n",
              " Synset('buffer.n.06'),\n",
              " Synset('bumper.n.02'),\n",
              " Synset('car_door.n.01'),\n",
              " Synset('car_mirror.n.01'),\n",
              " Synset('car_seat.n.01'),\n",
              " Synset('car_window.n.01'),\n",
              " Synset('fender.n.01'),\n",
              " Synset('first_gear.n.01'),\n",
              " Synset('floorboard.n.02'),\n",
              " Synset('gasoline_engine.n.01'),\n",
              " Synset('glove_compartment.n.01'),\n",
              " Synset('grille.n.02'),\n",
              " Synset('high_gear.n.01'),\n",
              " Synset('hood.n.09'),\n",
              " Synset('luggage_compartment.n.01'),\n",
              " Synset('rear_window.n.01'),\n",
              " Synset('reverse.n.02'),\n",
              " Synset('roof.n.02'),\n",
              " Synset('running_board.n.01'),\n",
              " Synset('stabilizer_bar.n.01'),\n",
              " Synset('sunroof.n.01'),\n",
              " Synset('tail_fin.n.02'),\n",
              " Synset('third_gear.n.01'),\n",
              " Synset('window.n.02')]"
            ]
          },
          "metadata": {},
          "execution_count": 22
        }
      ],
      "source": [
        "car = wordnet.synset('car.n.01')\n",
        "car.part_meronyms()"
      ]
    },
    {
      "cell_type": "code",
      "execution_count": 22,
      "id": "civic-worst",
      "metadata": {
        "id": "civic-worst"
      },
      "outputs": [],
      "source": []
    }
  ],
  "metadata": {
    "kernelspec": {
      "display_name": "Python 3",
      "language": "python",
      "name": "python3"
    },
    "language_info": {
      "codemirror_mode": {
        "name": "ipython",
        "version": 3
      },
      "file_extension": ".py",
      "mimetype": "text/x-python",
      "name": "python",
      "nbconvert_exporter": "python",
      "pygments_lexer": "ipython3",
      "version": "3.8.5"
    },
    "colab": {
      "provenance": [],
      "include_colab_link": true
    }
  },
  "nbformat": 4,
  "nbformat_minor": 5
}