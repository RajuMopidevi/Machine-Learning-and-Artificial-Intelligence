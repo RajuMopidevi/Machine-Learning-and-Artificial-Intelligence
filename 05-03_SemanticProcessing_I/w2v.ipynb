{
  "cells": [
    {
      "cell_type": "markdown",
      "metadata": {
        "id": "view-in-github",
        "colab_type": "text"
      },
      "source": [
        "<a href=\"https://colab.research.google.com/github/RajuMopidevi/Machine-Learning-and-Artificial-Intelligence/blob/main/05-03_SemanticProcessing_I/w2v.ipynb\" target=\"_parent\"><img src=\"https://colab.research.google.com/assets/colab-badge.svg\" alt=\"Open In Colab\"/></a>"
      ]
    },
    {
      "cell_type": "markdown",
      "id": "instrumental-singapore",
      "metadata": {
        "id": "instrumental-singapore"
      },
      "source": [
        "# Word2Vec Tutorial with Gensim"
      ]
    },
    {
      "cell_type": "code",
      "execution_count": 20,
      "id": "located-paintball",
      "metadata": {
        "colab": {
          "base_uri": "https://localhost:8080/"
        },
        "id": "located-paintball",
        "outputId": "f7a15542-9acd-4ec5-95a6-30946d53f4d7"
      },
      "outputs": [
        {
          "output_type": "stream",
          "name": "stdout",
          "text": [
            "Looking in indexes: https://pypi.org/simple, https://us-python.pkg.dev/colab-wheels/public/simple/\n",
            "Requirement already satisfied: gensim in /usr/local/lib/python3.8/dist-packages (3.6.0)\n",
            "Requirement already satisfied: numpy>=1.11.3 in /usr/local/lib/python3.8/dist-packages (from gensim) (1.21.6)\n",
            "Requirement already satisfied: six>=1.5.0 in /usr/local/lib/python3.8/dist-packages (from gensim) (1.15.0)\n",
            "Requirement already satisfied: smart-open>=1.2.1 in /usr/local/lib/python3.8/dist-packages (from gensim) (6.3.0)\n",
            "Requirement already satisfied: scipy>=0.18.1 in /usr/local/lib/python3.8/dist-packages (from gensim) (1.7.3)\n"
          ]
        }
      ],
      "source": [
        "!pip install gensim"
      ]
    },
    {
      "cell_type": "code",
      "source": [
        "!pip3 install --upgrade gensim --user"
      ],
      "metadata": {
        "colab": {
          "base_uri": "https://localhost:8080/",
          "height": 784
        },
        "id": "pxepHZYVMxFR",
        "outputId": "0f45ff80-6212-4713-d004-fde187f39c0b"
      },
      "id": "pxepHZYVMxFR",
      "execution_count": 21,
      "outputs": [
        {
          "output_type": "stream",
          "name": "stdout",
          "text": [
            "Looking in indexes: https://pypi.org/simple, https://us-python.pkg.dev/colab-wheels/public/simple/\n",
            "Requirement already satisfied: gensim in /usr/local/lib/python3.8/dist-packages (3.6.0)\n",
            "Collecting gensim\n",
            "  Downloading gensim-4.3.0-cp38-cp38-manylinux_2_12_x86_64.manylinux2010_x86_64.whl (24.1 MB)\n",
            "\u001b[K     |████████████████████████████████| 24.1 MB 1.3 MB/s \n",
            "\u001b[?25hCollecting FuzzyTM>=0.4.0\n",
            "  Downloading FuzzyTM-2.0.5-py3-none-any.whl (29 kB)\n",
            "Requirement already satisfied: numpy>=1.18.5 in /usr/local/lib/python3.8/dist-packages (from gensim) (1.21.6)\n",
            "Requirement already satisfied: smart-open>=1.8.1 in /usr/local/lib/python3.8/dist-packages (from gensim) (6.3.0)\n",
            "Requirement already satisfied: scipy>=1.7.0 in /usr/local/lib/python3.8/dist-packages (from gensim) (1.7.3)\n",
            "Collecting pyfume\n",
            "  Downloading pyFUME-0.2.25-py3-none-any.whl (67 kB)\n",
            "\u001b[K     |████████████████████████████████| 67 kB 6.4 MB/s \n",
            "\u001b[?25hRequirement already satisfied: pandas in /usr/local/lib/python3.8/dist-packages (from FuzzyTM>=0.4.0->gensim) (1.3.5)\n",
            "Requirement already satisfied: pytz>=2017.3 in /usr/local/lib/python3.8/dist-packages (from pandas->FuzzyTM>=0.4.0->gensim) (2022.6)\n",
            "Requirement already satisfied: python-dateutil>=2.7.3 in /usr/local/lib/python3.8/dist-packages (from pandas->FuzzyTM>=0.4.0->gensim) (2.8.2)\n",
            "Requirement already satisfied: six>=1.5 in /usr/local/lib/python3.8/dist-packages (from python-dateutil>=2.7.3->pandas->FuzzyTM>=0.4.0->gensim) (1.15.0)\n",
            "Collecting fst-pso\n",
            "  Downloading fst-pso-1.8.1.tar.gz (18 kB)\n",
            "Collecting simpful\n",
            "  Downloading simpful-2.9.0-py3-none-any.whl (30 kB)\n",
            "Collecting miniful\n",
            "  Downloading miniful-0.0.6.tar.gz (2.8 kB)\n",
            "Requirement already satisfied: requests in /usr/local/lib/python3.8/dist-packages (from simpful->pyfume->FuzzyTM>=0.4.0->gensim) (2.23.0)\n",
            "Requirement already satisfied: certifi>=2017.4.17 in /usr/local/lib/python3.8/dist-packages (from requests->simpful->pyfume->FuzzyTM>=0.4.0->gensim) (2022.12.7)\n",
            "Requirement already satisfied: idna<3,>=2.5 in /usr/local/lib/python3.8/dist-packages (from requests->simpful->pyfume->FuzzyTM>=0.4.0->gensim) (2.10)\n",
            "Requirement already satisfied: chardet<4,>=3.0.2 in /usr/local/lib/python3.8/dist-packages (from requests->simpful->pyfume->FuzzyTM>=0.4.0->gensim) (3.0.4)\n",
            "Requirement already satisfied: urllib3!=1.25.0,!=1.25.1,<1.26,>=1.21.1 in /usr/local/lib/python3.8/dist-packages (from requests->simpful->pyfume->FuzzyTM>=0.4.0->gensim) (1.24.3)\n",
            "Building wheels for collected packages: fst-pso, miniful\n",
            "  Building wheel for fst-pso (setup.py) ... \u001b[?25l\u001b[?25hdone\n",
            "  Created wheel for fst-pso: filename=fst_pso-1.8.1-py3-none-any.whl size=20443 sha256=bf9369cd6a4978d69aee857953bac41a7a67aeebdcdf2e7b2a525626a570cb93\n",
            "  Stored in directory: /root/.cache/pip/wheels/6a/65/c4/d27eeee9ba3fc150a0dae150519591103b9e0dbffde3ae77dc\n",
            "  Building wheel for miniful (setup.py) ... \u001b[?25l\u001b[?25hdone\n",
            "  Created wheel for miniful: filename=miniful-0.0.6-py3-none-any.whl size=3530 sha256=517d9e0ddcf5508ca9145828658c2e71e77c6844e6924b245ed7df7040069fe0\n",
            "  Stored in directory: /root/.cache/pip/wheels/ba/d9/a0/ddd93af16d5855dd9bad417623e70948fdac119d1d34fb17c8\n",
            "Successfully built fst-pso miniful\n",
            "Installing collected packages: miniful, simpful, fst-pso, pyfume, FuzzyTM, gensim\n",
            "Successfully installed FuzzyTM-2.0.5 fst-pso-1.8.1 gensim-4.3.0 miniful-0.0.6 pyfume-0.2.25 simpful-2.9.0\n"
          ]
        },
        {
          "output_type": "display_data",
          "data": {
            "application/vnd.colab-display-data+json": {
              "pip_warning": {
                "packages": [
                  "gensim"
                ]
              }
            }
          },
          "metadata": {}
        }
      ]
    },
    {
      "cell_type": "code",
      "execution_count": 22,
      "id": "unlike-certification",
      "metadata": {
        "id": "unlike-certification"
      },
      "outputs": [],
      "source": [
        "# imports\n",
        "\n",
        "import json\n",
        "from collections import Counter\n",
        "from gensim.models import Word2Vec\n",
        "import matplotlib.pyplot as plt\n",
        "import urllib.request\n",
        "urllib.request.urlretrieve(\"https://raw.githubusercontent.com/RajuMopidevi/Machine-Learning-and-Artificial-Intelligence/main/05-03_SemanticProcessing_I/utils.py\", \"utils.py\")\n",
        "import utils\n",
        "\n",
        "%matplotlib inline"
      ]
    },
    {
      "cell_type": "code",
      "source": [
        "gdrivelink=\"https://drive.google.com/file/d/14Xvol3rkIgVXVfkMipS6-t4dBtR41ecc/view?usp=share_link\"\n",
        "urllib.request.urlretrieve(gdrivelink,\"aclImdb.zip\")"
      ],
      "metadata": {
        "colab": {
          "base_uri": "https://localhost:8080/"
        },
        "id": "pt6iwW8-PRsG",
        "outputId": "49bf5d66-8cf2-4b9f-a42f-71a83f825df8"
      },
      "id": "pt6iwW8-PRsG",
      "execution_count": 33,
      "outputs": [
        {
          "output_type": "execute_result",
          "data": {
            "text/plain": [
              "('aclImdb.zip', <http.client.HTTPMessage at 0x7ff5b23cb280>)"
            ]
          },
          "metadata": {},
          "execution_count": 33
        }
      ]
    },
    {
      "cell_type": "code",
      "source": [
        "gdrivelink=\"https://drive.google.com/file/d/1AmoEg33Uvur8r61YTjlZakvWsEl8jOud/view?usp=share_link\"\n",
        "urllib.request.urlretrieve(gdrivelink,\"aclImdb_v1.tar.gz\")"
      ],
      "metadata": {
        "colab": {
          "base_uri": "https://localhost:8080/"
        },
        "id": "1Qsxy2SHPn65",
        "outputId": "98711c16-6416-4cb2-83c6-02656235c35e"
      },
      "id": "1Qsxy2SHPn65",
      "execution_count": 34,
      "outputs": [
        {
          "output_type": "execute_result",
          "data": {
            "text/plain": [
              "('aclImdb_v1.tar.gz', <http.client.HTTPMessage at 0x7ff5b23cb8b0>)"
            ]
          },
          "metadata": {},
          "execution_count": 34
        }
      ]
    },
    {
      "cell_type": "code",
      "execution_count": 23,
      "id": "qualified-oasis",
      "metadata": {
        "id": "qualified-oasis"
      },
      "outputs": [],
      "source": [
        "# Load and display data\n",
        "import urllib.request\n",
        "urllib.request.urlretrieve(\"https://raw.githubusercontent.com/RajuMopidevi/Machine-Learning-and-Artificial-Intelligence/main/05-03_SemanticProcessing_I/DistributionalSemantics/countries.json\", \"countries.json\")\n",
        "\n",
        "with open('countries.json', 'r') as fout:\n",
        "    countries = json.load(fout)"
      ]
    },
    {
      "cell_type": "code",
      "execution_count": 24,
      "id": "eight-magnitude",
      "metadata": {
        "colab": {
          "base_uri": "https://localhost:8080/"
        },
        "id": "eight-magnitude",
        "outputId": "bcf62a9c-c1d0-4c54-aefd-bde8ed458df5"
      },
      "outputs": [
        {
          "output_type": "execute_result",
          "data": {
            "text/plain": [
              "['India',\n",
              " 'Hindi',\n",
              " 'Bhārat',\n",
              " 'officially',\n",
              " 'the',\n",
              " 'Republic',\n",
              " 'of',\n",
              " 'India',\n",
              " 'Hindi',\n",
              " 'Bhārat',\n",
              " 'Gaṇarājya',\n",
              " 'is',\n",
              " 'a',\n",
              " 'country',\n",
              " 'in',\n",
              " 'South',\n",
              " 'Asia',\n",
              " 'It',\n",
              " 'is',\n",
              " 'the']"
            ]
          },
          "metadata": {},
          "execution_count": 24
        }
      ],
      "source": [
        "countries['India'][:20]"
      ]
    },
    {
      "cell_type": "code",
      "execution_count": 25,
      "id": "increasing-hawaii",
      "metadata": {
        "colab": {
          "base_uri": "https://localhost:8080/"
        },
        "id": "increasing-hawaii",
        "outputId": "bd1fd3b4-519d-4ef3-dc3a-1bc8e786fd41"
      },
      "outputs": [
        {
          "output_type": "stream",
          "name": "stdout",
          "text": [
            "India Hindi Bhārat officially the Republic of India Hindi Bhārat Gaṇarājya is a country in South Asia It is the second most populous country the seventh largest country by land area and the most populous democracy in the world Bounded by the Indian Ocean on the south the Arabian Sea on the southwest and the Bay of Bengal on the southeast it shares land borders with Pakistan to the west China Nepal and Bhutan to the north and Bangladesh and Myanmar to the east In the Indian Ocean India is in the vicinity of  ...\n"
          ]
        }
      ],
      "source": [
        "print(' '.join(countries['India'])[:512] + ' ...')"
      ]
    },
    {
      "cell_type": "code",
      "execution_count": 26,
      "id": "resistant-singapore",
      "metadata": {
        "colab": {
          "base_uri": "https://localhost:8080/"
        },
        "id": "resistant-singapore",
        "outputId": "f1c4922e-14ef-4860-c5ad-59570d17ecea"
      },
      "outputs": [
        {
          "output_type": "stream",
          "name": "stdout",
          "text": [
            "Afghanistan\n",
            "Afghanistan listen Pashto Dari افغانستان Pashto Afġānistān avɣɒnisˈtɒn ab Dari Afġānestān avɣɒnesˈtɒn officially the Islamic Republic of Afghanistan is a mountainous landlocked country at the crossroads of Central and South Asia Afghanistan is bordered by Pakistan to the east and south Iran to the west Turkmenistan Uzbekistan and Tajikistan to the north and China to the northeast Occupying 652 000 square kilometers 252 000 sq mi it is a mountainous country with plains in the north and southwest Kabul is the ...\n",
            "----------------------------------------------------------------------------------------------------\n",
            "Albania\n",
            "Albania listen a w l BAY nee ə Albanian Shqipëri or Shqipëria officially the Republic of Albania Albanian Republika e Shqipërisë is a country in Southeastern Europe It is located on the Adriatic and Ionian Sea within the Mediterranean Sea and shares land borders with Montenegro to the northwest Kosovo to the northeast North Macedonia to the east Greece to the south and maritime borders with Greece Montenegro and Italy to the west Tirana is its capital and largest city followed by Durrës Vlorë and Shkodër Ge ...\n",
            "----------------------------------------------------------------------------------------------------\n",
            "Algeria\n",
            "Algeria officially the People s Democratic Republic of Algeria is a country in the Maghreb region of North Africa It is the largest country by total area in Africa and by extension the Arab world and is bordered to the northeast by Tunisia to the east by Libya to the southeast by Niger to the southwest by Mali Mauritania and Western Sahara to the west by Morocco and to the north by the Mediterranean Sea The country has a semi arid geography with most of the population living in the fertile north and the Sah ...\n",
            "----------------------------------------------------------------------------------------------------\n",
            "Andorra\n",
            "Andorra listen also UK Catalan ənˈdorə officially the Principality of Andorra Catalan Principat d Andorra is a sovereign landlocked microstate on the Iberian Peninsula in the eastern Pyrenees bordered by France to the north and Spain to the south Believed to have been created by Charlemagne Andorra was ruled by the count of Urgell until 988 when it was transferred to the Roman Catholic Diocese of Urgell The present principality was formed by a charter in 1278 It is headed by two co princes the Bishop of Urg ...\n",
            "----------------------------------------------------------------------------------------------------\n",
            "Angola\n",
            "Angola listen Portuguese ɐ ˈɡɔlɐ officially the Republic of Angola Portuguese República de Angola is a country located on the west coast of Southern Africa It is the second largest lusophone Portuguese speaking country in both total area and population behind Brazil and it is the seventh largest country in Africa bordered by Namibia to the south the Democratic Republic of the Congo to the north Zambia to the east and the Atlantic Ocean to the west Angola has an exclave province the province of Cabinda that  ...\n",
            "----------------------------------------------------------------------------------------------------\n",
            "Antigua and Barbuda\n",
            "Antigua and Barbuda listen an TEE g w ə bar B Y OO də is a sovereign island country in the West Indies in the Americas lying between the Caribbean Sea and the Atlantic Ocean It consists of two major islands Antigua and Barbuda separated by 63 km 39 mi and smaller islands including Great Bird Green Guiana Long Maiden Prickly Pear York Islands Redonda The permanent population number is about 97 120 2019 est with 97 being resident on Antigua The capital and largest port and city is St John s on Antigua with Co ...\n",
            "----------------------------------------------------------------------------------------------------\n"
          ]
        }
      ],
      "source": [
        "for i, (country, text) in enumerate(countries.items()):\n",
        "    print(country)\n",
        "    print(' '.join(text)[:512] + ' ...')\n",
        "    print('-' * 100)\n",
        "    if i >= 5:\n",
        "        break"
      ]
    },
    {
      "cell_type": "markdown",
      "id": "bronze-elite",
      "metadata": {
        "id": "bronze-elite"
      },
      "source": [
        "## Basic Word2Vec Usage"
      ]
    },
    {
      "cell_type": "code",
      "execution_count": 27,
      "id": "distributed-seventh",
      "metadata": {
        "id": "distributed-seventh"
      },
      "outputs": [],
      "source": [
        "# Create and train a simple model\n",
        "\n",
        "model = Word2Vec(sentences=countries.values())"
      ]
    },
    {
      "cell_type": "code",
      "execution_count": 28,
      "id": "fifteen-occasions",
      "metadata": {
        "colab": {
          "base_uri": "https://localhost:8080/"
        },
        "id": "fifteen-occasions",
        "outputId": "1159de96-4441-40bb-9413-0474a8c69ebb"
      },
      "outputs": [
        {
          "output_type": "execute_result",
          "data": {
            "text/plain": [
              "[('Iran', 0.839472770690918),\n",
              " ('Brazil', 0.8237236738204956),\n",
              " ('China', 0.8204355239868164),\n",
              " ('Laos', 0.8074949979782104),\n",
              " ('Mozambique', 0.7927165031433105)]"
            ]
          },
          "metadata": {},
          "execution_count": 28
        }
      ],
      "source": [
        "# Check word similarities learnt by the model\n",
        "\n",
        "model.wv.most_similar('India', topn=5)"
      ]
    },
    {
      "cell_type": "code",
      "execution_count": 29,
      "id": "verified-amount",
      "metadata": {
        "colab": {
          "base_uri": "https://localhost:8080/"
        },
        "id": "verified-amount",
        "outputId": "6d9f37a0-9037-4866-fb5b-41af66d6041a"
      },
      "outputs": [
        {
          "output_type": "execute_result",
          "data": {
            "text/plain": [
              "5262047.0"
            ]
          },
          "metadata": {},
          "execution_count": 29
        }
      ],
      "source": [
        "# Enable computation of loss\n",
        "\n",
        "model = Word2Vec(\n",
        "    sentences=countries.values(),\n",
        "    compute_loss=True\n",
        ")\n",
        "model.get_latest_training_loss()"
      ]
    },
    {
      "cell_type": "markdown",
      "id": "promising-dubai",
      "metadata": {
        "id": "promising-dubai"
      },
      "source": [
        "### Word2Vec options"
      ]
    },
    {
      "cell_type": "code",
      "execution_count": 30,
      "id": "covered-sender",
      "metadata": {
        "id": "covered-sender"
      },
      "outputs": [],
      "source": [
        "Word2Vec?"
      ]
    },
    {
      "cell_type": "markdown",
      "id": "anticipated-headquarters",
      "metadata": {
        "id": "anticipated-headquarters"
      },
      "source": [
        "## Heuristics for Word2vec algorithms"
      ]
    },
    {
      "cell_type": "markdown",
      "id": "prompt-annotation",
      "metadata": {
        "id": "prompt-annotation"
      },
      "source": [
        "### Determining size of the vocabulary"
      ]
    },
    {
      "cell_type": "code",
      "execution_count": 31,
      "id": "copyrighted-courtesy",
      "metadata": {
        "colab": {
          "base_uri": "https://localhost:8080/"
        },
        "id": "copyrighted-courtesy",
        "outputId": "2577fea8-89a5-41db-9775-86ff9576ab63"
      },
      "outputs": [
        {
          "output_type": "stream",
          "name": "stdout",
          "text": [
            "85125\n"
          ]
        }
      ],
      "source": [
        "# How many unique words in the vocabulary?\n",
        "\n",
        "counter = Counter()\n",
        "for words in countries.values():\n",
        "    for word in words:\n",
        "        counter.update([word])\n",
        "\n",
        "print(len(counter))"
      ]
    },
    {
      "cell_type": "code",
      "execution_count": 32,
      "id": "polyphonic-advisory",
      "metadata": {
        "colab": {
          "base_uri": "https://localhost:8080/",
          "height": 201
        },
        "id": "polyphonic-advisory",
        "outputId": "913ad792-967c-4289-88e7-ef79119941a7"
      },
      "outputs": [
        {
          "output_type": "error",
          "ename": "TypeError",
          "evalue": "ignored",
          "traceback": [
            "\u001b[0;31m---------------------------------------------------------------------------\u001b[0m",
            "\u001b[0;31mTypeError\u001b[0m                                 Traceback (most recent call last)",
            "\u001b[0;32m<ipython-input-32-7379d60111b5>\u001b[0m in \u001b[0;36m<module>\u001b[0;34m\u001b[0m\n\u001b[1;32m      1\u001b[0m \u001b[0;31m# Default vocabulary size of the original model\u001b[0m\u001b[0;34m\u001b[0m\u001b[0;34m\u001b[0m\u001b[0;34m\u001b[0m\u001b[0m\n\u001b[1;32m      2\u001b[0m \u001b[0;34m\u001b[0m\u001b[0m\n\u001b[0;32m----> 3\u001b[0;31m \u001b[0mlen\u001b[0m\u001b[0;34m(\u001b[0m\u001b[0mmodel\u001b[0m\u001b[0;34m.\u001b[0m\u001b[0mwv\u001b[0m\u001b[0;34m)\u001b[0m\u001b[0;34m\u001b[0m\u001b[0;34m\u001b[0m\u001b[0m\n\u001b[0m",
            "\u001b[0;31mTypeError\u001b[0m: object of type 'Word2VecKeyedVectors' has no len()"
          ]
        }
      ],
      "source": [
        "# Default vocabulary size of the original model\n",
        "\n",
        "len(model.wv)"
      ]
    },
    {
      "cell_type": "code",
      "execution_count": null,
      "id": "widespread-assessment",
      "metadata": {
        "id": "widespread-assessment"
      },
      "outputs": [],
      "source": [
        "# Retrain - increased vocabulary size, more epochs, larger word vectors\n",
        "\n",
        "metric = utils.MetricCallback(every=1)\n",
        "model = Word2Vec(\n",
        "    sentences=countries.values(),\n",
        "    vector_size=128,\n",
        "    epochs=10,\n",
        "    max_vocab_size=65536,\n",
        "    compute_loss=True,\n",
        "    callbacks=[metric]\n",
        ")\n",
        "plt.plot(metric.myloss)"
      ]
    },
    {
      "cell_type": "code",
      "execution_count": null,
      "id": "least-minnesota",
      "metadata": {
        "id": "least-minnesota"
      },
      "outputs": [],
      "source": [
        "# Check similarities again\n",
        "\n",
        "model.wv.most_similar('India')"
      ]
    },
    {
      "cell_type": "code",
      "execution_count": null,
      "id": "russian-batch",
      "metadata": {
        "id": "russian-batch"
      },
      "outputs": [],
      "source": [
        "# Retrain - more epochs\n",
        "\n",
        "metric = utils.MetricCallback(every=10)\n",
        "model = Word2Vec(\n",
        "    sentences=countries.values(),\n",
        "    vector_size=128,\n",
        "    epochs=100,\n",
        "    max_vocab_size=65536,\n",
        "    compute_loss=True,\n",
        "    callbacks=[metric],\n",
        "    min_alpha=0.001,\n",
        "    workers=9\n",
        ")\n",
        "plt.plot(metric.myloss)"
      ]
    },
    {
      "cell_type": "code",
      "execution_count": null,
      "id": "opened-experiment",
      "metadata": {
        "id": "opened-experiment"
      },
      "outputs": [],
      "source": [
        "model.wv.most_similar('India')"
      ]
    },
    {
      "cell_type": "code",
      "execution_count": null,
      "id": "skilled-grass",
      "metadata": {
        "id": "skilled-grass"
      },
      "outputs": [],
      "source": [
        "# Examine the vector space\n",
        "\n",
        "X = ['India', 'Pakistan', 'Bangladesh', 'France', 'England', 'Spain']\n",
        "Y = ['Delhi', 'Islamabad', 'Dhaka', 'Paris', 'London', 'Madrid']\n",
        "utils.plot_arrows(X, Y, model.wv)"
      ]
    },
    {
      "cell_type": "code",
      "execution_count": null,
      "id": "closing-tourism",
      "metadata": {
        "id": "closing-tourism"
      },
      "outputs": [],
      "source": [
        "# Visualize vectors for all countries\n",
        "\n",
        "utils.plot_vectors(countries, model)"
      ]
    },
    {
      "cell_type": "markdown",
      "id": "downtown-inventory",
      "metadata": {
        "id": "downtown-inventory"
      },
      "source": [
        "## Word Analogies"
      ]
    },
    {
      "cell_type": "code",
      "execution_count": null,
      "id": "superior-exclusion",
      "metadata": {
        "id": "superior-exclusion"
      },
      "outputs": [],
      "source": [
        "# India: Ganges -> Brazil: __ ?\n",
        "\n",
        "model.wv.most_similar(positive=['Ganges', 'Brazil'], negative=['India'])"
      ]
    },
    {
      "cell_type": "code",
      "execution_count": null,
      "id": "veterinary-broad",
      "metadata": {
        "id": "veterinary-broad"
      },
      "outputs": [],
      "source": [
        "# America: Washington -> France: __ ?\n",
        "\n",
        "model.wv.most_similar(positive=['Washington', 'France'], negative=['America'])"
      ]
    },
    {
      "cell_type": "code",
      "execution_count": null,
      "id": "moral-liability",
      "metadata": {
        "id": "moral-liability"
      },
      "outputs": [],
      "source": [
        "# India: Hindi -> Germany: __ ?\n",
        "\n",
        "model.wv.most_similar(positive=['Hindi', 'Germany'], negative=['India'])"
      ]
    },
    {
      "cell_type": "code",
      "execution_count": null,
      "id": "jewish-poster",
      "metadata": {
        "id": "jewish-poster"
      },
      "outputs": [],
      "source": [
        "# Save the model\n",
        "\n",
        "model.save('wiki-countries.w2v')"
      ]
    },
    {
      "cell_type": "code",
      "execution_count": null,
      "id": "undefined-cigarette",
      "metadata": {
        "id": "undefined-cigarette"
      },
      "outputs": [],
      "source": [
        "from gensim.models import KeyedVectors\n",
        "model = KeyedVectors.load('wiki-countries.w2v')"
      ]
    },
    {
      "cell_type": "code",
      "execution_count": null,
      "id": "confident-prescription",
      "metadata": {
        "id": "confident-prescription"
      },
      "outputs": [],
      "source": [
        "model"
      ]
    },
    {
      "cell_type": "code",
      "execution_count": null,
      "id": "basic-thing",
      "metadata": {
        "id": "basic-thing"
      },
      "outputs": [],
      "source": []
    }
  ],
  "metadata": {
    "kernelspec": {
      "display_name": "Python 3",
      "language": "python",
      "name": "python3"
    },
    "language_info": {
      "codemirror_mode": {
        "name": "ipython",
        "version": 3
      },
      "file_extension": ".py",
      "mimetype": "text/x-python",
      "name": "python",
      "nbconvert_exporter": "python",
      "pygments_lexer": "ipython3",
      "version": "3.8.5"
    },
    "colab": {
      "provenance": [],
      "include_colab_link": true
    }
  },
  "nbformat": 4,
  "nbformat_minor": 5
}