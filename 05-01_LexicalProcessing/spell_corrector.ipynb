{
  "cells": [
    {
      "cell_type": "markdown",
      "metadata": {
        "id": "view-in-github",
        "colab_type": "text"
      },
      "source": [
        "<a href=\"https://colab.research.google.com/github/RajuMopidevi/Machine-Learning-and-Artificial-Intelligence/blob/main/05-01_LexicalProcessing/spell_corrector.ipynb\" target=\"_parent\"><img src=\"https://colab.research.google.com/assets/colab-badge.svg\" alt=\"Open In Colab\"/></a>"
      ]
    },
    {
      "cell_type": "code",
      "execution_count": 5,
      "metadata": {
        "collapsed": true,
        "id": "Ys5fcZmaez1I"
      },
      "outputs": [],
      "source": [
        "import re\n",
        "from collections import Counter"
      ]
    },
    {
      "cell_type": "code",
      "execution_count": 6,
      "metadata": {
        "collapsed": true,
        "id": "YNwo8OKzez1L"
      },
      "outputs": [],
      "source": [
        "# function to tokenise words\n",
        "def words(document):\n",
        "    \"Convert text to lower case and tokenise the document\"\n",
        "    return re.findall(r'\\w+', document.lower())"
      ]
    },
    {
      "cell_type": "code",
      "source": [
        "import urllib.request\n",
        "urllib.request.urlretrieve(\"https://raw.githubusercontent.com/RajuMopidevi/Machine-Learning-and-Artificial-Intelligence/main/05-01_LexicalProcessing/big.txt\", \"big.txt\")"
      ],
      "metadata": {
        "colab": {
          "base_uri": "https://localhost:8080/"
        },
        "id": "lG6yPnkRgAsp",
        "outputId": "adc8267f-e0f2-4483-b796-576fcfeb1bd3"
      },
      "execution_count": 7,
      "outputs": [
        {
          "output_type": "execute_result",
          "data": {
            "text/plain": [
              "('big.txt', <http.client.HTTPMessage at 0x7f498f6c0df0>)"
            ]
          },
          "metadata": {},
          "execution_count": 7
        }
      ]
    },
    {
      "cell_type": "code",
      "execution_count": 8,
      "metadata": {
        "collapsed": true,
        "id": "ZeNo98zTez1L"
      },
      "outputs": [],
      "source": [
        "# create a frequency table of all the words of the document\n",
        "all_words = Counter(words(open('big.txt').read()))"
      ]
    },
    {
      "cell_type": "code",
      "execution_count": 9,
      "metadata": {
        "colab": {
          "base_uri": "https://localhost:8080/"
        },
        "id": "Hcno7D8Cez1L",
        "outputId": "25ff187d-7a3c-473c-e3c8-7dbd83b13a0f"
      },
      "outputs": [
        {
          "output_type": "execute_result",
          "data": {
            "text/plain": [
              "135"
            ]
          },
          "metadata": {},
          "execution_count": 9
        }
      ],
      "source": [
        "# check frequency of a random word, say, 'chair'\n",
        "all_words['chair']"
      ]
    },
    {
      "cell_type": "code",
      "execution_count": 10,
      "metadata": {
        "colab": {
          "base_uri": "https://localhost:8080/"
        },
        "id": "PlwK4J7Eez1M",
        "outputId": "94d30c7b-a4c5-461a-808e-e9c84f25b729"
      },
      "outputs": [
        {
          "output_type": "execute_result",
          "data": {
            "text/plain": [
              "[('the', 79809),\n",
              " ('of', 40024),\n",
              " ('and', 38312),\n",
              " ('to', 28765),\n",
              " ('in', 22023),\n",
              " ('a', 21124),\n",
              " ('that', 12512),\n",
              " ('he', 12401),\n",
              " ('was', 11410),\n",
              " ('it', 10681)]"
            ]
          },
          "metadata": {},
          "execution_count": 10
        }
      ],
      "source": [
        "# look at top 10 frequent words\n",
        "all_words.most_common(10)"
      ]
    },
    {
      "cell_type": "code",
      "execution_count": 11,
      "metadata": {
        "collapsed": true,
        "id": "Nh5qQi6Uez1M"
      },
      "outputs": [],
      "source": [
        "def edits_one(word):\n",
        "    \"Create all edits that are one edit away from `word`.\"\n",
        "    alphabets    = 'abcdefghijklmnopqrstuvwxyz'\n",
        "    splits     = [(word[:i], word[i:])                   for i in range(len(word) + 1)]\n",
        "    deletes    = [left + right[1:]                       for left, right in splits if right]\n",
        "    inserts    = [left + c + right                       for left, right in splits for c in alphabets]\n",
        "    replaces   = [left + c + right[1:]                   for left, right in splits if right for c in alphabets]\n",
        "    transposes = [left + right[1] + right[0] + right[2:] for left, right in splits if len(right)>1]\n",
        "    return set(deletes + inserts + replaces + transposes)"
      ]
    },
    {
      "cell_type": "code",
      "execution_count": 12,
      "metadata": {
        "collapsed": true,
        "id": "V0d3nqrXez1M"
      },
      "outputs": [],
      "source": [
        "def edits_two(word):\n",
        "    \"Create all edits that are two edits away from `word`.\"\n",
        "    return (e2 for e1 in edits_one(word) for e2 in edits_one(e1))"
      ]
    },
    {
      "cell_type": "code",
      "execution_count": 13,
      "metadata": {
        "collapsed": true,
        "id": "PxwOb6adez1N"
      },
      "outputs": [],
      "source": [
        "def known(words):\n",
        "    \"The subset of `words` that appear in the `all_words`.\"\n",
        "    return set(word for word in words if word in all_words)"
      ]
    },
    {
      "cell_type": "code",
      "execution_count": 14,
      "metadata": {
        "collapsed": true,
        "id": "y7OvW787ez1N"
      },
      "outputs": [],
      "source": [
        "def possible_corrections(word):\n",
        "    \"Generate possible spelling corrections for word.\"\n",
        "    return (known([word]) or known(edits_one(word)) or known(edits_two(word)) or [word])"
      ]
    },
    {
      "cell_type": "code",
      "execution_count": 15,
      "metadata": {
        "collapsed": true,
        "id": "HkGIz7nHez1O"
      },
      "outputs": [],
      "source": [
        "def prob(word, N=sum(all_words.values())): \n",
        "    \"Probability of `word`: Number of appearances of 'word' / total number of tokens\"\n",
        "    return all_words[word] / N"
      ]
    },
    {
      "cell_type": "code",
      "execution_count": 16,
      "metadata": {
        "colab": {
          "base_uri": "https://localhost:8080/"
        },
        "id": "UryPocjtez1O",
        "outputId": "11fa11ed-bfd7-4f35-ca04-20c44f26e653"
      },
      "outputs": [
        {
          "output_type": "stream",
          "name": "stdout",
          "text": [
            "336\n",
            "{'monhey', 'monneh', 'lmonney', 'mobney', 'monnee', 'monnney', 'monneyi', 'monaney', 'monpney', 'moanney', 'xonney', 'monneyx', 'mqnney', 'moiney', 'mounney', 'monsney', 'emonney', 'mononey', 'monyey', 'monnety', 'monnsy', 'monnehy', 'uonney', 'monnaey', 'mokney', 'movney', 'monaey', 'moneny', 'munney', 'mocnney', 'moqney', 'myonney', 'monneyc', 'mognney', 'monnedy', 'monbey', 'monned', 'moqnney', 'mojney', 'mponney', 'monnegy', 'monneyk', 'wonney', 'omnney', 'monnqey', 'lonney', 'moinney', 'monnvey', 'mtnney', 'gonney', 'monneey', 'monneya', 'monnuy', 'monneyn', 'moyney', 'monnwey', 'monneyt', 'moncney', 'eonney', 'movnney', 'monnec', 'umonney', 'monnoy', 'monnen', 'monnsey', 'aonney', 'monnea', 'monnesy', 'monneoy', 'monnwy', 'mmnney', 'hmonney', 'monnezy', 'vonney', 'mbonney', 'motney', 'monzey', 'monneyl', 'monmney', 'nmonney', 'monnzey', 'mlnney', 'mojnney', 'mouney', 'monnty', 'monvey', 'monneyd', 'monnvy', 'mofney', 'rmonney', 'montey', 'tonney', 'monkey', 'monneny', 'mknney', 'monneyf', 'monneyj', 'meonney', 'mfnney', 'moeney', 'monneo', 'monneyq', 'monnjey', 'monnfy', 'monoey', 'monnry', 'monnqy', 'monnemy', 'monnoey', 'vmonney', 'moynney', 'monneby', 'monnhy', 'monnfey', 'mmonney', 'moaney', 'mnney', 'monrey', 'monsey', 'monneyr', 'monnby', 'mxonney', 'monfney', 'pmonney', 'monnzy', 'mnnney', 'mozney', 'mongey', 'moknney', 'mondey', 'monnev', 'donney', 'honney', 'monnep', 'msnney', 'mocney', 'monnhey', 'mionney', 'monnevy', 'monxney', 'mobnney', 'mjnney', 'monnepy', 'monnpey', 'msonney', 'moxney', 'monlney', 'mcnney', 'menney', 'wmonney', 'modnney', 'monkney', 'moniey', 'onney', 'mzonney', 'monnmey', 'monney', 'moonney', 'monneye', 'monntey', 'monjey', 'smonney', 'monneyb', 'monbney', 'monqney', 'mbnney', 'amonney', 'zonney', 'mooney', 'zmonney', 'mronney', 'monnet', 'monnrey', 'mongney', 'moneney', 'yonney', 'monneys', 'monnay', 'monnley', 'monneyy', 'moxnney', 'mosney', 'omonney', 'monneyz', 'mopnney', 'modney', 'bmonney', 'mhnney', 'monmey', 'monnecy', 'monneu', 'monhney', 'monncey', 'mondney', 'tmonney', 'molnney', 'gmonney', 'monuney', 'monwney', 'oonney', 'monrney', 'mfonney', 'monpey', 'monnef', 'mvnney', 'momney', 'monnkey', 'mnonney', 'maonney', 'monnes', 'monny', 'monndy', 'monnez', 'monnyey', 'monnex', 'monnei', 'monneyw', 'monvney', 'jmonney', 'mdnney', 'mwnney', 'ymonney', 'monnewy', 'qmonney', 'monnely', 'monxey', 'monnexy', 'monnpy', 'moznney', 'monuey', 'monnky', 'xmonney', 'monnjy', 'monneyh', 'dmonney', 'mosnney', 'motnney', 'monncy', 'mgonney', 'monwey', 'ponney', 'conney', 'morney', 'monnyy', 'monneb', 'minney', 'sonney', 'monniy', 'monnxey', 'monneyu', 'monjney', 'monneyp', 'mdonney', 'mohnney', 'monneyg', 'monnew', 'monneky', 'mnoney', 'mgnney', 'monnmy', 'fonney', 'monley', 'monnejy', 'monneuy', 'monneqy', 'monndey', 'jonney', 'mtonney', 'monneay', 'mogney', 'monner', 'imonney', 'ionney', 'mowney', 'moenney', 'mconney', 'mopney', 'monniey', 'monnek', 'mynney', 'mjonney', 'monnery', 'monfey', 'muonney', 'nonney', 'mznney', 'mownney', 'monnye', 'mqonney', 'monnefy', 'monneyv', 'manney', 'kmonney', 'monnxy', 'mlonney', 'money', 'monzney', 'moneey', 'monnly', 'monneg', 'monnuey', 'qonney', 'ronney', 'mrnney', 'monneq', 'mornney', 'monnny', 'mvonney', 'molney', 'monnbey', 'monneym', 'monqey', 'mpnney', 'monngey', 'moniney', 'konney', 'mhonney', 'mohney', 'moncey', 'monneiy', 'monnel', 'montney', 'mxnney', 'bonney', 'monne', 'mkonney', 'monnej', 'mwonney', 'monyney', 'momnney', 'monnem', 'monneyo', 'mofnney', 'monngy', 'cmonney', 'fmonney'}\n"
          ]
        }
      ],
      "source": [
        "print(len(set(edits_one(\"monney\"))))\n",
        "print(edits_one(\"monney\"))"
      ]
    },
    {
      "cell_type": "code",
      "execution_count": 17,
      "metadata": {
        "colab": {
          "base_uri": "https://localhost:8080/"
        },
        "id": "DghALU_cez1P",
        "outputId": "005a87c5-d25d-41ad-cb32-ac51a7de0fd3"
      },
      "outputs": [
        {
          "output_type": "stream",
          "name": "stdout",
          "text": [
            "{'money', 'monkey'}\n"
          ]
        }
      ],
      "source": [
        "print(known(edits_one(\"monney\")))"
      ]
    },
    {
      "cell_type": "code",
      "execution_count": 18,
      "metadata": {
        "colab": {
          "base_uri": "https://localhost:8080/"
        },
        "id": "v92YkBK1ez1P",
        "outputId": "f0fa953b-6832-4a27-95fc-7382e35a1f06"
      },
      "outputs": [
        {
          "output_type": "stream",
          "name": "stdout",
          "text": [
            "51013\n",
            "{'money', 'monkey'}\n"
          ]
        }
      ],
      "source": [
        "# Let's look at words that are two edits away\n",
        "print(len(set(edits_two(\"monney\"))))\n",
        "print(known(edits_one(\"monney\")))"
      ]
    },
    {
      "cell_type": "code",
      "execution_count": 19,
      "metadata": {
        "colab": {
          "base_uri": "https://localhost:8080/"
        },
        "id": "liTQ7rvCez1P",
        "outputId": "e3f05fb0-60a4-48ee-8727-757a96ab80b3"
      },
      "outputs": [
        {
          "output_type": "stream",
          "name": "stdout",
          "text": [
            "{'money', 'monkey'}\n"
          ]
        }
      ],
      "source": [
        "# Let's look at possible corrections of a word\n",
        "print(possible_corrections(\"monney\"))"
      ]
    },
    {
      "cell_type": "code",
      "execution_count": 20,
      "metadata": {
        "colab": {
          "base_uri": "https://localhost:8080/"
        },
        "id": "8PclMvzTez1P",
        "outputId": "eed3d0b5-e670-4c92-81c7-f5a46ee0ca59"
      },
      "outputs": [
        {
          "output_type": "stream",
          "name": "stdout",
          "text": [
            "0.0002922233626303688\n",
            "5.378344097491451e-06\n"
          ]
        }
      ],
      "source": [
        "# Let's look at probability of a word\n",
        "print(prob(\"money\"))\n",
        "print(prob(\"monkey\"))"
      ]
    },
    {
      "cell_type": "code",
      "execution_count": 21,
      "metadata": {
        "id": "4vPn7X3sez1Q"
      },
      "outputs": [],
      "source": [
        "def spell_check(word):\n",
        "    \"Print the most probable spelling correction for `word` out of all the `possible_corrections`\"\n",
        "    correct_word = max(possible_corrections(word), key=prob)\n",
        "    if correct_word != word:\n",
        "        return \"Did you mean \" + correct_word + \"?\"\n",
        "    else:\n",
        "        return \"Correct spelling.\""
      ]
    },
    {
      "cell_type": "code",
      "execution_count": 22,
      "metadata": {
        "colab": {
          "base_uri": "https://localhost:8080/"
        },
        "id": "_BTGDGHJez1Q",
        "outputId": "ba2856aa-fcdc-498b-c729-e6cd642f214c"
      },
      "outputs": [
        {
          "output_type": "stream",
          "name": "stdout",
          "text": [
            "Did you mean money?\n"
          ]
        }
      ],
      "source": [
        "# test spell check\n",
        "print(spell_check(\"monney\"))"
      ]
    }
  ],
  "metadata": {
    "kernelspec": {
      "display_name": "Python 3",
      "language": "python",
      "name": "python3"
    },
    "language_info": {
      "codemirror_mode": {
        "name": "ipython",
        "version": 3
      },
      "file_extension": ".py",
      "mimetype": "text/x-python",
      "name": "python",
      "nbconvert_exporter": "python",
      "pygments_lexer": "ipython3",
      "version": "3.6.4"
    },
    "colab": {
      "provenance": [],
      "include_colab_link": true
    }
  },
  "nbformat": 4,
  "nbformat_minor": 0
}