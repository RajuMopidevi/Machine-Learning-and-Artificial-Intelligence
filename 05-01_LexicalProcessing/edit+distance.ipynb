{
  "cells": [
    {
      "cell_type": "markdown",
      "metadata": {
        "id": "view-in-github",
        "colab_type": "text"
      },
      "source": [
        "<a href=\"https://colab.research.google.com/github/RajuMopidevi/Machine-Learning-and-Artificial-Intelligence/blob/main/05-01_LexicalProcessing/edit%2Bdistance.ipynb\" target=\"_parent\"><img src=\"https://colab.research.google.com/assets/colab-badge.svg\" alt=\"Open In Colab\"/></a>"
      ]
    },
    {
      "cell_type": "markdown",
      "metadata": {
        "id": "gACvvEywYJVO"
      },
      "source": [
        "## Levenshtein Edit Distance\n",
        "The levenshtein distance calculates the number of steps (insertions, deletions or substitutions) required to go from source string to target string."
      ]
    },
    {
      "cell_type": "code",
      "execution_count": 1,
      "metadata": {
        "collapsed": true,
        "id": "pLpVkSb4YJVR"
      },
      "outputs": [],
      "source": [
        "def lev_distance(source='', target=''):\n",
        "    \"\"\"Make a Levenshtein Distances Matrix\"\"\"\n",
        "    \n",
        "    # get length of both strings\n",
        "    n1, n2 = len(source), len(target)\n",
        "    \n",
        "    # create matrix using length of both strings - source string sits on columns, target string sits on rows\n",
        "    matrix = [ [ 0 for i1 in range(n1 + 1) ] for i2 in range(n2 + 1) ]\n",
        "    \n",
        "    # fill the first row - (0 to n1-1)\n",
        "    for i1 in range(1, n1 + 1):\n",
        "        matrix[0][i1] = i1\n",
        "    \n",
        "    # fill the first column - (0 to n2-1)\n",
        "    for i2 in range(1, n2 + 1):\n",
        "        matrix[i2][0] = i2\n",
        "    \n",
        "    # fill the matrix\n",
        "    for i2 in range(1, n2 + 1):\n",
        "        for i1 in range(1, n1 + 1):\n",
        "            \n",
        "            # check whether letters being compared are same\n",
        "            if (source[i1-1] == target[i2-1]):\n",
        "                value = matrix[i2-1][i1-1]               # top-left cell value\n",
        "            else:\n",
        "                value = min(matrix[i2-1][i1]   + 1,      # left cell value     + 1\n",
        "                            matrix[i2][i1-1]   + 1,      # top cell  value     + 1\n",
        "                            matrix[i2-1][i1-1] + 1)      # top-left cell value + 1\n",
        "            \n",
        "            matrix[i2][i1] = value\n",
        "    \n",
        "    # return bottom-right cell value\n",
        "    return matrix[-1][-1]"
      ]
    },
    {
      "cell_type": "code",
      "execution_count": 2,
      "metadata": {
        "colab": {
          "base_uri": "https://localhost:8080/"
        },
        "id": "x0I7ASfnYJVS",
        "outputId": "072f2f4b-2e7a-4c3f-ed96-6f35cbaf2e77"
      },
      "outputs": [
        {
          "output_type": "execute_result",
          "data": {
            "text/plain": [
              "2"
            ]
          },
          "metadata": {},
          "execution_count": 2
        }
      ],
      "source": [
        "lev_distance('cat', 'cta')"
      ]
    },
    {
      "cell_type": "markdown",
      "metadata": {
        "id": "YaxAuh2TYJVT"
      },
      "source": [
        "## Levenshtein distance in nltk library"
      ]
    },
    {
      "cell_type": "code",
      "execution_count": 3,
      "metadata": {
        "collapsed": true,
        "id": "WKeESmLIYJVT"
      },
      "outputs": [],
      "source": [
        "# import library\n",
        "from nltk.metrics.distance import edit_distance"
      ]
    },
    {
      "cell_type": "code",
      "execution_count": 4,
      "metadata": {
        "colab": {
          "base_uri": "https://localhost:8080/"
        },
        "id": "ssEYMBzEYJVU",
        "outputId": "bba015ba-902a-4225-abdb-543d335da08f"
      },
      "outputs": [
        {
          "output_type": "execute_result",
          "data": {
            "text/plain": [
              "2"
            ]
          },
          "metadata": {},
          "execution_count": 4
        }
      ],
      "source": [
        "edit_distance(\"apple\", \"appel\")"
      ]
    },
    {
      "cell_type": "markdown",
      "metadata": {
        "id": "5W_6kYzpYJVU"
      },
      "source": [
        "## Damerau-Levenshtein Distance\n",
        "The Damerau-Levenshtein distance allows transpositions (swap of two letters which are adjacent to each other) as well."
      ]
    },
    {
      "cell_type": "code",
      "execution_count": 5,
      "metadata": {
        "colab": {
          "base_uri": "https://localhost:8080/"
        },
        "id": "gUfvWVB6YJVV",
        "outputId": "5498cb7a-b516-4bad-e190-78945263d184"
      },
      "outputs": [
        {
          "output_type": "execute_result",
          "data": {
            "text/plain": [
              "2"
            ]
          },
          "metadata": {},
          "execution_count": 5
        }
      ],
      "source": [
        "edit_distance(\"apple\", \"appel\", transpositions=False, )"
      ]
    },
    {
      "cell_type": "code",
      "execution_count": 7,
      "metadata": {
        "collapsed": true,
        "colab": {
          "base_uri": "https://localhost:8080/"
        },
        "id": "F1Oh1M-FYJVV",
        "outputId": "ad56c004-bbf8-447d-f7ba-06ccd061d6fd"
      },
      "outputs": [
        {
          "output_type": "execute_result",
          "data": {
            "text/plain": [
              "10"
            ]
          },
          "metadata": {},
          "execution_count": 7
        }
      ],
      "source": [
        "edit_distance(\"Damerau\", \"Levenshtein\", transpositions=True, )"
      ]
    }
  ],
  "metadata": {
    "kernelspec": {
      "display_name": "Python 3",
      "language": "python",
      "name": "python3"
    },
    "language_info": {
      "codemirror_mode": {
        "name": "ipython",
        "version": 3
      },
      "file_extension": ".py",
      "mimetype": "text/x-python",
      "name": "python",
      "nbconvert_exporter": "python",
      "pygments_lexer": "ipython3",
      "version": "3.6.5"
    },
    "colab": {
      "provenance": [],
      "include_colab_link": true
    }
  },
  "nbformat": 4,
  "nbformat_minor": 0
}