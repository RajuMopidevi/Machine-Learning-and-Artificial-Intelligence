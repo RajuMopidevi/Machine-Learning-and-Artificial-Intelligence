{
  "cells": [
    {
      "cell_type": "markdown",
      "metadata": {
        "id": "view-in-github",
        "colab_type": "text"
      },
      "source": [
        "<a href=\"https://colab.research.google.com/github/RajuMopidevi/Machine-Learning-and-Artificial-Intelligence/blob/main/05-01_LexicalProcessing/Regular_Expressions_.ipynb\" target=\"_parent\"><img src=\"https://colab.research.google.com/assets/colab-badge.svg\" alt=\"Open In Colab\"/></a>"
      ]
    },
    {
      "cell_type": "markdown",
      "metadata": {
        "id": "is497HYOMQXP"
      },
      "source": [
        "## Regular Expressions\n",
        "Regular expression is a set of characters, called as the pattern, which helps in finding substrings in a given string. The pattern is used to detect the substrings\n",
        "\n",
        "For example, suppose you have a dataset of customer reviews about your restaurant. Say, you want to extract the emojis from the reviews because they are a good predictor os the sentiment of the review.\n",
        "\n",
        "Take another example, the artificial assistants such as Siri, Google Now use information retrieval to give you better results. When you ask them for any query or ask them to search for something interesting on the screen, they look for common patterns such as emails, phone numbers, place names, date and time and so on. This is because then the assitant can automatically make a booking or ask you to call the resturant to make a booking.\n",
        "\n",
        "Regular expressions are very powerful tool in text processing. It will help you to clean and handle your text in a much better way."
      ]
    },
    {
      "cell_type": "markdown",
      "metadata": {
        "id": "R1qOnts7MQXS"
      },
      "source": [
        "### Let's import the regular expression library in python."
      ]
    },
    {
      "cell_type": "code",
      "execution_count": null,
      "metadata": {
        "id": "_hEWQA9nMQXS"
      },
      "outputs": [],
      "source": [
        "import re"
      ]
    },
    {
      "cell_type": "markdown",
      "metadata": {
        "id": "nAz_wpJBMQXT"
      },
      "source": [
        "Let's do a quick search using a pattern."
      ]
    },
    {
      "cell_type": "code",
      "execution_count": null,
      "metadata": {
        "id": "Yy6Wx5azMQXT",
        "outputId": "11b0f58c-20b8-4975-e55d-9aed1addb164",
        "colab": {
          "base_uri": "https://localhost:8080/"
        }
      },
      "outputs": [
        {
          "output_type": "execute_result",
          "data": {
            "text/plain": [
              "<re.Match object; span=(0, 4), match='Ravi'>"
            ]
          },
          "metadata": {},
          "execution_count": 2
        }
      ],
      "source": [
        "re.search('Ravi', 'Ravi is an exceptional student!')"
      ]
    },
    {
      "cell_type": "code",
      "execution_count": null,
      "metadata": {
        "id": "7B25jnujMQXU",
        "outputId": "61710942-a213-4bbb-eeee-b8df9adfc3e8",
        "colab": {
          "base_uri": "https://localhost:8080/"
        }
      },
      "outputs": [
        {
          "output_type": "stream",
          "name": "stdout",
          "text": [
            "Ravi\n"
          ]
        }
      ],
      "source": [
        "# print output of re.search()\n",
        "match = re.search('Ravi', 'Ravi is an exceptional student!')\n",
        "print(match.group())"
      ]
    },
    {
      "cell_type": "markdown",
      "metadata": {
        "id": "c2TFubQSMQXU"
      },
      "source": [
        "Let's define a function to match regular expression patterns"
      ]
    },
    {
      "cell_type": "code",
      "execution_count": null,
      "metadata": {
        "id": "wtJNEBy4MQXV"
      },
      "outputs": [],
      "source": [
        "def find_pattern(text, patterns):\n",
        "    if re.search(patterns, text):\n",
        "        return re.search(patterns, text)\n",
        "    else:\n",
        "        return 'Not Found!'"
      ]
    },
    {
      "cell_type": "markdown",
      "metadata": {
        "id": "IUhVahLpMQXV"
      },
      "source": [
        "### Quantifiers"
      ]
    },
    {
      "cell_type": "code",
      "execution_count": null,
      "metadata": {
        "id": "QmFMvH2UMQXW",
        "outputId": "e0190f0b-58d8-4ab7-952b-db52a4fe3f16",
        "colab": {
          "base_uri": "https://localhost:8080/"
        }
      },
      "outputs": [
        {
          "output_type": "stream",
          "name": "stdout",
          "text": [
            "<re.Match object; span=(0, 1), match='a'>\n",
            "<re.Match object; span=(0, 2), match='ab'>\n",
            "<re.Match object; span=(0, 3), match='abb'>\n"
          ]
        }
      ],
      "source": [
        "# '*': Zero or more \n",
        "print(find_pattern(\"ac\", \"ab*\"))\n",
        "print(find_pattern(\"abc\", \"ab*\"))\n",
        "print(find_pattern(\"abbc\", \"ab*\"))"
      ]
    },
    {
      "cell_type": "code",
      "execution_count": null,
      "metadata": {
        "id": "qK9SBNPSMQXW",
        "outputId": "4e29263c-55d7-4ffe-bad7-cb4b90c91176",
        "colab": {
          "base_uri": "https://localhost:8080/"
        }
      },
      "outputs": [
        {
          "output_type": "stream",
          "name": "stdout",
          "text": [
            "<re.Match object; span=(0, 1), match='a'>\n",
            "<re.Match object; span=(0, 2), match='ab'>\n",
            "<re.Match object; span=(0, 2), match='ab'>\n"
          ]
        }
      ],
      "source": [
        "# '?': Zero or one (tells whether a pattern is absent or present)\n",
        "print(find_pattern(\"ac\", \"ab?\"))\n",
        "print(find_pattern(\"abc\", \"ab?\"))\n",
        "print(find_pattern(\"abbc\", \"ab?\"))"
      ]
    },
    {
      "cell_type": "code",
      "execution_count": null,
      "metadata": {
        "id": "42WMl0DpMQXW",
        "outputId": "b5dce503-83aa-4887-91c6-645547112741",
        "colab": {
          "base_uri": "https://localhost:8080/"
        }
      },
      "outputs": [
        {
          "output_type": "stream",
          "name": "stdout",
          "text": [
            "Not Found!\n",
            "<re.Match object; span=(0, 2), match='ab'>\n",
            "<re.Match object; span=(0, 3), match='abb'>\n"
          ]
        }
      ],
      "source": [
        "# '+': One or more\n",
        "print(find_pattern(\"ac\", \"ab+\"))\n",
        "print(find_pattern(\"abc\", \"ab+\"))\n",
        "print(find_pattern(\"abbc\", \"ab+\"))"
      ]
    },
    {
      "cell_type": "code",
      "execution_count": null,
      "metadata": {
        "id": "-1rJgLABMQXX",
        "outputId": "1e4fa2c5-9357-42c8-85f5-8a67da2f0a36",
        "colab": {
          "base_uri": "https://localhost:8080/"
        }
      },
      "outputs": [
        {
          "output_type": "stream",
          "name": "stdout",
          "text": [
            "<re.Match object; span=(0, 3), match='abb'>\n"
          ]
        }
      ],
      "source": [
        "# {n}: Matches if a character is present exactly n number of times\n",
        "print(find_pattern(\"abbc\", \"ab{2}\"))\n"
      ]
    },
    {
      "cell_type": "code",
      "execution_count": null,
      "metadata": {
        "id": "EN6pYPA6MQXX",
        "outputId": "4084c930-5458-4e10-dc9d-a804294b8182",
        "colab": {
          "base_uri": "https://localhost:8080/"
        }
      },
      "outputs": [
        {
          "output_type": "stream",
          "name": "stdout",
          "text": [
            "<re.Match object; span=(1, 7), match='abbbbb'>\n",
            "Not Found!\n",
            "<re.Match object; span=(0, 1), match='a'>\n",
            "Not Found!\n"
          ]
        }
      ],
      "source": [
        "# {m,n}: Matches if a character is present from m to n number of times\n",
        "print(find_pattern(\"aabbbbbbc\", \"ab{3,5}\"))   # return true if 'b' is present 3-5 times\n",
        "print(find_pattern(\"aabbbbbbc\", \"ab{7,10}\"))  # return true if 'b' is present 7-10 times\n",
        "print(find_pattern(\"aabbbbbbc\", \"ab{,10}\"))   # return true if 'b' is present atmost 10 times\n",
        "print(find_pattern(\"aabbbbbbc\", \"ab{10,}\"))   # return true if 'b' is present from at least 10 times"
      ]
    },
    {
      "cell_type": "markdown",
      "metadata": {
        "id": "EJSjKnxYMQXX"
      },
      "source": [
        "### Anchors"
      ]
    },
    {
      "cell_type": "code",
      "execution_count": null,
      "metadata": {
        "id": "khLTlpjoMQXY",
        "outputId": "2d427022-1767-4967-cc85-27dd45dac8d0",
        "colab": {
          "base_uri": "https://localhost:8080/"
        }
      },
      "outputs": [
        {
          "output_type": "stream",
          "name": "stdout",
          "text": [
            "<re.Match object; span=(0, 1), match='J'>\n",
            "Not Found!\n",
            "<re.Match object; span=(4, 5), match='a'>\n",
            "Not Found!\n"
          ]
        }
      ],
      "source": [
        "# '^': Indicates start of a string\n",
        "# '$': Indicates end of string\n",
        "\n",
        "print(find_pattern(\"James\", \"^J\"))   # return true if string starts with 'J' \n",
        "print(find_pattern(\"Pramod\", \"^J\"))  # return true if string starts with 'J' \n",
        "print(find_pattern(\"India\", \"a$\"))   # return true if string ends with 'a'\n",
        "print(find_pattern(\"Japan\", \"a$\"))   # return true if string ends with 'a'\n"
      ]
    },
    {
      "cell_type": "markdown",
      "metadata": {
        "id": "ncIMduGIMQXY"
      },
      "source": [
        "### Wildcard"
      ]
    },
    {
      "cell_type": "code",
      "execution_count": null,
      "metadata": {
        "id": "in-nypGWMQXY",
        "outputId": "2d6fbf31-34d6-4f8c-bdd1-362989202795",
        "colab": {
          "base_uri": "https://localhost:8080/"
        }
      },
      "outputs": [
        {
          "output_type": "stream",
          "name": "stdout",
          "text": [
            "<re.Match object; span=(0, 1), match='a'>\n",
            "<re.Match object; span=(0, 1), match='#'>\n"
          ]
        }
      ],
      "source": [
        "# '.': Matches any character\n",
        "print(find_pattern(\"a\", \".\"))\n",
        "print(find_pattern(\"#\", \".\"))\n"
      ]
    },
    {
      "cell_type": "code",
      "source": [
        "import re\n",
        "string = 'Balasubrahmanyammmmm'\n",
        "\n",
        "# regex pattern\n",
        "pattern = '^.{3,15}$'# Write a regular expression to match password that has length between three and fifteen characters.\n",
        "#pattern = '^(?:[(),+ -]*){3,15}[(),+ -]*$'\n",
        "# check whether pattern is present in string or not\n",
        "result = re.search(pattern, string)\n",
        "\n",
        "if result != None:\n",
        "    print(True)\n",
        "else:\n",
        "    print(False)"
      ],
      "metadata": {
        "colab": {
          "base_uri": "https://localhost:8080/"
        },
        "id": "JaAZF929QPGW",
        "outputId": "1fdb918b-0f98-4f47-e1ea-0a953ea67bd5"
      },
      "execution_count": 27,
      "outputs": [
        {
          "output_type": "stream",
          "name": "stdout",
          "text": [
            "False\n"
          ]
        }
      ]
    },
    {
      "cell_type": "markdown",
      "metadata": {
        "id": "7bObzF0WMQXZ"
      },
      "source": [
        "### Character sets"
      ]
    },
    {
      "cell_type": "code",
      "execution_count": null,
      "metadata": {
        "id": "D4RrYnu6MQXZ",
        "outputId": "90d68cef-ea26-455b-87b6-2a6a35260f34",
        "colab": {
          "base_uri": "https://localhost:8080/"
        }
      },
      "outputs": [
        {
          "output_type": "stream",
          "name": "stdout",
          "text": [
            "<re.Match object; span=(0, 1), match='a'>\n",
            "<re.Match object; span=(0, 1), match='c'>\n"
          ]
        }
      ],
      "source": [
        "# Now we will look at '[' and ']'.\n",
        "# They're used for specifying a character class, which is a set of characters that you wish to match.\n",
        "# Characters can be listed individually as follows\n",
        "print(find_pattern(\"a\", \"[abc]\"))\n",
        "\n",
        "# Or a range of characters can be indicated by giving two characters and separating them by a '-'.\n",
        "print(find_pattern(\"c\", \"[a-c]\"))  # same as above"
      ]
    },
    {
      "cell_type": "code",
      "execution_count": null,
      "metadata": {
        "id": "58-OABJiMQXZ",
        "outputId": "8e2b3e10-7d29-4f43-a405-70a58a6ba77b",
        "colab": {
          "base_uri": "https://localhost:8080/"
        }
      },
      "outputs": [
        {
          "output_type": "stream",
          "name": "stdout",
          "text": [
            "Not Found!\n"
          ]
        }
      ],
      "source": [
        "# '^' is used inside character set to indicate complementary set\n",
        "print(find_pattern(\"a\", \"[^abc]\"))  # return true if neither of these is present - a,b or c"
      ]
    },
    {
      "cell_type": "markdown",
      "metadata": {
        "id": "b1Nw9Up3MQXZ"
      },
      "source": [
        "### Character sets\n",
        "| Pattern  | Matches                                                                                    |\n",
        "|----------|--------------------------------------------------------------------------------------------|\n",
        "| [abc]    | Matches either an a, b or c character                                                      |\n",
        "| [abcABC] | Matches either an a, A, b, B, c or C character                                             |\n",
        "| [a-z]    | Matches any characters between a and z, including a and z                                  |\n",
        "| [A-Z]    | Matches any characters between A and Z, including A and Z                                  |\n",
        "| [a-zA-Z] | Matches any characters between a and z, including a and z ignoring cases of the characters |\n",
        "| [0-9]    | Matches any character which is a number between 0 and 9                                    |"
      ]
    },
    {
      "cell_type": "markdown",
      "metadata": {
        "id": "e4ZllKOZMQXa"
      },
      "source": [
        "### Meta sequences\n",
        "\n",
        "| Pattern  | Equivalent to    |\n",
        "|----------|------------------|\n",
        "| \\s       | [ \\t\\n\\r\\f\\v]    |\n",
        "| \\S       | [^ \\t\\n\\r\\f\\v]   |\n",
        "| \\d       | [0-9]            |\n",
        "| \\D       | [^0-9]           |\n",
        "| \\w       | [a-zA-Z0-9_]     |\n",
        "| \\W       | [^a-zA-Z0-9_]    |"
      ]
    },
    {
      "cell_type": "markdown",
      "metadata": {
        "id": "jOhl_HubMQXa"
      },
      "source": [
        "### Greedy vs non-greedy regex"
      ]
    },
    {
      "cell_type": "code",
      "execution_count": null,
      "metadata": {
        "id": "JAPH4b3uMQXa",
        "outputId": "8cd4ce58-c9cc-489f-e71c-c420b844eb50",
        "colab": {
          "base_uri": "https://localhost:8080/"
        }
      },
      "outputs": [
        {
          "output_type": "stream",
          "name": "stdout",
          "text": [
            "<re.Match object; span=(1, 7), match='abbbbb'>\n"
          ]
        }
      ],
      "source": [
        "print(find_pattern(\"aabbbbbb\", \"ab{3,5}\")) # return if a is followed by b 3-5 times GREEDY"
      ]
    },
    {
      "cell_type": "code",
      "execution_count": null,
      "metadata": {
        "id": "wAYp4_ZBMQXa",
        "outputId": "21b4b6e0-7e9e-4f24-c7ae-fbf0231965f0",
        "colab": {
          "base_uri": "https://localhost:8080/"
        }
      },
      "outputs": [
        {
          "output_type": "stream",
          "name": "stdout",
          "text": [
            "<re.Match object; span=(1, 5), match='abbb'>\n"
          ]
        }
      ],
      "source": [
        "print(find_pattern(\"aabbbbbb\", \"ab{3,5}?\")) # return if a is followed by b 3-5 times GREEDY"
      ]
    },
    {
      "cell_type": "code",
      "execution_count": null,
      "metadata": {
        "id": "28Uu57V7MQXa",
        "outputId": "c3a46200-9ddf-4d09-f86c-765748272458",
        "colab": {
          "base_uri": "https://localhost:8080/"
        }
      },
      "outputs": [
        {
          "output_type": "stream",
          "name": "stdout",
          "text": [
            "<re.Match object; span=(0, 35), match='<HTML><TITLE>My Page</TITLE></HTML>'>\n"
          ]
        }
      ],
      "source": [
        "# Example of HTML code\n",
        "print(re.search(\"<.*>\",\"<HTML><TITLE>My Page</TITLE></HTML>\"))"
      ]
    },
    {
      "cell_type": "code",
      "execution_count": null,
      "metadata": {
        "id": "7SgiCLdYMQXa",
        "outputId": "ec077a0f-f744-4ec6-efe1-1e0eef352802",
        "colab": {
          "base_uri": "https://localhost:8080/"
        }
      },
      "outputs": [
        {
          "output_type": "stream",
          "name": "stdout",
          "text": [
            "<re.Match object; span=(0, 6), match='<HTML>'>\n"
          ]
        }
      ],
      "source": [
        "# Example of HTML code\n",
        "print(re.search(\"<.*?>\",\"<HTML><TITLE>My Page</TITLE></HTML>\"))"
      ]
    },
    {
      "cell_type": "markdown",
      "metadata": {
        "id": "4bo7KQdXMQXa"
      },
      "source": [
        "### The five most important re functions that you would be required to use most of the times are\n",
        "\n",
        "match() Determine if the RE matches at the beginning of the string\n",
        "\n",
        "search() Scan through a string, looking for any location where this RE matches\n",
        "\n",
        "finall() Find all the substrings where the RE matches, and return them as a list\n",
        "\n",
        "finditer() Find all substrings where RE matches and return them as asn iterator\n",
        "\n",
        "sub() Find all substrings where the RE matches and substitute them with the given string"
      ]
    },
    {
      "cell_type": "code",
      "execution_count": null,
      "metadata": {
        "id": "znJftvbNMQXb"
      },
      "outputs": [],
      "source": [
        "# - this function uses the re.match() and let's see how it differs from re.search()\n",
        "def match_pattern(text, patterns):\n",
        "    if re.match(patterns, text):\n",
        "        return re.match(patterns, text)\n",
        "    else:\n",
        "        return ('Not found!')"
      ]
    },
    {
      "cell_type": "code",
      "execution_count": null,
      "metadata": {
        "id": "-zZypAZuMQXb",
        "outputId": "78b36e04-2592-4da2-cdde-505e02758772",
        "colab": {
          "base_uri": "https://localhost:8080/"
        }
      },
      "outputs": [
        {
          "output_type": "stream",
          "name": "stdout",
          "text": [
            "<re.Match object; span=(1, 3), match='bb'>\n"
          ]
        }
      ],
      "source": [
        "print(find_pattern(\"abbc\", \"b+\"))"
      ]
    },
    {
      "cell_type": "code",
      "execution_count": null,
      "metadata": {
        "id": "sc-65k21MQXb",
        "outputId": "3aeba520-ac3a-4b8f-fec2-e7572eca805c",
        "colab": {
          "base_uri": "https://localhost:8080/"
        }
      },
      "outputs": [
        {
          "output_type": "stream",
          "name": "stdout",
          "text": [
            "Not found!\n"
          ]
        }
      ],
      "source": [
        "print(match_pattern(\"abbc\", \"b+\"))"
      ]
    },
    {
      "cell_type": "code",
      "execution_count": null,
      "metadata": {
        "id": "NFpDT8LdMQXb",
        "outputId": "f48d24b8-621c-40d2-933c-456391f69193",
        "colab": {
          "base_uri": "https://localhost:8080/"
        }
      },
      "outputs": [
        {
          "output_type": "stream",
          "name": "stdout",
          "text": [
            "21 Ramakrishna Rd\n"
          ]
        }
      ],
      "source": [
        "## Example usage of the sub() function. Replace Road with rd.\n",
        "\n",
        "street = '21 Ramakrishna Road'\n",
        "print(re.sub('Road', 'Rd', street))"
      ]
    },
    {
      "cell_type": "code",
      "execution_count": null,
      "metadata": {
        "id": "tIYvWTuQMQXb",
        "outputId": "ec1a4f42-7fda-46f0-9ff8-441ea0cf77d6",
        "colab": {
          "base_uri": "https://localhost:8080/"
        }
      },
      "outputs": [
        {
          "output_type": "stream",
          "name": "stdout",
          "text": [
            "21 Rd Rd\n"
          ]
        }
      ],
      "source": [
        "print(re.sub('R\\w+', 'Rd', street))"
      ]
    },
    {
      "cell_type": "code",
      "source": [
        "import re\n",
        "string = 'Building careers of tomorrow'\n",
        "\n",
        "# regex pattern\n",
        "pattern = '^[a-zA-Z0-9]'# write a regex that detects the first character of a string\n",
        "\n",
        "# replacement string\n",
        "replacement = '$'# write the replacement string\n",
        "result = re.sub(pattern, replacement, string)\n",
        "print(result)"
      ],
      "metadata": {
        "colab": {
          "base_uri": "https://localhost:8080/"
        },
        "id": "KyD1kL-IIRl4",
        "outputId": "5a6727a2-c0df-4f39-a1e0-c2b57608303d"
      },
      "execution_count": 7,
      "outputs": [
        {
          "output_type": "stream",
          "name": "stdout",
          "text": [
            "$uilding careers of tomorrow\n"
          ]
        }
      ]
    },
    {
      "cell_type": "code",
      "execution_count": null,
      "metadata": {
        "id": "uoYCnqDwMQXb",
        "outputId": "84f49da1-6b44-4920-a9ea-3616f7a644f2",
        "colab": {
          "base_uri": "https://localhost:8080/"
        }
      },
      "outputs": [
        {
          "output_type": "stream",
          "name": "stdout",
          "text": [
            "START - 12END - 20\n",
            "START - 42END - 50\n"
          ]
        }
      ],
      "source": [
        "## Example usage of finditer(). Find all occurrences of word Festival in given sentence\n",
        "\n",
        "text = 'Diwali is a festival of lights, Holi is a festival of colors!'\n",
        "pattern = 'festival'\n",
        "for match in re.finditer(pattern, text):\n",
        "    print('START -', match.start(), end=\"\")\n",
        "    print('END -', match.end())"
      ]
    },
    {
      "cell_type": "code",
      "source": [
        "text = 'Diwali is a festival of lights, Holi is a festival of colors!'\n",
        "text='Do not compare apples with oranges. Compare apples with apples'\n",
        "pattern = '(\\w+)'\n",
        "result = {match.group() for match in re.finditer(pattern, text)}\n",
        "print(result)"
      ],
      "metadata": {
        "colab": {
          "base_uri": "https://localhost:8080/"
        },
        "id": "wbxvixkIOBkR",
        "outputId": "26920659-034a-448b-a976-eef19591288c"
      },
      "execution_count": 44,
      "outputs": [
        {
          "output_type": "stream",
          "name": "stdout",
          "text": [
            "{'with', 'oranges', 'compare', 'apples', 'Compare', 'not', 'Do'}\n"
          ]
        }
      ]
    },
    {
      "cell_type": "code",
      "execution_count": null,
      "metadata": {
        "id": "tb6hJbOeMQXb",
        "outputId": "7e05031c-ab18-401c-ac11-fff0d39fc256",
        "colab": {
          "base_uri": "https://localhost:8080/"
        }
      },
      "outputs": [
        {
          "output_type": "stream",
          "name": "stdout",
          "text": [
            "[('2017', '10', '28')]\n"
          ]
        }
      ],
      "source": [
        "# Example usage of findall(). In the given URL find all dates\n",
        "url = \"http://www.telegraph.co.uk/formula-1/2017/10/28/mexican-grand-prix-2017-time-does-start-tv-channel-odds-lewisl/2017/05/12\"\n",
        "date_regex = '/(\\d{4})/(\\d{1,2})/(\\d{1,2})/'\n",
        "print(re.findall(date_regex, url))"
      ]
    },
    {
      "cell_type": "code",
      "execution_count": null,
      "metadata": {
        "id": "CdutxShIMQXc",
        "outputId": "7f70e991-c816-4c60-f742-30b62e18668d",
        "colab": {
          "base_uri": "https://localhost:8080/"
        }
      },
      "outputs": [
        {
          "output_type": "stream",
          "name": "stdout",
          "text": [
            "/2017/10/28/\n"
          ]
        }
      ],
      "source": [
        "## Exploring Groups\n",
        "m1 = re.search(date_regex, url)\n",
        "print(m1.group())  ## print the matched group"
      ]
    },
    {
      "cell_type": "code",
      "execution_count": null,
      "metadata": {
        "id": "l2DOtYvUMQXc",
        "outputId": "67276f82-9dad-4a5f-d771-e26ac62deb95",
        "colab": {
          "base_uri": "https://localhost:8080/"
        }
      },
      "outputs": [
        {
          "output_type": "stream",
          "name": "stdout",
          "text": [
            "2017\n"
          ]
        }
      ],
      "source": [
        "print(m1.group(1)) # - Print first group"
      ]
    },
    {
      "cell_type": "code",
      "execution_count": null,
      "metadata": {
        "id": "U1-QFMLaMQXc",
        "outputId": "424841f0-7634-4fa6-eeaa-e1c50135ed73",
        "colab": {
          "base_uri": "https://localhost:8080/"
        }
      },
      "outputs": [
        {
          "output_type": "stream",
          "name": "stdout",
          "text": [
            "10\n"
          ]
        }
      ],
      "source": [
        "print(m1.group(2)) # - Print second group"
      ]
    },
    {
      "cell_type": "code",
      "execution_count": null,
      "metadata": {
        "id": "46GTIAgeMQXc",
        "outputId": "dabab9b5-6558-48f6-8a35-c44f37b404a8",
        "colab": {
          "base_uri": "https://localhost:8080/"
        }
      },
      "outputs": [
        {
          "output_type": "stream",
          "name": "stdout",
          "text": [
            "28\n"
          ]
        }
      ],
      "source": [
        "print(m1.group(3)) # - Print third group"
      ]
    },
    {
      "cell_type": "code",
      "execution_count": null,
      "metadata": {
        "id": "7RJNOlZkMQXd",
        "outputId": "28a4efa2-a2bd-46ce-8691-e0c738fdb050",
        "colab": {
          "base_uri": "https://localhost:8080/"
        }
      },
      "outputs": [
        {
          "output_type": "stream",
          "name": "stdout",
          "text": [
            "/2017/10/28/\n"
          ]
        }
      ],
      "source": [
        "print(m1.group(0)) # - Print zero or the default group"
      ]
    }
  ],
  "metadata": {
    "kernelspec": {
      "display_name": "Python 3",
      "language": "python",
      "name": "python3"
    },
    "language_info": {
      "codemirror_mode": {
        "name": "ipython",
        "version": 3
      },
      "file_extension": ".py",
      "mimetype": "text/x-python",
      "name": "python",
      "nbconvert_exporter": "python",
      "pygments_lexer": "ipython3",
      "version": "3.7.0"
    },
    "colab": {
      "provenance": [],
      "include_colab_link": true
    }
  },
  "nbformat": 4,
  "nbformat_minor": 0
}