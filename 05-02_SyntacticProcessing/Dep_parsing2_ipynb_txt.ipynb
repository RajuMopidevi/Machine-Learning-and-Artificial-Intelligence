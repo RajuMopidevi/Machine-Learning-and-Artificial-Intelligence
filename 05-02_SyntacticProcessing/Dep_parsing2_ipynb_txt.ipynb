{
  "nbformat": 4,
  "nbformat_minor": 0,
  "metadata": {
    "kernelspec": {
      "display_name": "Python 3",
      "language": "python",
      "name": "python3"
    },
    "language_info": {
      "codemirror_mode": {
        "name": "ipython",
        "version": 3
      },
      "file_extension": ".py",
      "mimetype": "text/x-python",
      "name": "python",
      "nbconvert_exporter": "python",
      "pygments_lexer": "ipython3",
      "version": "3.8.3"
    },
    "colab": {
      "provenance": [],
      "include_colab_link": true
    }
  },
  "cells": [
    {
      "cell_type": "markdown",
      "metadata": {
        "id": "view-in-github",
        "colab_type": "text"
      },
      "source": [
        "<a href=\"https://colab.research.google.com/github/RajuMopidevi/Machine-Learning-and-Artificial-Intelligence/blob/main/05-02_SyntacticProcessing/Dep_parsing2_ipynb_txt.ipynb\" target=\"_parent\"><img src=\"https://colab.research.google.com/assets/colab-badge.svg\" alt=\"Open In Colab\"/></a>"
      ]
    },
    {
      "cell_type": "code",
      "metadata": {
        "id": "uFMZ8FAqc8GS"
      },
      "source": [
        "import spacy\n",
        "from spacy import displacy\n",
        "import pandas as pd\n",
        "nlp = spacy.load(\"en_core_web_sm\")"
      ],
      "execution_count": 1,
      "outputs": []
    },
    {
      "cell_type": "code",
      "metadata": {
        "id": "lMizkNfmc8GX"
      },
      "source": [
        "active = ['Hens lay eggs.',\n",
        "         'Birds build nests.',\n",
        "         'The batter hit the ball.',\n",
        "         'The computer transmitted a copy of the manual']\n",
        "passive = ['Eggs are laid by hens',\n",
        "           'Nests are built by birds',\n",
        "           'The ball was hit by the batter',\n",
        "           'A copy of the manual was transmitted by the computer.']"
      ],
      "execution_count": 2,
      "outputs": []
    },
    {
      "cell_type": "markdown",
      "metadata": {
        "id": "47aHzaYTc8GZ"
      },
      "source": [
        "### How do we impliment the rule `if dep nsubjpass, then passive else not`?"
      ]
    },
    {
      "cell_type": "code",
      "metadata": {
        "id": "XmTIIuqkc8GZ"
      },
      "source": [
        "from spacy.matcher import Matcher"
      ],
      "execution_count": 3,
      "outputs": []
    },
    {
      "cell_type": "markdown",
      "metadata": {
        "id": "Tulu8FF5c8Ga"
      },
      "source": [
        "### Read more about it [here](https://spacy.io/api/matcher)"
      ]
    },
    {
      "cell_type": "code",
      "metadata": {
        "id": "PdKzGXTbc8Ga",
        "outputId": "969d95af-dca2-4d8d-a67b-c5de9b3f0579",
        "colab": {
          "base_uri": "https://localhost:8080/",
          "height": 122
        }
      },
      "source": [
        "doc = nlp(passive[0])\n",
        "displacy.render(doc, style=\"dep\")"
      ],
      "execution_count": 4,
      "outputs": [
        {
          "output_type": "execute_result",
          "data": {
            "text/plain": [
              "'<svg xmlns=\"http://www.w3.org/2000/svg\" xmlns:xlink=\"http://www.w3.org/1999/xlink\" xml:lang=\"en\" id=\"27e1d68b2fa74153ba5f79fe3e277606-0\" class=\"displacy\" width=\"925\" height=\"312.0\" direction=\"ltr\" style=\"max-width: none; height: 312.0px; color: #000000; background: #ffffff; font-family: Arial; direction: ltr\">\\n<text class=\"displacy-token\" fill=\"currentColor\" text-anchor=\"middle\" y=\"222.0\">\\n    <tspan class=\"displacy-word\" fill=\"currentColor\" x=\"50\">Eggs</tspan>\\n    <tspan class=\"displacy-tag\" dy=\"2em\" fill=\"currentColor\" x=\"50\">NOUN</tspan>\\n</text>\\n\\n<text class=\"displacy-token\" fill=\"currentColor\" text-anchor=\"middle\" y=\"222.0\">\\n    <tspan class=\"displacy-word\" fill=\"currentColor\" x=\"225\">are</tspan>\\n    <tspan class=\"displacy-tag\" dy=\"2em\" fill=\"currentColor\" x=\"225\">AUX</tspan>\\n</text>\\n\\n<text class=\"displacy-token\" fill=\"currentColor\" text-anchor=\"middle\" y=\"222.0\">\\n    <tspan class=\"displacy-word\" fill=\"currentColor\" x=\"400\">laid</tspan>\\n    <tspan class=\"displacy-tag\" dy=\"2em\" fill=\"currentColor\" x=\"400\">VERB</tspan>\\n</text>\\n\\n<text class=\"displacy-token\" fill=\"currentColor\" text-anchor=\"middle\" y=\"222.0\">\\n    <tspan class=\"displacy-word\" fill=\"currentColor\" x=\"575\">by</tspan>\\n    <tspan class=\"displacy-tag\" dy=\"2em\" fill=\"currentColor\" x=\"575\">ADP</tspan>\\n</text>\\n\\n<text class=\"displacy-token\" fill=\"currentColor\" text-anchor=\"middle\" y=\"222.0\">\\n    <tspan class=\"displacy-word\" fill=\"currentColor\" x=\"750\">hens</tspan>\\n    <tspan class=\"displacy-tag\" dy=\"2em\" fill=\"currentColor\" x=\"750\">NOUN</tspan>\\n</text>\\n\\n<g class=\"displacy-arrow\">\\n    <path class=\"displacy-arc\" id=\"arrow-27e1d68b2fa74153ba5f79fe3e277606-0-0\" stroke-width=\"2px\" d=\"M70,177.0 C70,2.0 400.0,2.0 400.0,177.0\" fill=\"none\" stroke=\"currentColor\"/>\\n    <text dy=\"1.25em\" style=\"font-size: 0.8em; letter-spacing: 1px\">\\n        <textPath xlink:href=\"#arrow-27e1d68b2fa74153ba5f79fe3e277606-0-0\" class=\"displacy-label\" startOffset=\"50%\" side=\"left\" fill=\"currentColor\" text-anchor=\"middle\">nsubjpass</textPath>\\n    </text>\\n    <path class=\"displacy-arrowhead\" d=\"M70,179.0 L62,167.0 78,167.0\" fill=\"currentColor\"/>\\n</g>\\n\\n<g class=\"displacy-arrow\">\\n    <path class=\"displacy-arc\" id=\"arrow-27e1d68b2fa74153ba5f79fe3e277606-0-1\" stroke-width=\"2px\" d=\"M245,177.0 C245,89.5 395.0,89.5 395.0,177.0\" fill=\"none\" stroke=\"currentColor\"/>\\n    <text dy=\"1.25em\" style=\"font-size: 0.8em; letter-spacing: 1px\">\\n        <textPath xlink:href=\"#arrow-27e1d68b2fa74153ba5f79fe3e277606-0-1\" class=\"displacy-label\" startOffset=\"50%\" side=\"left\" fill=\"currentColor\" text-anchor=\"middle\">auxpass</textPath>\\n    </text>\\n    <path class=\"displacy-arrowhead\" d=\"M245,179.0 L237,167.0 253,167.0\" fill=\"currentColor\"/>\\n</g>\\n\\n<g class=\"displacy-arrow\">\\n    <path class=\"displacy-arc\" id=\"arrow-27e1d68b2fa74153ba5f79fe3e277606-0-2\" stroke-width=\"2px\" d=\"M420,177.0 C420,89.5 570.0,89.5 570.0,177.0\" fill=\"none\" stroke=\"currentColor\"/>\\n    <text dy=\"1.25em\" style=\"font-size: 0.8em; letter-spacing: 1px\">\\n        <textPath xlink:href=\"#arrow-27e1d68b2fa74153ba5f79fe3e277606-0-2\" class=\"displacy-label\" startOffset=\"50%\" side=\"left\" fill=\"currentColor\" text-anchor=\"middle\">agent</textPath>\\n    </text>\\n    <path class=\"displacy-arrowhead\" d=\"M570.0,179.0 L578.0,167.0 562.0,167.0\" fill=\"currentColor\"/>\\n</g>\\n\\n<g class=\"displacy-arrow\">\\n    <path class=\"displacy-arc\" id=\"arrow-27e1d68b2fa74153ba5f79fe3e277606-0-3\" stroke-width=\"2px\" d=\"M595,177.0 C595,89.5 745.0,89.5 745.0,177.0\" fill=\"none\" stroke=\"currentColor\"/>\\n    <text dy=\"1.25em\" style=\"font-size: 0.8em; letter-spacing: 1px\">\\n        <textPath xlink:href=\"#arrow-27e1d68b2fa74153ba5f79fe3e277606-0-3\" class=\"displacy-label\" startOffset=\"50%\" side=\"left\" fill=\"currentColor\" text-anchor=\"middle\">pobj</textPath>\\n    </text>\\n    <path class=\"displacy-arrowhead\" d=\"M745.0,179.0 L753.0,167.0 737.0,167.0\" fill=\"currentColor\"/>\\n</g>\\n</svg>'"
            ],
            "application/vnd.google.colaboratory.intrinsic+json": {
              "type": "string"
            }
          },
          "metadata": {},
          "execution_count": 4
        }
      ]
    },
    {
      "cell_type": "markdown",
      "metadata": {
        "id": "z3NmcC_Tc8Gc"
      },
      "source": [
        "### Create a rule with `Matcher`"
      ]
    },
    {
      "cell_type": "code",
      "metadata": {
        "id": "NPB4mEXxc8Gd"
      },
      "source": [
        "rule = [{'POS':'NOUN'}]\n",
        "matcher = Matcher(nlp.vocab)\n",
        "matcher.add('Rule',[rule])"
      ],
      "execution_count": 5,
      "outputs": []
    },
    {
      "cell_type": "code",
      "metadata": {
        "id": "t4sdkcioc8Ge",
        "outputId": "fc864811-4bac-4d9c-b9b6-f74f2adfec1e",
        "colab": {
          "base_uri": "https://localhost:8080/"
        }
      },
      "source": [
        "matcher(doc)"
      ],
      "execution_count": 6,
      "outputs": [
        {
          "output_type": "execute_result",
          "data": {
            "text/plain": [
              "[(15740618714089435985, 0, 1), (15740618714089435985, 4, 5)]"
            ]
          },
          "metadata": {},
          "execution_count": 6
        }
      ]
    },
    {
      "cell_type": "code",
      "metadata": {
        "id": "as4nsdejc8Gf",
        "outputId": "af84edff-7c33-46cd-9dfd-838d848af113",
        "colab": {
          "base_uri": "https://localhost:8080/"
        }
      },
      "source": [
        "doc[0:1]"
      ],
      "execution_count": 7,
      "outputs": [
        {
          "output_type": "execute_result",
          "data": {
            "text/plain": [
              "Eggs"
            ]
          },
          "metadata": {},
          "execution_count": 7
        }
      ]
    },
    {
      "cell_type": "code",
      "metadata": {
        "id": "2gemzSC2c8Gf",
        "outputId": "822d02b2-51db-41cc-e9a4-d8b184582cf2",
        "colab": {
          "base_uri": "https://localhost:8080/"
        }
      },
      "source": [
        "doc[4:5]"
      ],
      "execution_count": 8,
      "outputs": [
        {
          "output_type": "execute_result",
          "data": {
            "text/plain": [
              "hens"
            ]
          },
          "metadata": {},
          "execution_count": 8
        }
      ]
    },
    {
      "cell_type": "markdown",
      "metadata": {
        "id": "RUSAqlZTc8Gg"
      },
      "source": [
        "### Create a rule for `passive voice`"
      ]
    },
    {
      "cell_type": "code",
      "metadata": {
        "id": "jrDq70A3c8Gh"
      },
      "source": [
        "passive_rule = [{'DEP':'nsubjpass'}]\n",
        "matcher = Matcher(nlp.vocab)\n",
        "matcher.add('Rule',[passive_rule])"
      ],
      "execution_count": 9,
      "outputs": []
    },
    {
      "cell_type": "code",
      "metadata": {
        "id": "GA6G7_Jrc8Gh",
        "outputId": "7e4c442d-8e80-4a58-8f33-d7e9a34c7fb6",
        "colab": {
          "base_uri": "https://localhost:8080/"
        }
      },
      "source": [
        "matcher(doc)"
      ],
      "execution_count": 10,
      "outputs": [
        {
          "output_type": "execute_result",
          "data": {
            "text/plain": [
              "[(15740618714089435985, 0, 1)]"
            ]
          },
          "metadata": {},
          "execution_count": 10
        }
      ]
    },
    {
      "cell_type": "markdown",
      "metadata": {
        "id": "Syig5C1nc8Gi"
      },
      "source": [
        "### Let's check how this rule works if we use it on a sentence with `active voice`"
      ]
    },
    {
      "cell_type": "code",
      "metadata": {
        "id": "BqxpwGDJc8Gi",
        "outputId": "817b9cd6-e08f-445a-bac9-f21df67aa1ab",
        "colab": {
          "base_uri": "https://localhost:8080/",
          "height": 35
        }
      },
      "source": [
        "active[0]"
      ],
      "execution_count": 11,
      "outputs": [
        {
          "output_type": "execute_result",
          "data": {
            "text/plain": [
              "'Hens lay eggs.'"
            ],
            "application/vnd.google.colaboratory.intrinsic+json": {
              "type": "string"
            }
          },
          "metadata": {},
          "execution_count": 11
        }
      ]
    },
    {
      "cell_type": "code",
      "metadata": {
        "id": "iQ374wu9c8Gj",
        "outputId": "62774cb6-7dde-4d1e-a849-324b3f15e563",
        "colab": {
          "base_uri": "https://localhost:8080/",
          "height": 122
        }
      },
      "source": [
        "doc = nlp(active[0])\n",
        "displacy.render(doc, style=\"dep\")"
      ],
      "execution_count": 12,
      "outputs": [
        {
          "output_type": "execute_result",
          "data": {
            "text/plain": [
              "'<svg xmlns=\"http://www.w3.org/2000/svg\" xmlns:xlink=\"http://www.w3.org/1999/xlink\" xml:lang=\"en\" id=\"af5376b2945847a9ac4f2f1804e76dd4-0\" class=\"displacy\" width=\"575\" height=\"224.5\" direction=\"ltr\" style=\"max-width: none; height: 224.5px; color: #000000; background: #ffffff; font-family: Arial; direction: ltr\">\\n<text class=\"displacy-token\" fill=\"currentColor\" text-anchor=\"middle\" y=\"134.5\">\\n    <tspan class=\"displacy-word\" fill=\"currentColor\" x=\"50\">Hens</tspan>\\n    <tspan class=\"displacy-tag\" dy=\"2em\" fill=\"currentColor\" x=\"50\">NOUN</tspan>\\n</text>\\n\\n<text class=\"displacy-token\" fill=\"currentColor\" text-anchor=\"middle\" y=\"134.5\">\\n    <tspan class=\"displacy-word\" fill=\"currentColor\" x=\"225\">lay</tspan>\\n    <tspan class=\"displacy-tag\" dy=\"2em\" fill=\"currentColor\" x=\"225\">VERB</tspan>\\n</text>\\n\\n<text class=\"displacy-token\" fill=\"currentColor\" text-anchor=\"middle\" y=\"134.5\">\\n    <tspan class=\"displacy-word\" fill=\"currentColor\" x=\"400\">eggs.</tspan>\\n    <tspan class=\"displacy-tag\" dy=\"2em\" fill=\"currentColor\" x=\"400\">NOUN</tspan>\\n</text>\\n\\n<g class=\"displacy-arrow\">\\n    <path class=\"displacy-arc\" id=\"arrow-af5376b2945847a9ac4f2f1804e76dd4-0-0\" stroke-width=\"2px\" d=\"M70,89.5 C70,2.0 225.0,2.0 225.0,89.5\" fill=\"none\" stroke=\"currentColor\"/>\\n    <text dy=\"1.25em\" style=\"font-size: 0.8em; letter-spacing: 1px\">\\n        <textPath xlink:href=\"#arrow-af5376b2945847a9ac4f2f1804e76dd4-0-0\" class=\"displacy-label\" startOffset=\"50%\" side=\"left\" fill=\"currentColor\" text-anchor=\"middle\">nsubj</textPath>\\n    </text>\\n    <path class=\"displacy-arrowhead\" d=\"M70,91.5 L62,79.5 78,79.5\" fill=\"currentColor\"/>\\n</g>\\n\\n<g class=\"displacy-arrow\">\\n    <path class=\"displacy-arc\" id=\"arrow-af5376b2945847a9ac4f2f1804e76dd4-0-1\" stroke-width=\"2px\" d=\"M245,89.5 C245,2.0 400.0,2.0 400.0,89.5\" fill=\"none\" stroke=\"currentColor\"/>\\n    <text dy=\"1.25em\" style=\"font-size: 0.8em; letter-spacing: 1px\">\\n        <textPath xlink:href=\"#arrow-af5376b2945847a9ac4f2f1804e76dd4-0-1\" class=\"displacy-label\" startOffset=\"50%\" side=\"left\" fill=\"currentColor\" text-anchor=\"middle\">dobj</textPath>\\n    </text>\\n    <path class=\"displacy-arrowhead\" d=\"M400.0,91.5 L408.0,79.5 392.0,79.5\" fill=\"currentColor\"/>\\n</g>\\n</svg>'"
            ],
            "application/vnd.google.colaboratory.intrinsic+json": {
              "type": "string"
            }
          },
          "metadata": {},
          "execution_count": 12
        }
      ]
    },
    {
      "cell_type": "code",
      "metadata": {
        "id": "tsC4QHYmc8Gj",
        "outputId": "3578def7-aadb-4596-a20d-455945290ea2",
        "colab": {
          "base_uri": "https://localhost:8080/"
        }
      },
      "source": [
        "matcher(doc)"
      ],
      "execution_count": 13,
      "outputs": [
        {
          "output_type": "execute_result",
          "data": {
            "text/plain": [
              "[]"
            ]
          },
          "metadata": {},
          "execution_count": 13
        }
      ]
    },
    {
      "cell_type": "markdown",
      "metadata": {
        "id": "zA197pFCc8Gk"
      },
      "source": [
        "### Now lets make a function that impliments this logic"
      ]
    },
    {
      "cell_type": "code",
      "metadata": {
        "id": "W4C80We_c8Gk"
      },
      "source": [
        "def is_passive(doc,matcher):\n",
        "    if len(matcher(doc))>0:\n",
        "        return True\n",
        "    else:\n",
        "        return False"
      ],
      "execution_count": 14,
      "outputs": []
    },
    {
      "cell_type": "markdown",
      "metadata": {
        "id": "5e1P9nhcc8Gl"
      },
      "source": [
        "### Let's test this function on our small sample of sentences and see how the pipeline will work"
      ]
    },
    {
      "cell_type": "code",
      "metadata": {
        "id": "wPe6aHIMc8Gl",
        "outputId": "60bf3fc4-ceaf-46dc-f1a1-3ea8665d6c78",
        "colab": {
          "base_uri": "https://localhost:8080/"
        }
      },
      "source": [
        "for sent in active:\n",
        "    doc = nlp(sent)\n",
        "    print(is_passive(doc,matcher))"
      ],
      "execution_count": 15,
      "outputs": [
        {
          "output_type": "stream",
          "name": "stdout",
          "text": [
            "False\n",
            "False\n",
            "False\n",
            "False\n"
          ]
        }
      ]
    },
    {
      "cell_type": "code",
      "metadata": {
        "id": "GkVgfN8Wc8Gm",
        "outputId": "0073e903-465d-41dd-9d3d-acb35223b976",
        "colab": {
          "base_uri": "https://localhost:8080/"
        }
      },
      "source": [
        "for sent in passive:\n",
        "    doc = nlp(sent)\n",
        "    print(is_passive(doc,matcher))"
      ],
      "execution_count": 16,
      "outputs": [
        {
          "output_type": "stream",
          "name": "stdout",
          "text": [
            "True\n",
            "True\n",
            "True\n",
            "True\n"
          ]
        }
      ]
    },
    {
      "cell_type": "markdown",
      "metadata": {
        "id": "8VjFb4jXc8Gn"
      },
      "source": [
        "### Summary\n",
        " - One can go a long way by observing patterns in linguistic data, you don't always need to know the details of the linguitsics very well.\n",
        " - Once can use the `matcher` object to find if certain linguistic patterns exist in data"
      ]
    },
    {
      "cell_type": "code",
      "metadata": {
        "id": "rtYp1yRyY1kA",
        "colab": {
          "base_uri": "https://localhost:8080/"
        },
        "outputId": "8e566e86-20fc-4424-82a4-042ade38e76a"
      },
      "source": [
        "import spacy\n",
        "from spacy.matcher import Matcher\n",
        "nlp = spacy.load(\"en_core_web_sm\")\n",
        "\n",
        "rule = [{'DEP':'nsubjpass'}]\n",
        "matcher = Matcher(nlp.vocab)\n",
        "matcher.add('Rule',[rule])\n",
        "\n",
        "doc = nlp('I am learning NLP from upGrad.')\n",
        "matcher(doc)"
      ],
      "execution_count": 17,
      "outputs": [
        {
          "output_type": "execute_result",
          "data": {
            "text/plain": [
              "[]"
            ]
          },
          "metadata": {},
          "execution_count": 17
        }
      ]
    },
    {
      "cell_type": "code",
      "metadata": {
        "id": "VaJunQ_Rc8Gn",
        "colab": {
          "base_uri": "https://localhost:8080/"
        },
        "outputId": "9278a08d-733f-48fd-e123-e2993305a32a"
      },
      "source": [
        "import spacy\n",
        "from spacy.matcher import Matcher\n",
        "nlp = spacy.load(\"en_core_web_sm\")\n",
        "\n",
        "rule = [{'DEP':'nsubjpass'}]\n",
        "matcher = Matcher(nlp.vocab)\n",
        "matcher.add('Rule',[rule])\n",
        "\n",
        "s = 'Is a book being bought by John?'\n",
        "\n",
        "doc = nlp(s)\n",
        "matcher(doc)"
      ],
      "execution_count": 18,
      "outputs": [
        {
          "output_type": "execute_result",
          "data": {
            "text/plain": [
              "[(15740618714089435985, 2, 3)]"
            ]
          },
          "metadata": {},
          "execution_count": 18
        }
      ]
    },
    {
      "cell_type": "code",
      "source": [
        "s2 = ['What is your name?',\n",
        "         'Is coffee serving here?',\n",
        "         'Is she being promoted as new assistant?',\n",
        "         'Women are said to live longer than men.']"
      ],
      "metadata": {
        "id": "8k1933vC-uBY"
      },
      "execution_count": 20,
      "outputs": []
    },
    {
      "cell_type": "code",
      "source": [
        "import spacy\n",
        "from spacy.matcher import Matcher\n",
        "nlp = spacy.load(\"en_core_web_sm\")\n",
        "\n",
        "rule = [{'DEP':'nsubjpass'}]\n",
        "matcher = Matcher(nlp.vocab)\n",
        "matcher.add('Rule',[rule])\n",
        "\n"
      ],
      "metadata": {
        "id": "XRspxu1S0BNw"
      },
      "execution_count": 21,
      "outputs": []
    },
    {
      "cell_type": "code",
      "source": [
        "\n",
        "doc = nlp(s2[0])\n",
        "matcher(doc)"
      ],
      "metadata": {
        "colab": {
          "base_uri": "https://localhost:8080/"
        },
        "id": "JVG8ZMeS0Zw2",
        "outputId": "5fb358fd-a5da-410c-8439-b9226b1ff162"
      },
      "execution_count": 22,
      "outputs": [
        {
          "output_type": "execute_result",
          "data": {
            "text/plain": [
              "[]"
            ]
          },
          "metadata": {},
          "execution_count": 22
        }
      ]
    },
    {
      "cell_type": "code",
      "source": [
        "doc = nlp(s2[1])\n",
        "matcher(doc)"
      ],
      "metadata": {
        "colab": {
          "base_uri": "https://localhost:8080/"
        },
        "id": "8P6P8Qj30d9k",
        "outputId": "724f32fd-d99b-4961-f25e-192f35258d5f"
      },
      "execution_count": 23,
      "outputs": [
        {
          "output_type": "execute_result",
          "data": {
            "text/plain": [
              "[]"
            ]
          },
          "metadata": {},
          "execution_count": 23
        }
      ]
    },
    {
      "cell_type": "code",
      "source": [
        "doc = nlp(s2[2])\n",
        "matcher(doc)"
      ],
      "metadata": {
        "colab": {
          "base_uri": "https://localhost:8080/"
        },
        "id": "8lqSjdYO0f1k",
        "outputId": "588e7397-c2db-4b73-821b-0b3c519ba4a0"
      },
      "execution_count": 24,
      "outputs": [
        {
          "output_type": "execute_result",
          "data": {
            "text/plain": [
              "[(15740618714089435985, 1, 2)]"
            ]
          },
          "metadata": {},
          "execution_count": 24
        }
      ]
    },
    {
      "cell_type": "code",
      "source": [
        "doc = nlp(s2[3])\n",
        "matcher(doc)"
      ],
      "metadata": {
        "colab": {
          "base_uri": "https://localhost:8080/"
        },
        "id": "9I1vtXaG0hxx",
        "outputId": "c3bcff66-129a-4504-a8b1-469b1f2716a5"
      },
      "execution_count": 25,
      "outputs": [
        {
          "output_type": "execute_result",
          "data": {
            "text/plain": [
              "[(15740618714089435985, 0, 1)]"
            ]
          },
          "metadata": {},
          "execution_count": 25
        }
      ]
    },
    {
      "cell_type": "code",
      "source": [
        "s3 = ['Sofia is learning NLP',\n",
        "         'Eggs are laid by Hens.',\n",
        "         'Mouse is eaten by a black cat.',\n",
        "         'She has done her job productively.']"
      ],
      "metadata": {
        "id": "0LkR0XWq1pfF"
      },
      "execution_count": 27,
      "outputs": []
    },
    {
      "cell_type": "code",
      "source": [
        "doc = nlp(s3[0])\n",
        "for tok in doc:\n",
        "    print(tok.text,tok.dep_)"
      ],
      "metadata": {
        "colab": {
          "base_uri": "https://localhost:8080/"
        },
        "id": "SJjSbQmq1nBX",
        "outputId": "5d84a8bf-7723-4cbd-e9ce-9cfae728582c"
      },
      "execution_count": 28,
      "outputs": [
        {
          "output_type": "stream",
          "name": "stdout",
          "text": [
            "Sofia nsubj\n",
            "is aux\n",
            "learning ROOT\n",
            "NLP dobj\n"
          ]
        }
      ]
    },
    {
      "cell_type": "code",
      "source": [
        "doc = nlp(s3[1])\n",
        "for tok in doc:\n",
        "    print(tok.text,tok.dep_)"
      ],
      "metadata": {
        "colab": {
          "base_uri": "https://localhost:8080/"
        },
        "id": "8PBfRyKV2Eo2",
        "outputId": "4223c63e-49ce-42d4-dcd2-543a468cc86a"
      },
      "execution_count": 29,
      "outputs": [
        {
          "output_type": "stream",
          "name": "stdout",
          "text": [
            "Eggs nsubjpass\n",
            "are auxpass\n",
            "laid ROOT\n",
            "by agent\n",
            "Hens pobj\n",
            ". punct\n"
          ]
        }
      ]
    },
    {
      "cell_type": "code",
      "source": [
        "doc = nlp(s3[2])\n",
        "for tok in doc:\n",
        "    print(tok.text,tok.dep_)"
      ],
      "metadata": {
        "colab": {
          "base_uri": "https://localhost:8080/"
        },
        "id": "MdPEqwy42Lke",
        "outputId": "11f05734-9826-4adf-bcef-f8d384c4a260"
      },
      "execution_count": 30,
      "outputs": [
        {
          "output_type": "stream",
          "name": "stdout",
          "text": [
            "Mouse nsubjpass\n",
            "is auxpass\n",
            "eaten ROOT\n",
            "by agent\n",
            "a det\n",
            "black amod\n",
            "cat pobj\n",
            ". punct\n"
          ]
        }
      ]
    },
    {
      "cell_type": "code",
      "source": [
        "doc = nlp(s3[3])\n",
        "for tok in doc:\n",
        "    print(tok.text,tok.dep_)"
      ],
      "metadata": {
        "colab": {
          "base_uri": "https://localhost:8080/"
        },
        "id": "EAZyVkJK2NCP",
        "outputId": "ffa44bd1-f6a7-4a15-ad95-983bfd961239"
      },
      "execution_count": 31,
      "outputs": [
        {
          "output_type": "stream",
          "name": "stdout",
          "text": [
            "She nsubj\n",
            "has aux\n",
            "done ROOT\n",
            "her poss\n",
            "job dobj\n",
            "productively advmod\n",
            ". punct\n"
          ]
        }
      ]
    },
    {
      "cell_type": "code",
      "source": [
        "doc=nlp('JetAirways cancelled the flight this morning which was already late.')\n",
        "for tok in doc:\n",
        "    print(tok.text,tok.dep_)"
      ],
      "metadata": {
        "colab": {
          "base_uri": "https://localhost:8080/"
        },
        "id": "O-Tg_6D02WzX",
        "outputId": "5316d6d2-27f7-44d2-89f6-03e39fc8fe81"
      },
      "execution_count": 32,
      "outputs": [
        {
          "output_type": "stream",
          "name": "stdout",
          "text": [
            "JetAirways nsubj\n",
            "cancelled ROOT\n",
            "the det\n",
            "flight dobj\n",
            "this det\n",
            "morning npadvmod\n",
            "which nsubj\n",
            "was advcl\n",
            "already advmod\n",
            "late acomp\n",
            ". punct\n"
          ]
        }
      ]
    }
  ]
}