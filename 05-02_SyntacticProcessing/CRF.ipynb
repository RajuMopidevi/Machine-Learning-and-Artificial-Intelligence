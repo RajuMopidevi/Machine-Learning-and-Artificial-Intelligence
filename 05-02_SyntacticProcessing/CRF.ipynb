{
  "nbformat": 4,
  "nbformat_minor": 0,
  "metadata": {
    "colab": {
      "provenance": [],
      "collapsed_sections": [
        "13ziiBZecMUJ"
      ],
      "include_colab_link": true
    },
    "kernelspec": {
      "name": "python3",
      "display_name": "Python 3"
    },
    "language_info": {
      "name": "python"
    }
  },
  "cells": [
    {
      "cell_type": "markdown",
      "metadata": {
        "id": "view-in-github",
        "colab_type": "text"
      },
      "source": [
        "<a href=\"https://colab.research.google.com/github/RajuMopidevi/Machine-Learning-and-Artificial-Intelligence/blob/main/05-02_SyntacticProcessing/CRF.ipynb\" target=\"_parent\"><img src=\"https://colab.research.google.com/assets/colab-badge.svg\" alt=\"Open In Colab\"/></a>"
      ]
    },
    {
      "cell_type": "markdown",
      "metadata": {
        "id": "FuJZ8hS1Gdp0"
      },
      "source": [
        "For this demo, we will use the [MIT Restaurant Corpus](https://groups.csail.mit.edu/sls/downloads/restaurant/) -- a dataset of transcriptions of spoken utterances about restaurants.\n",
        "\n",
        "The dataset has following entity types:\n",
        "\n",
        "* 'B-Rating'\n",
        "* 'I-Rating',\n",
        "* 'B-Amenity',\n",
        "* 'I-Amenity',\n",
        "* 'B-Location',\n",
        "* 'I-Location',\n",
        "* 'B-Restaurant_Name',\n",
        "* 'I-Restaurant_Name',\n",
        "* 'B-Price',\n",
        "* 'B-Hours',\n",
        "* 'I-Hours',\n",
        "* 'B-Dish',\n",
        "* 'I-Dish',\n",
        "* 'B-Cuisine',\n",
        "* 'I-Price',\n",
        "* 'I-Cuisine'\n",
        "\n",
        "Let us load the dataset and see what are we working with."
      ]
    },
    {
      "cell_type": "code",
      "source": [
        "import urllib.request\n",
        "urllib.request.urlretrieve(\"https://raw.githubusercontent.com/RajuMopidevi/Machine-Learning-and-Artificial-Intelligence/main/05-02_SyntacticProcessing/label_test\", \"label_test\")\n",
        "urllib.request.urlretrieve(\"https://raw.githubusercontent.com/RajuMopidevi/Machine-Learning-and-Artificial-Intelligence/main/05-02_SyntacticProcessing/label_train\", \"label_train\")\n",
        "urllib.request.urlretrieve(\"https://raw.githubusercontent.com/RajuMopidevi/Machine-Learning-and-Artificial-Intelligence/main/05-02_SyntacticProcessing/sent_test\", \"sent_test\")\n",
        "urllib.request.urlretrieve(\"https://raw.githubusercontent.com/RajuMopidevi/Machine-Learning-and-Artificial-Intelligence/main/05-02_SyntacticProcessing/sent_train\", \"sent_train\")\n",
        "urllib.request.urlretrieve(\"https://raw.githubusercontent.com/RajuMopidevi/Machine-Learning-and-Artificial-Intelligence/main/05-02_SyntacticProcessing/util.py\", \"util.py\")"
      ],
      "metadata": {
        "colab": {
          "base_uri": "https://localhost:8080/"
        },
        "id": "1ntJcmeofEa9",
        "outputId": "b5e6be1e-c51f-4b88-a936-fe631b7ba107"
      },
      "execution_count": 48,
      "outputs": [
        {
          "output_type": "execute_result",
          "data": {
            "text/plain": [
              "('util.py', <http.client.HTTPMessage at 0x7f50a5110040>)"
            ]
          },
          "metadata": {},
          "execution_count": 48
        }
      ]
    },
    {
      "cell_type": "code",
      "metadata": {
        "id": "Q0FynEFzDrvb"
      },
      "source": [
        "with open('sent_train', 'r') as train_sent_file:\n",
        "  train_sentences = train_sent_file.readlines()\n",
        "\n",
        "with open('label_train', 'r') as train_labels_file:\n",
        "  train_labels = train_labels_file.readlines()\n",
        "\n",
        "with open('sent_test', 'r') as test_sent_file:\n",
        "  test_sentences = test_sent_file.readlines()\n",
        "\n",
        "with open('label_test', 'r') as test_labels_file:\n",
        "  test_labels = test_labels_file.readlines()\n"
      ],
      "execution_count": 49,
      "outputs": []
    },
    {
      "cell_type": "markdown",
      "metadata": {
        "id": "5WkhbGrdGffs"
      },
      "source": [
        "Let us see some example data points."
      ]
    },
    {
      "cell_type": "code",
      "metadata": {
        "colab": {
          "base_uri": "https://localhost:8080/"
        },
        "id": "FVNI3boSFgQ1",
        "outputId": "81e044c0-a17d-4eee-d914-87afde2dff5d"
      },
      "source": [
        "# Print the 6th sentence in the test set i.e. index value 5.\n",
        "print(test_sentences[5])\n",
        "\n",
        "# Print the labels of this sentence\n",
        "print(test_labels[5])"
      ],
      "execution_count": 50,
      "outputs": [
        {
          "output_type": "stream",
          "name": "stdout",
          "text": [
            "any good ice cream parlors around \n",
            "\n",
            "O B-Rating B-Cuisine I-Cuisine I-Cuisine B-Location \n",
            "\n"
          ]
        }
      ]
    },
    {
      "cell_type": "markdown",
      "metadata": {
        "id": "dQSnhug230dr"
      },
      "source": [
        "#Defining Features for Custom NER"
      ]
    },
    {
      "cell_type": "markdown",
      "metadata": {
        "id": "jMwc9lv_3mrW"
      },
      "source": [
        "First, let us install the required modules."
      ]
    },
    {
      "cell_type": "code",
      "metadata": {
        "id": "i9KFfDxN3mWu",
        "colab": {
          "base_uri": "https://localhost:8080/"
        },
        "outputId": "b1c72bb1-2b74-42f0-ffb6-b9b5780ef3cb"
      },
      "source": [
        "# Install pycrf and crfsuit packages using pip command\n",
        "!pip install pycrf\n",
        "!pip install sklearn-crfsuite"
      ],
      "execution_count": 51,
      "outputs": [
        {
          "output_type": "stream",
          "name": "stdout",
          "text": [
            "Looking in indexes: https://pypi.org/simple, https://us-python.pkg.dev/colab-wheels/public/simple/\n",
            "Requirement already satisfied: pycrf in /usr/local/lib/python3.8/dist-packages (0.0.1)\n",
            "Looking in indexes: https://pypi.org/simple, https://us-python.pkg.dev/colab-wheels/public/simple/\n",
            "Requirement already satisfied: sklearn-crfsuite in /usr/local/lib/python3.8/dist-packages (0.3.6)\n",
            "Requirement already satisfied: python-crfsuite>=0.8.3 in /usr/local/lib/python3.8/dist-packages (from sklearn-crfsuite) (0.9.8)\n",
            "Requirement already satisfied: tabulate in /usr/local/lib/python3.8/dist-packages (from sklearn-crfsuite) (0.8.10)\n",
            "Requirement already satisfied: tqdm>=2.0 in /usr/local/lib/python3.8/dist-packages (from sklearn-crfsuite) (4.64.1)\n",
            "Requirement already satisfied: six in /usr/local/lib/python3.8/dist-packages (from sklearn-crfsuite) (1.15.0)\n"
          ]
        }
      ]
    },
    {
      "cell_type": "markdown",
      "metadata": {
        "id": "4Hv6kAL9TMpf"
      },
      "source": [
        "\n",
        "\n",
        "We will now start with computing features for our input sequences."
      ]
    },
    {
      "cell_type": "markdown",
      "metadata": {
        "id": "HqvJ-tAz0MzR"
      },
      "source": [
        "We have defined the following features for CRF model building:\n",
        "\n",
        "- f1 = input word is in lower case; \n",
        "- f2 = last 3 characters of word;\n",
        "- f3 = last 2 characers of word;\n",
        "- f4 = 1; if the word is in uppercase, 0 otherwise;\n",
        "- f5 = 1; if word is a number; otherwise, 0 \n",
        "- f6= 1; if the word starts with a capital letter; otherwise, 0\n"
      ]
    },
    {
      "cell_type": "code",
      "metadata": {
        "id": "3YVm3JTkFiaM"
      },
      "source": [
        "#Define a function to get the above defined features for a word.\n",
        "\n",
        "def getFeaturesForOneWord(sentence, pos):\n",
        "  word = sentence[pos]\n",
        "\n",
        "  features = [\n",
        "    'word.lower=' + word.lower(), # serves as word id\n",
        "    'word[-3:]=' + word[-3:],     # last three characters\n",
        "    'word[-2:]=' + word[-2:],     # last two characters\n",
        "    'word.isupper=%s' % word.isupper(),  # is the word in all uppercase\n",
        "    'word.isdigit=%s' % word.isdigit(),  # is the word a number\n",
        "    'words.startsWithCapital=%s' % word[0].isupper() # is the word starting with a capital letter\n",
        "  ]\n",
        "\n",
        "  if(pos > 0):\n",
        "    prev_word = sentence[pos-1]\n",
        "    features.extend([\n",
        "    'prev_word.lower=' + prev_word.lower(), \n",
        "    'prev_word.isupper=%s' % prev_word.isupper(),\n",
        "    'prev_word.isdigit=%s' % prev_word.isdigit(),\n",
        "    'prev_words.startsWithCapital=%s' % prev_word[0].isupper()\n",
        "  ])\n",
        "  else:\n",
        "    features.append('BEG') # feature to track begin of sentence \n",
        "\n",
        "  if(pos == len(sentence)-1):\n",
        "    features.append('END') # feature to track end of sentence\n",
        "\n",
        "  return features"
      ],
      "execution_count": 52,
      "outputs": []
    },
    {
      "cell_type": "markdown",
      "metadata": {
        "id": "FAS3xt0u-r89"
      },
      "source": [
        "#Computing Features "
      ]
    },
    {
      "cell_type": "markdown",
      "metadata": {
        "id": "wQ_ByE1ladpo"
      },
      "source": [
        "Define a function to get features for a sentence using the already defined 'getFeaturesForOneWord' function"
      ]
    },
    {
      "cell_type": "code",
      "metadata": {
        "id": "KPrh_4F9RCgb"
      },
      "source": [
        "# Define a function to get features for a sentence \n",
        "# using the 'getFeaturesForOneWord' function.\n",
        "def getFeaturesForOneSentence(sentence):\n",
        "  sentence_list = sentence.split()\n",
        "  return [getFeaturesForOneWord(sentence_list, pos) for pos in range(len(sentence_list))]"
      ],
      "execution_count": 53,
      "outputs": []
    },
    {
      "cell_type": "markdown",
      "metadata": {
        "id": "PZwEnrYraqi7"
      },
      "source": [
        "Define function to get the labels for a sentence."
      ]
    },
    {
      "cell_type": "code",
      "metadata": {
        "id": "N7Tt2NncirYD"
      },
      "source": [
        "# Define a function to get the labels for a sentence.\n",
        "def getLabelsInListForOneSentence(labels):\n",
        "  return labels.split()"
      ],
      "execution_count": 54,
      "outputs": []
    },
    {
      "cell_type": "markdown",
      "metadata": {
        "id": "ZHCv5BWRTQb9"
      },
      "source": [
        "Example features for a sentence\n"
      ]
    },
    {
      "cell_type": "code",
      "metadata": {
        "colab": {
          "base_uri": "https://localhost:8080/"
        },
        "id": "1RzuYcYgSc_x",
        "outputId": "a4e65ed7-d0e6-4d31-b29c-701d9cc5c65f"
      },
      "source": [
        "# Apply function 'getFeaturesForOneSentence' to get features on a single sentence which is at index value 5 in train_sentences\n",
        "example_sentence = train_sentences[5]\n",
        "print(example_sentence)\n",
        "\n",
        "features = getFeaturesForOneSentence(example_sentence)\n",
        "features[2]"
      ],
      "execution_count": 55,
      "outputs": [
        {
          "output_type": "stream",
          "name": "stdout",
          "text": [
            "a place that serves soft serve ice cream \n",
            "\n"
          ]
        },
        {
          "output_type": "execute_result",
          "data": {
            "text/plain": [
              "['word.lower=that',\n",
              " 'word[-3:]=hat',\n",
              " 'word[-2:]=at',\n",
              " 'word.isupper=False',\n",
              " 'word.isdigit=False',\n",
              " 'words.startsWithCapital=False',\n",
              " 'prev_word.lower=place',\n",
              " 'prev_word.isupper=False',\n",
              " 'prev_word.isdigit=False',\n",
              " 'prev_words.startsWithCapital=False']"
            ]
          },
          "metadata": {},
          "execution_count": 55
        }
      ]
    },
    {
      "cell_type": "markdown",
      "metadata": {
        "id": "kf6NcY2YdPW2"
      },
      "source": [
        "Get the features for sentences of X_train and X_test and get the labels of Y_train and Y_test data."
      ]
    },
    {
      "cell_type": "code",
      "metadata": {
        "id": "G0hQZN9TSjMb"
      },
      "source": [
        "X_train = [getFeaturesForOneSentence(sentence) for sentence in train_sentences]\n",
        "Y_train = [getLabelsInListForOneSentence(labels) for labels in train_labels]\n",
        "\n",
        "X_test = [getFeaturesForOneSentence(sentence) for sentence in test_sentences]\n",
        "Y_test = [getLabelsInListForOneSentence(labels) for labels in test_labels]"
      ],
      "execution_count": 56,
      "outputs": []
    },
    {
      "cell_type": "markdown",
      "metadata": {
        "id": "i4upm9ar-iKc"
      },
      "source": [
        "#CRF Model Training\n",
        "\n",
        " Now we have all the information we need to train our CRF. Let us see how we can do that."
      ]
    },
    {
      "cell_type": "code",
      "metadata": {
        "id": "Kwm-aTb7hftp"
      },
      "source": [
        "import sklearn_crfsuite\n",
        "\n",
        "from sklearn_crfsuite import metrics"
      ],
      "execution_count": 57,
      "outputs": []
    },
    {
      "cell_type": "markdown",
      "metadata": {
        "id": "EudVs1-uPHFs"
      },
      "source": [
        "We create a CRF object and passtraining data to it. The model then \"trains\" and learns the weights for feature functions."
      ]
    },
    {
      "cell_type": "code",
      "metadata": {
        "id": "XuKjdgGwhM_e"
      },
      "source": [
        "# Build the CRF model.\n",
        "crf = sklearn_crfsuite.CRF(max_iterations=100)\n",
        "try:\n",
        "    crf.fit(X_train, Y_train)\n",
        "except AttributeError:\n",
        "    pass\n"
      ],
      "execution_count": 58,
      "outputs": []
    },
    {
      "cell_type": "markdown",
      "metadata": {
        "id": "13ziiBZecMUJ"
      },
      "source": [
        "#Model Testing and Evaluation \n",
        "The model is trained, let us now see how good it performs on the test data."
      ]
    },
    {
      "cell_type": "code",
      "metadata": {
        "colab": {
          "base_uri": "https://localhost:8080/"
        },
        "id": "E75RH6VujmAs",
        "outputId": "be71acef-8736-4a6f-89e7-8240a80d3802"
      },
      "source": [
        "# Calculate the f1 score using the test data\n",
        "Y_pred = crf.predict(X_test)\n",
        "metrics.flat_f1_score(Y_test, Y_pred, average='weighted')"
      ],
      "execution_count": 59,
      "outputs": [
        {
          "output_type": "execute_result",
          "data": {
            "text/plain": [
              "0.8744335772913924"
            ]
          },
          "metadata": {},
          "execution_count": 59
        }
      ]
    },
    {
      "cell_type": "code",
      "metadata": {
        "colab": {
          "base_uri": "https://localhost:8080/"
        },
        "id": "S8sfl1j-k3jw",
        "outputId": "191fbfaf-8889-4119-e817-098526f122c2"
      },
      "source": [
        "# Print the orginal labels and predicted labels for the sentence  in test data, which is at index value 10.\n",
        "id = 10\n",
        "print(\"Sentence:\",test_sentences[id])\n",
        "print(\"Orig Labels:\", Y_test[id])\n",
        "print(\"Pred Labels:\", Y_pred[id])"
      ],
      "execution_count": 60,
      "outputs": [
        {
          "output_type": "stream",
          "name": "stdout",
          "text": [
            "Sentence: any places around here that has a nice view \n",
            "\n",
            "Orig Labels: ['O', 'O', 'B-Location', 'I-Location', 'O', 'O', 'O', 'B-Amenity', 'I-Amenity']\n",
            "Pred Labels: ['O', 'O', 'B-Location', 'I-Location', 'O', 'O', 'O', 'B-Amenity', 'I-Amenity']\n"
          ]
        }
      ]
    },
    {
      "cell_type": "markdown",
      "metadata": {
        "id": "IxSGnW9bFrxV"
      },
      "source": [
        "#Transitions Learned by CRF"
      ]
    },
    {
      "cell_type": "code",
      "metadata": {
        "id": "AoaKikLDRunC"
      },
      "source": [
        "from util import print_top_likely_transitions\n",
        "from util import print_top_unlikely_transitions"
      ],
      "execution_count": 61,
      "outputs": []
    },
    {
      "cell_type": "code",
      "metadata": {
        "colab": {
          "base_uri": "https://localhost:8080/"
        },
        "id": "4zU4ZHyUSymU",
        "outputId": "222fb379-8d49-4276-aca4-ebe8e4893568"
      },
      "source": [
        "print_top_likely_transitions(crf.transition_features_)"
      ],
      "execution_count": 62,
      "outputs": [
        {
          "output_type": "stream",
          "name": "stdout",
          "text": [
            "B-Restaurant_Name -> I-Restaurant_Name 6.780861\n",
            "B-Location -> I-Location 6.708175\n",
            "B-Amenity -> I-Amenity 6.684825\n",
            "I-Location -> I-Location 6.449733\n",
            "I-Amenity -> I-Amenity 6.185293\n",
            "B-Dish -> I-Dish  5.921328\n",
            "B-Hours -> I-Hours 5.885383\n",
            "I-Restaurant_Name -> I-Restaurant_Name 5.861961\n",
            "B-Cuisine -> I-Cuisine 5.559337\n",
            "I-Hours -> I-Hours 5.434019\n"
          ]
        }
      ]
    },
    {
      "cell_type": "code",
      "metadata": {
        "colab": {
          "base_uri": "https://localhost:8080/"
        },
        "id": "0JgRe2HES0t1",
        "outputId": "22fddd9b-b0af-4a4f-a05f-f572f2222b1f"
      },
      "source": [
        "print_top_unlikely_transitions(crf.transition_features_)"
      ],
      "execution_count": 63,
      "outputs": [
        {
          "output_type": "stream",
          "name": "stdout",
          "text": [
            "B-Price -> B-Location -0.642237\n",
            "I-Location -> B-Dish  -0.727662\n",
            "I-Dish -> B-Cuisine -0.827585\n",
            "I-Price -> B-Location -0.886004\n",
            "I-Hours -> O       -0.889121\n",
            "B-Restaurant_Name -> B-Cuisine -0.943158\n",
            "I-Rating -> O       -0.949635\n",
            "I-Price -> O       -0.951517\n",
            "I-Restaurant_Name -> B-Dish  -1.097983\n",
            "I-Restaurant_Name -> B-Cuisine -1.127921\n"
          ]
        }
      ]
    },
    {
      "cell_type": "code",
      "metadata": {
        "id": "3X1oXlQ3IMlZ"
      },
      "source": [],
      "execution_count": 63,
      "outputs": []
    }
  ]
}