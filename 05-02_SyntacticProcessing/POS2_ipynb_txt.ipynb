{
  "nbformat": 4,
  "nbformat_minor": 0,
  "metadata": {
    "kernelspec": {
      "display_name": "Python 3",
      "language": "python",
      "name": "python3"
    },
    "language_info": {
      "codemirror_mode": {
        "name": "ipython",
        "version": 3
      },
      "file_extension": ".py",
      "mimetype": "text/x-python",
      "name": "python",
      "nbconvert_exporter": "python",
      "pygments_lexer": "ipython3",
      "version": "3.8.3"
    },
    "colab": {
      "provenance": [],
      "include_colab_link": true
    }
  },
  "cells": [
    {
      "cell_type": "markdown",
      "metadata": {
        "id": "view-in-github",
        "colab_type": "text"
      },
      "source": [
        "<a href=\"https://colab.research.google.com/github/RajuMopidevi/Machine-Learning-and-Artificial-Intelligence/blob/main/05-02_SyntacticProcessing/POS2_ipynb_txt.ipynb\" target=\"_parent\"><img src=\"https://colab.research.google.com/assets/colab-badge.svg\" alt=\"Open In Colab\"/></a>"
      ]
    },
    {
      "cell_type": "markdown",
      "metadata": {
        "id": "FXsu8MxUVAKT"
      },
      "source": [
        "## Importing libraries"
      ]
    },
    {
      "cell_type": "code",
      "metadata": {
        "id": "kXr4Cxh2VAKZ"
      },
      "source": [
        "import pandas as pd\n",
        "import numpy as np\n",
        "import os"
      ],
      "execution_count": 2,
      "outputs": []
    },
    {
      "cell_type": "code",
      "metadata": {
        "id": "Eq-7JCT6VAKa"
      },
      "source": [
        "import spacy \n",
        "nlp = spacy.load(\"en_core_web_sm\")"
      ],
      "execution_count": 3,
      "outputs": []
    },
    {
      "cell_type": "markdown",
      "metadata": {
        "id": "ItxQ587VVAKb"
      },
      "source": [
        "### Read reviews data"
      ]
    },
    {
      "cell_type": "code",
      "source": [
        "import urllib.request\n",
        "urllib.request.urlretrieve(\"https://raw.githubusercontent.com/RajuMopidevi/Machine-Learning-and-Artificial-Intelligence/main/05-02_SyntacticProcessing/Samsung.txt\", \"Samsung.txt\")\n",
        "\n"
      ],
      "metadata": {
        "colab": {
          "base_uri": "https://localhost:8080/"
        },
        "id": "2kdOikV_r7DD",
        "outputId": "dcc5f2a0-aa26-449e-bd15-5b236f659026"
      },
      "execution_count": 4,
      "outputs": [
        {
          "output_type": "execute_result",
          "data": {
            "text/plain": [
              "('Samsung.txt', <http.client.HTTPMessage at 0x7f53ee9c8490>)"
            ]
          },
          "metadata": {},
          "execution_count": 4
        }
      ]
    },
    {
      "cell_type": "code",
      "metadata": {
        "id": "q1pr6bbsVAKb"
      },
      "source": [
        "con=open(\"Samsung.txt\",'r', encoding=\"utf-8\")\n",
        "samsung_reviews=con.read()\n",
        "con.close()"
      ],
      "execution_count": 5,
      "outputs": []
    },
    {
      "cell_type": "code",
      "metadata": {
        "id": "f4GyRJMEVAKb",
        "outputId": "6722d867-b67b-4be4-f456-4ae93373d108",
        "colab": {
          "base_uri": "https://localhost:8080/"
        }
      },
      "source": [
        "len(samsung_reviews.split(\"\\n\"))"
      ],
      "execution_count": 6,
      "outputs": [
        {
          "output_type": "execute_result",
          "data": {
            "text/plain": [
              "46355"
            ]
          },
          "metadata": {},
          "execution_count": 6
        }
      ]
    },
    {
      "cell_type": "markdown",
      "metadata": {
        "id": "fU4ZvurwVAKc"
      },
      "source": [
        "### Dataset is a text file where each review is in a new line"
      ]
    },
    {
      "cell_type": "code",
      "metadata": {
        "id": "bPT-wYC2VAKd",
        "outputId": "47936e27-9824-4f9b-8245-180a64b75bd8",
        "colab": {
          "base_uri": "https://localhost:8080/"
        }
      },
      "source": [
        "samsung_reviews.split(\"\\n\")[0:4]"
      ],
      "execution_count": 7,
      "outputs": [
        {
          "output_type": "execute_result",
          "data": {
            "text/plain": [
              "[\"I feel so LUCKY to have found this used (phone to us & not used hard at all), phone on line from someone who upgraded and sold this one. My Son liked his old one that finally fell apart after 2.5+ years and didn't want an upgrade!! Thank you Seller, we really appreciate it & your honesty re: said used phone.I recommend this seller very highly & would but from them again!!\",\n",
              " 'nice phone, nice up grade from my pantach revue. Very clean set up and easy set up. never had an android phone but they are fantastic to say the least. perfect size for surfing and social media. great phone samsung',\n",
              " 'Very pleased',\n",
              " 'It works good but it goes slow sometimes but its a very good phone I love it']"
            ]
          },
          "metadata": {},
          "execution_count": 7
        }
      ]
    },
    {
      "cell_type": "markdown",
      "metadata": {
        "id": "EUi5gE7WVAKd"
      },
      "source": [
        "### Will our hypothesis hold on real world data? `Product features---POS_NOUN`"
      ]
    },
    {
      "cell_type": "code",
      "metadata": {
        "id": "yUx96iRtVAKg"
      },
      "source": [
        "review1=samsung_reviews.split(\"\\n\")[0]\n",
        "review1=nlp(review1)"
      ],
      "execution_count": 8,
      "outputs": []
    },
    {
      "cell_type": "markdown",
      "metadata": {
        "id": "EKt6ZNPnVAKg"
      },
      "source": [
        "### Lets do nlp parse on part of one review in our dataset"
      ]
    },
    {
      "cell_type": "code",
      "metadata": {
        "id": "gOCZxFp_VAKh",
        "outputId": "80b24d35-f9b2-48ae-f318-e3b2fd4b2366",
        "colab": {
          "base_uri": "https://localhost:8080/"
        }
      },
      "source": [
        "for tok in review1[0:10]:\n",
        "    print(tok.text,\"---\",tok.lemma_,\"---\",tok.pos_)"
      ],
      "execution_count": 9,
      "outputs": [
        {
          "output_type": "stream",
          "name": "stdout",
          "text": [
            "I --- I --- PRON\n",
            "feel --- feel --- VERB\n",
            "so --- so --- SCONJ\n",
            "LUCKY --- lucky --- NOUN\n",
            "to --- to --- PART\n",
            "have --- have --- AUX\n",
            "found --- find --- VERB\n",
            "this --- this --- PRON\n",
            "used --- use --- VERB\n",
            "( --- ( --- PUNCT\n"
          ]
        }
      ]
    },
    {
      "cell_type": "markdown",
      "metadata": {
        "id": "xOBlgcu0VAKh"
      },
      "source": [
        "#### Real world data is usually messy, observe the words `found` and `used`"
      ]
    },
    {
      "cell_type": "code",
      "metadata": {
        "id": "yB1t1bPTVAKh"
      },
      "source": [
        "pos = []\n",
        "lemma = []\n",
        "text = []\n",
        "for tok in review1:\n",
        "    pos.append(tok.pos_)\n",
        "    lemma.append(tok.lemma_)\n",
        "    text.append(tok.text)"
      ],
      "execution_count": 10,
      "outputs": []
    },
    {
      "cell_type": "code",
      "metadata": {
        "id": "G3LDkWepVAKi",
        "outputId": "5b099c8e-c743-4d78-9bec-e11dd42c7177",
        "colab": {
          "base_uri": "https://localhost:8080/",
          "height": 206
        }
      },
      "source": [
        "nlp_table = pd.DataFrame({'text':text,'lemma':lemma,'pos':pos})\n",
        "nlp_table.head()"
      ],
      "execution_count": 11,
      "outputs": [
        {
          "output_type": "execute_result",
          "data": {
            "text/plain": [
              "    text  lemma    pos\n",
              "0      I      I   PRON\n",
              "1   feel   feel   VERB\n",
              "2     so     so  SCONJ\n",
              "3  LUCKY  lucky   NOUN\n",
              "4     to     to   PART"
            ],
            "text/html": [
              "\n",
              "  <div id=\"df-7ada64f3-2999-4098-9651-0b5f7fc708de\">\n",
              "    <div class=\"colab-df-container\">\n",
              "      <div>\n",
              "<style scoped>\n",
              "    .dataframe tbody tr th:only-of-type {\n",
              "        vertical-align: middle;\n",
              "    }\n",
              "\n",
              "    .dataframe tbody tr th {\n",
              "        vertical-align: top;\n",
              "    }\n",
              "\n",
              "    .dataframe thead th {\n",
              "        text-align: right;\n",
              "    }\n",
              "</style>\n",
              "<table border=\"1\" class=\"dataframe\">\n",
              "  <thead>\n",
              "    <tr style=\"text-align: right;\">\n",
              "      <th></th>\n",
              "      <th>text</th>\n",
              "      <th>lemma</th>\n",
              "      <th>pos</th>\n",
              "    </tr>\n",
              "  </thead>\n",
              "  <tbody>\n",
              "    <tr>\n",
              "      <th>0</th>\n",
              "      <td>I</td>\n",
              "      <td>I</td>\n",
              "      <td>PRON</td>\n",
              "    </tr>\n",
              "    <tr>\n",
              "      <th>1</th>\n",
              "      <td>feel</td>\n",
              "      <td>feel</td>\n",
              "      <td>VERB</td>\n",
              "    </tr>\n",
              "    <tr>\n",
              "      <th>2</th>\n",
              "      <td>so</td>\n",
              "      <td>so</td>\n",
              "      <td>SCONJ</td>\n",
              "    </tr>\n",
              "    <tr>\n",
              "      <th>3</th>\n",
              "      <td>LUCKY</td>\n",
              "      <td>lucky</td>\n",
              "      <td>NOUN</td>\n",
              "    </tr>\n",
              "    <tr>\n",
              "      <th>4</th>\n",
              "      <td>to</td>\n",
              "      <td>to</td>\n",
              "      <td>PART</td>\n",
              "    </tr>\n",
              "  </tbody>\n",
              "</table>\n",
              "</div>\n",
              "      <button class=\"colab-df-convert\" onclick=\"convertToInteractive('df-7ada64f3-2999-4098-9651-0b5f7fc708de')\"\n",
              "              title=\"Convert this dataframe to an interactive table.\"\n",
              "              style=\"display:none;\">\n",
              "        \n",
              "  <svg xmlns=\"http://www.w3.org/2000/svg\" height=\"24px\"viewBox=\"0 0 24 24\"\n",
              "       width=\"24px\">\n",
              "    <path d=\"M0 0h24v24H0V0z\" fill=\"none\"/>\n",
              "    <path d=\"M18.56 5.44l.94 2.06.94-2.06 2.06-.94-2.06-.94-.94-2.06-.94 2.06-2.06.94zm-11 1L8.5 8.5l.94-2.06 2.06-.94-2.06-.94L8.5 2.5l-.94 2.06-2.06.94zm10 10l.94 2.06.94-2.06 2.06-.94-2.06-.94-.94-2.06-.94 2.06-2.06.94z\"/><path d=\"M17.41 7.96l-1.37-1.37c-.4-.4-.92-.59-1.43-.59-.52 0-1.04.2-1.43.59L10.3 9.45l-7.72 7.72c-.78.78-.78 2.05 0 2.83L4 21.41c.39.39.9.59 1.41.59.51 0 1.02-.2 1.41-.59l7.78-7.78 2.81-2.81c.8-.78.8-2.07 0-2.86zM5.41 20L4 18.59l7.72-7.72 1.47 1.35L5.41 20z\"/>\n",
              "  </svg>\n",
              "      </button>\n",
              "      \n",
              "  <style>\n",
              "    .colab-df-container {\n",
              "      display:flex;\n",
              "      flex-wrap:wrap;\n",
              "      gap: 12px;\n",
              "    }\n",
              "\n",
              "    .colab-df-convert {\n",
              "      background-color: #E8F0FE;\n",
              "      border: none;\n",
              "      border-radius: 50%;\n",
              "      cursor: pointer;\n",
              "      display: none;\n",
              "      fill: #1967D2;\n",
              "      height: 32px;\n",
              "      padding: 0 0 0 0;\n",
              "      width: 32px;\n",
              "    }\n",
              "\n",
              "    .colab-df-convert:hover {\n",
              "      background-color: #E2EBFA;\n",
              "      box-shadow: 0px 1px 2px rgba(60, 64, 67, 0.3), 0px 1px 3px 1px rgba(60, 64, 67, 0.15);\n",
              "      fill: #174EA6;\n",
              "    }\n",
              "\n",
              "    [theme=dark] .colab-df-convert {\n",
              "      background-color: #3B4455;\n",
              "      fill: #D2E3FC;\n",
              "    }\n",
              "\n",
              "    [theme=dark] .colab-df-convert:hover {\n",
              "      background-color: #434B5C;\n",
              "      box-shadow: 0px 1px 3px 1px rgba(0, 0, 0, 0.15);\n",
              "      filter: drop-shadow(0px 1px 2px rgba(0, 0, 0, 0.3));\n",
              "      fill: #FFFFFF;\n",
              "    }\n",
              "  </style>\n",
              "\n",
              "      <script>\n",
              "        const buttonEl =\n",
              "          document.querySelector('#df-7ada64f3-2999-4098-9651-0b5f7fc708de button.colab-df-convert');\n",
              "        buttonEl.style.display =\n",
              "          google.colab.kernel.accessAllowed ? 'block' : 'none';\n",
              "\n",
              "        async function convertToInteractive(key) {\n",
              "          const element = document.querySelector('#df-7ada64f3-2999-4098-9651-0b5f7fc708de');\n",
              "          const dataTable =\n",
              "            await google.colab.kernel.invokeFunction('convertToInteractive',\n",
              "                                                     [key], {});\n",
              "          if (!dataTable) return;\n",
              "\n",
              "          const docLinkHtml = 'Like what you see? Visit the ' +\n",
              "            '<a target=\"_blank\" href=https://colab.research.google.com/notebooks/data_table.ipynb>data table notebook</a>'\n",
              "            + ' to learn more about interactive tables.';\n",
              "          element.innerHTML = '';\n",
              "          dataTable['output_type'] = 'display_data';\n",
              "          await google.colab.output.renderOutput(dataTable, element);\n",
              "          const docLink = document.createElement('div');\n",
              "          docLink.innerHTML = docLinkHtml;\n",
              "          element.appendChild(docLink);\n",
              "        }\n",
              "      </script>\n",
              "    </div>\n",
              "  </div>\n",
              "  "
            ]
          },
          "metadata": {},
          "execution_count": 11
        }
      ]
    },
    {
      "cell_type": "code",
      "metadata": {
        "id": "FEXKFzlPVAKi",
        "outputId": "b0c9857e-e708-4c9e-82e5-1d07740b49e3",
        "colab": {
          "base_uri": "https://localhost:8080/"
        }
      },
      "source": [
        "## Get most frequent lemma forms of nouns\n",
        "nlp_table[nlp_table['pos']=='NOUN']['lemma'].value_counts()"
      ],
      "execution_count": 12,
      "outputs": [
        {
          "output_type": "execute_result",
          "data": {
            "text/plain": [
              "phone      3\n",
              "lucky      1\n",
              "line       1\n",
              "one        1\n",
              "year       1\n",
              "upgrade    1\n",
              "honesty    1\n",
              "seller     1\n",
              "Name: lemma, dtype: int64"
            ]
          },
          "metadata": {},
          "execution_count": 12
        }
      ]
    },
    {
      "cell_type": "markdown",
      "metadata": {
        "id": "x-uR8q-LVAKi"
      },
      "source": [
        "#### It seems possible that if we extract all the nouns from the reviews and look at the top 5 most frequent lemmatised noun forms, we will be able to identify `What people are talking about?`"
      ]
    },
    {
      "cell_type": "markdown",
      "metadata": {
        "id": "QOvqBuwgVAKj"
      },
      "source": [
        "### Lets repeat this experiment on a larger set of reviews"
      ]
    },
    {
      "cell_type": "code",
      "metadata": {
        "id": "RsDUv3X1VAKj"
      },
      "source": [
        "nouns = []\n",
        "for review in samsung_reviews.split(\"\\n\")[0:100]:\n",
        "    doc = nlp(review)\n",
        "    for tok in doc:\n",
        "        if tok.pos_==\"NOUN\":\n",
        "            nouns.append(tok.lemma_.lower())"
      ],
      "execution_count": 13,
      "outputs": []
    },
    {
      "cell_type": "markdown",
      "metadata": {
        "id": "lrVi3UPTVAKj"
      },
      "source": [
        "### Lets add some way of keeping track of time"
      ]
    },
    {
      "cell_type": "code",
      "metadata": {
        "id": "zNhp_45EVAKj",
        "outputId": "36bc3b43-0728-4e27-a21c-354d0978e2f1",
        "colab": {
          "base_uri": "https://localhost:8080/"
        }
      },
      "source": [
        "from tqdm import tqdm\n",
        "nouns = []\n",
        "for review in tqdm(samsung_reviews.split(\"\\n\")[0:1000]):\n",
        "    doc = nlp(review)\n",
        "    for tok in doc:\n",
        "        if tok.pos_==\"NOUN\":\n",
        "            nouns.append(tok.lemma_.lower())\n",
        "pd.Series(nouns).value_counts().head(5)"
      ],
      "execution_count": 14,
      "outputs": [
        {
          "output_type": "stream",
          "name": "stderr",
          "text": [
            "100%|██████████| 1000/1000 [00:14<00:00, 71.05it/s]\n"
          ]
        },
        {
          "output_type": "execute_result",
          "data": {
            "text/plain": [
              "phone      1217\n",
              "battery      92\n",
              "time         92\n",
              "screen       86\n",
              "price        86\n",
              "dtype: int64"
            ]
          },
          "metadata": {},
          "execution_count": 14
        }
      ]
    },
    {
      "cell_type": "code",
      "metadata": {
        "id": "jai2hnfoVAKk",
        "outputId": "0bb53e71-4108-4dd2-baeb-3ad0807007a3",
        "colab": {
          "base_uri": "https://localhost:8080/"
        }
      },
      "source": [
        "len(samsung_reviews.split(\"\\n\"))"
      ],
      "execution_count": 15,
      "outputs": [
        {
          "output_type": "execute_result",
          "data": {
            "text/plain": [
              "46355"
            ]
          },
          "metadata": {},
          "execution_count": 15
        }
      ]
    },
    {
      "cell_type": "markdown",
      "metadata": {
        "id": "94gZ5gxLVAKk"
      },
      "source": [
        "### Did you notice anything? What do you think will be the time taken to process all the reviews?"
      ]
    },
    {
      "cell_type": "code",
      "metadata": {
        "id": "Op_ftvWyVAKk",
        "outputId": "b6eb6926-5216-4a7d-ddcc-b3cb5424a9b8",
        "colab": {
          "base_uri": "https://localhost:8080/"
        }
      },
      "source": [
        "(46355//1000)*17"
      ],
      "execution_count": 16,
      "outputs": [
        {
          "output_type": "execute_result",
          "data": {
            "text/plain": [
              "782"
            ]
          },
          "metadata": {},
          "execution_count": 16
        }
      ]
    },
    {
      "cell_type": "code",
      "metadata": {
        "id": "VDMknUOXVAKl",
        "outputId": "2eca8de8-36bd-4b28-f000-f97bf047dab6",
        "colab": {
          "base_uri": "https://localhost:8080/"
        }
      },
      "source": [
        "782//60"
      ],
      "execution_count": 17,
      "outputs": [
        {
          "output_type": "execute_result",
          "data": {
            "text/plain": [
              "13"
            ]
          },
          "metadata": {},
          "execution_count": 17
        }
      ]
    },
    {
      "cell_type": "markdown",
      "metadata": {
        "id": "1PsJmzrtVAKl"
      },
      "source": [
        "## Summary\n",
        "- POS tag based rule seems to be working well\n",
        "- We need to figure out a way to reduce the time taken to process reviews"
      ]
    },
    {
      "cell_type": "code",
      "metadata": {
        "id": "rf7AFwbiVAKl"
      },
      "source": [
        "nlp=spacy.load('en_core_web_sm',disable=['parser','ner'])"
      ],
      "execution_count": 18,
      "outputs": []
    },
    {
      "cell_type": "code",
      "source": [
        "from tqdm import tqdm\n",
        "nouns = []\n",
        "for review in tqdm(samsung_reviews.split(\"\\n\")[0:1000]):\n",
        "    doc = nlp(review)\n",
        "    for tok in doc:\n",
        "        if tok.pos_==\"NOUN\":\n",
        "            nouns.append(tok.lemma_.lower())\n",
        "pd.Series(nouns).value_counts().head(5)"
      ],
      "metadata": {
        "colab": {
          "base_uri": "https://localhost:8080/"
        },
        "id": "7uSndVdrsKhx",
        "outputId": "181ebbbf-9d8f-477c-f44b-9185d05e4c50"
      },
      "execution_count": 19,
      "outputs": [
        {
          "output_type": "stream",
          "name": "stderr",
          "text": [
            "100%|██████████| 1000/1000 [00:06<00:00, 149.53it/s]\n"
          ]
        },
        {
          "output_type": "execute_result",
          "data": {
            "text/plain": [
              "phone      1217\n",
              "battery      92\n",
              "time         92\n",
              "screen       86\n",
              "price        86\n",
              "dtype: int64"
            ]
          },
          "metadata": {},
          "execution_count": 19
        }
      ]
    }
  ]
}